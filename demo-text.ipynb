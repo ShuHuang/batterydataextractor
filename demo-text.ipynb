{
 "cells": [
  {
   "cell_type": "code",
   "execution_count": 1,
   "id": "99477e83",
   "metadata": {},
   "outputs": [
    {
     "name": "stderr",
     "output_type": "stream",
     "text": [
      "/Users/shu/opt/anaconda3/envs/bde3.8/lib/python3.8/site-packages/transformers/pipelines/token_classification.py:135: UserWarning: `grouped_entities` is deprecated and will be removed in version v5.0.0, defaulted to `aggregation_strategy=\"AggregationStrategy.SIMPLE\"` instead.\n",
      "  warnings.warn(\n"
     ]
    }
   ],
   "source": [
    "from batterydataextractor.doc import Document\n",
    "from batterydataextractor.doc.text import Citation, Abstract"
   ]
  },
  {
   "cell_type": "code",
   "execution_count": 2,
   "id": "1cb8e0d6",
   "metadata": {},
   "outputs": [],
   "source": [
    "files = [\"tests/testpapers/rsc_test1.html\", \"tests/testpapers/rsc_test2.html\", \"tests/testpapers/els_test1.xml\", \"tests/testpapers/els_test2.xml\", \"tests/testpapers/spr_test1.xml\", \"tests/testpapers/spr_test2.xml\", \"tests/testpapers/spr_test3.xml\", ]"
   ]
  },
  {
   "cell_type": "code",
   "execution_count": 3,
   "id": "9bd63859",
   "metadata": {},
   "outputs": [
    {
     "name": "stdout",
     "output_type": "stream",
     "text": [
      "7\n",
      "369\n"
     ]
    }
   ],
   "source": [
    "text = []\n",
    "metas = []\n",
    "for file in files:\n",
    "    f = Document.from_file(file)\n",
    "    elements = f.elements\n",
    "    metas.append(f.metadata[0])\n",
    "    for element in elements[1:-1]:\n",
    "#         if type(element)==Abstract:\n",
    "#             print(element)\n",
    "        if type(element)!=Citation:\n",
    "            text.append(element.text.replace(\"\\n\", \"\"))\n",
    "    text.append(\" \")\n",
    "print(len(metas))\n",
    "print(len(text))"
   ]
  },
  {
   "cell_type": "code",
   "execution_count": 4,
   "id": "99b7999a",
   "metadata": {},
   "outputs": [
    {
     "name": "stdout",
     "output_type": "stream",
     "text": [
      "\n",
      " High-energy density and low-cost sodium–ion batteries are being sought to meet increasing energy demand. Here, R-MnO2 is chosen as a cathode material of sodium–ion batteries owing to its low cost and high energy density. The structural transformation from the tunnel R-MnO2 to the layered NaMnO2 and electrochemical properties during the charge/discharge are investigated at the atomic level by combining XRD and related electrochemical experiments. Na≤0.04MnO2 has a tunnel R-MnO2 phase structure, Na≥0.42MnO2 has a layered NaMnO2 phase structure, and Na0.04−0.42MnO2 is their mixed phase. Mn3+ 3d4[t2gβ3dz2(1)3dx2−y2(0)] in NaMnO2 loses one 3dz2 electron and the redox couple Mn3+/Mn4+ delivers 206 mA h g−1 during the initial charge. The case that the Fermi energy level difference between R-MnO2 and NaMnO2 is lower than that between the layered Na(12-x)/12MnO2 and NaMnO2 makes the potential plateau of R-MnO2 turning into NaMnO2 lower than that of the layered Na(12−x)/12MnO2 to NaMnO2. This can be confirmed by our experiment from the 1st–2nd voltage capacity profile of R-MnO2 in EC/PC (ethylene carbonate/propylene carbonate) electrolyte. The study would give a new view of the production of sustainable sodium battery cathode materials. \n",
      "\n",
      "An economical route based on electrospinning and layer-by-layer (LBL) self-assembly processes has been developed to synthesize unique MoO2-modified TiO2 nanofibers, comprising a core of TiO2 nanofibers and a thin metal-like MoO2 nanolayer. The thickness of the MoO2 nanolayer can be tuned by altering the precursor concentration or the LBL cycles. When evaluated for their lithium-storage properties, the MoO2-modified TiO2 nanofibers exhibit a high discharge capacity of 514.5 mA h g−1 at 0.2 C over 50 cycles and excellent rate capability, demonstrating that enhanced physical and/or chemical properties can be achieved through proper surface modification.\n",
      " The use of phase change materials (PCMs) for cooling lithium-ion batteries is examined in this research. Because of the unique benefits of lithium-ion batteries, their use in electric cars has gotten a lot of attention. The lithium-ion battery is one of the most extensively utilized components as the heart of a hybrid car. These batteries generate a lot of heat while charging or discharging. If the batteries are not correctly handled, their life will be drastically shortened. In this study, a cylindrical battery is submerged in a PCM-filled chamber. Several fins of the same length are placed on the battery. The aim is to find the ideal battery compartment size and fin count to lower maximum battery temperature during the discharging process. COMSOL Multiphysics commercial software is used for the simulations. The results show that the battery with 15 fins has the best PCM melting performance at the beginning of cooling process. After one third of the cooling time, the maximum melting of PCM that is equal to 26.159% takes place. Also, in the entire cooling process, the lowest maximum temperature and the maximum volume fraction of the liquid occur when the number of fins is 9. The battery temperature rises as the number of fins increases beyond nine. Furthermore, an enclosure with the lowest maximum temperature is supplied to enclosure the lithium-ion battery. \n",
      "  The electrochemical properties of a new hydrogen storage alloy Ti3Ni2 have been studied in detail. The results show that the discharge capacity of Ti3Ni2 alloy reaches 384.4 mA h/g (corresponding to Ti3Ni2H3.7) at 353 K and 145.5 mA h/g (corresponding to Ti3Ni2H1.47) at 278 K. At the higher temperature (353 K), two plateaus appear on the discharge curve, and at the lower temperature (278 K) only one plateau. The kinetic property of Ti3Ni2 alloy electrode is poor. The following properties, namely the retention of charge, the activation of alloy, the kinetic property of Ti3Ni2 alloy (including the exchange current, the diffusion coefficient of hydrogen and high-rate dischargeability) can all be improved by increasing the temperature. It can be seen from X-ray diffraction analysis that two phases exist in alloy: namely the cubic Ti2NiH phase with Fe3W3C structure and the cubic TiNiH phase for the alloy cycled in alkaline solution, and the cubic Ti2NiH0.5 phase with Fe3W3C structure and the cubic TiNiH phase for the alloy hydrogenated with gaseous hydrogen.  \n",
      "Improving the anode properties, including increasing its capacity, is one of the basic necessities to improve battery performance. In this paper, high-capacity anodes with alloy performance are introduced, then the problem of fragmentation of these anodes and its effect during the cyclic life is stated. Then, the effect of reducing the size to the nanoscale in solving the problem of fragmentation and improving the properties is discussed, and finally the various forms of nanomaterials are examined. In this paper, electrode reduction in the anode, which is a nanoscale phenomenon, is described. The negative effects of this phenomenon on alloy anodes are expressed and how to eliminate these negative effects by preparing suitable nanostructures will be discussed. Also, the anodes of the titanium oxide family are introduced and the effects of Nano on the performance improvement of these anodes are expressed, and finally, the quasi-capacitive behavior, which is specific to Nano, will be introduced. Finally, the third type of anodes, exchange anodes, is introduced and their function is expressed. The effect of Nano on the reversibility of these anodes is mentioned. The advantages of nanotechnology for these electrodes are described. In this paper, it is found that nanotechnology, in addition to the common effects such as reducing the penetration distance and modulating the stress, also creates other interesting effects in this type of anode, such as capacitive quasi-capacitance, changing storage mechanism and lower volume change.\n",
      "Double-walled core-shell structured Si@SiO2@C nanocomposite has been prepared by calcination of silicon nanoparticles in air and subsequent carbon coating. The obtained Si@SiO2@C nanocomposite demonstrates a reversible specific capacity of about 786 mAh g−1 after 100 cycles at a current density of 100 mA g−1 with a capacity fading of 0.13 % per cycle. The enhanced electrochemical performance can be due to that the double walls of carbon and SiO2 improve the electronic conductivity and enhance the compatibility of electrode materials and electrolyte as a result of accommodating the significant volumetric change during cycles. The interlayer SiO2 may release the mechanical strain and enhance the interfacial adhesion between carbon shell and silicon core.\n",
      "Hydrogen absorption performances of LaNi5 alloy are sensitive to the surface reactions with poisonous gases, such as oxygen, readily forming oxides/hydroxides. In this study, we report the studies on the hydrogen absorption behaviour of AB5-type hydrogen storage alloys, formed by LaNi(5–x)Snx (X = 0.2) followed by electroless Pd deposition. The uncoated and Pd-coated materials were characterized using scanning electron microscopy/energy dispersive spectroscopy (SEM/EDS), atomic absorption spectroscopy (AAS), X-ray diffraction (XRD) and Brunauer–Emmet–Teller. XRD analyses indicated that both LaNi5 and LaNi4.8Sn0.2 alloys crystallize in CaCu5-type crystal structure, while SEM analysis and particle size distribution histograms showed increment in particle size upon Sn incorporation. Palladium particles on the surface of the materials were detected by AAS and EDS analyses. Furthermore, substitution of a small fraction of Ni by Sn leads to an increase in hydrogen absorption capacity even without activation. Moreover, a decrease in hydrogen absorption rate was observed for LaNi4.8Sn0.2 alloy and this was related to an increment in the crystalline unit cell volume. Kinetic curves of Pd-coated alloys show superior absorption kinetics compared to their uncoated counterparts due to high affinity of Pd for hydrogen.\n"
     ]
    }
   ],
   "source": [
    "for file in files:\n",
    "    f = Document.from_file(file)\n",
    "    elements = f.elements\n",
    "    abstract = \"\"\n",
    "    if \"abstract\" in f.metadata[0].serialize():\n",
    "        print(f.metadata[0].serialize()[\"abstract\"])\n",
    "    else:\n",
    "        for element in elements[1:-1]:\n",
    "            if type(element)==Abstract:\n",
    "                print(element.text)"
   ]
  },
  {
   "cell_type": "code",
   "execution_count": 5,
   "id": "28c64d12",
   "metadata": {},
   "outputs": [
    {
     "data": {
      "text/plain": [
       "batterydataextractor.doc.meta.MetaData"
      ]
     },
     "execution_count": 5,
     "metadata": {},
     "output_type": "execute_result"
    }
   ],
   "source": [
    "type(elements[0])"
   ]
  },
  {
   "cell_type": "code",
   "execution_count": 6,
   "id": "d9f240ba",
   "metadata": {},
   "outputs": [
    {
     "data": {
      "text/plain": [
       "'Al L Ni M Shan X Payer JH Wainright JS J. Alloys Compd. 2006 426 400 10.1016/j.jallcom.2006.02.025'"
      ]
     },
     "execution_count": 6,
     "metadata": {},
     "output_type": "execute_result"
    }
   ],
   "source": [
    "elements[-1].text"
   ]
  },
  {
   "cell_type": "code",
   "execution_count": 7,
   "id": "3404b5b8",
   "metadata": {},
   "outputs": [
    {
     "data": {
      "text/plain": [
       "1326"
      ]
     },
     "execution_count": 7,
     "metadata": {},
     "output_type": "execute_result"
    }
   ],
   "source": [
    "len(\"Hydrogen absorption performances of LaNi5 alloy are sensitive to the surface reactions with poisonous gases, such as oxygen, readily forming oxides/hydroxides. In this study, we report the studies on the hydrogen absorption behaviour of AB5-type hydrogen storage alloys, formed by LaNi(5–x)Snx (X = 0.2) followed by electroless Pd deposition. The uncoated and Pd-coated materials were characterized using scanning electron microscopy/energy dispersive spectroscopy (SEM/EDS), atomic absorption spectroscopy (AAS), X-ray diffraction (XRD) and Brunauer–Emmet–Teller. XRD analyses indicated that both LaNi5 and LaNi4.8Sn0.2 alloys crystallize in CaCu5-type crystal structure, while SEM analysis and particle size distribution histograms showed increment in particle size upon Sn incorporation. Palladium particles on the surface of the materials were detected by AAS and EDS analyses. Furthermore, substitution of a small fraction of Ni by Sn leads to an increase in hydrogen absorption capacity even without activation. Moreover, a decrease in hydrogen absorption rate was observed for LaNi4.8Sn0.2 alloy and this was related to an increment in the crystalline unit cell volume. Kinetic curves of Pd-coated alloys show superior absorption kinetics compared to their uncoated counterparts due to high affinity of Pd for hydrogen.\")"
   ]
  },
  {
   "cell_type": "code",
   "execution_count": null,
   "id": "5d62d4b7",
   "metadata": {},
   "outputs": [],
   "source": []
  }
 ],
 "metadata": {
  "kernelspec": {
   "display_name": "Python 3 (ipykernel)",
   "language": "python",
   "name": "python3"
  },
  "language_info": {
   "codemirror_mode": {
    "name": "ipython",
    "version": 3
   },
   "file_extension": ".py",
   "mimetype": "text/x-python",
   "name": "python",
   "nbconvert_exporter": "python",
   "pygments_lexer": "ipython3",
   "version": "3.8.13"
  }
 },
 "nbformat": 4,
 "nbformat_minor": 5
}
