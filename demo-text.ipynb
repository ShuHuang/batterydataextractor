{
 "cells": [
  {
   "cell_type": "code",
   "execution_count": 40,
   "id": "99477e83",
   "metadata": {},
   "outputs": [],
   "source": [
    "from batterydataextractor.doc import Document\n",
    "from batterydataextractor.doc.text import Citation"
   ]
  },
  {
   "cell_type": "code",
   "execution_count": 41,
   "id": "1cb8e0d6",
   "metadata": {},
   "outputs": [],
   "source": [
    "files = [\"tests/testpapers/rsc_test1.html\", \"tests/testpapers/rsc_test2.html\", \"tests/testpapers/els_test1.xml\", \"tests/testpapers/els_test2.xml\", \"tests/testpapers/spr_test1.xml\", \"tests/testpapers/spr_test2.xml\", \"tests/testpapers/spr_test3.xml\", ]"
   ]
  },
  {
   "cell_type": "code",
   "execution_count": 47,
   "id": "9bd63859",
   "metadata": {},
   "outputs": [
    {
     "name": "stdout",
     "output_type": "stream",
     "text": [
      "7\n",
      "369\n"
     ]
    }
   ],
   "source": [
    "text = []\n",
    "metas = []\n",
    "for file in files:\n",
    "    f = Document.from_file(file)\n",
    "    elements = f.elements\n",
    "    metas.append(f.metadata[0])\n",
    "    for element in elements[1:-1]:\n",
    "        if type(element)!=Citation:\n",
    "            text.append(element.text.replace(\"\\n\", \"\"))\n",
    "    text.append(\" \")\n",
    "print(len(metas))\n",
    "print(len(text))"
   ]
  },
  {
   "cell_type": "code",
   "execution_count": 46,
   "id": "99b7999a",
   "metadata": {},
   "outputs": [
    {
     "data": {
      "text/plain": [
       "[{'title': 'Improvement of hydriding kinetics of LaNi5-type metal alloy through substitution of nickel with tin followed by palladium deposition', 'authors': ['Somo', 'Modibane', 'Davids', 'Lototskyy', 'Hato', 'Modibane'], 'publisher': 'Indian Academy of Sciences', 'journal': 'Bulletin of Materials Science', 'date': '20211229', 'volume': '45', 'issue': '1', 'doi': '10.1007/s12034-021-02591-3', 'abstract': 'Hydrogen absorption performances of LaNi5 alloy are sensitive to the surface reactions with poisonous gases, such as oxygen, readily forming oxides/hydroxides. In this study, we report the studies on the hydrogen absorption behaviour of AB5-type hydrogen storage alloys, formed by LaNi(5–x)Snx (X = 0.2) followed by electroless Pd deposition. The uncoated and Pd-coated materials were characterized using scanning electron microscopy/energy dispersive spectroscopy (SEM/EDS), atomic absorption spectroscopy (AAS), X-ray diffraction (XRD) and Brunauer–Emmet–Teller. XRD analyses indicated that both LaNi5 and LaNi4.8Sn0.2 alloys crystallize in CaCu5-type crystal structure, while SEM analysis and particle size distribution histograms showed increment in particle size upon Sn incorporation. Palladium particles on the surface of the materials were detected by AAS and EDS analyses. Furthermore, substitution of a small fraction of Ni by Sn leads to an increase in hydrogen absorption capacity even without activation. Moreover, a decrease in hydrogen absorption rate was observed for LaNi4.8Sn0.2 alloy and this was related to an increment in the crystalline unit cell volume. Kinetic curves of Pd-coated alloys show superior absorption kinetics compared to their uncoated counterparts due to high affinity of Pd for hydrogen.'}]"
      ]
     },
     "execution_count": 46,
     "metadata": {},
     "output_type": "execute_result"
    }
   ],
   "source": [
    "f.metadata"
   ]
  },
  {
   "cell_type": "code",
   "execution_count": null,
   "id": "fee60bac",
   "metadata": {},
   "outputs": [],
   "source": []
  }
 ],
 "metadata": {
  "kernelspec": {
   "display_name": "Python 3",
   "language": "python",
   "name": "python3"
  },
  "language_info": {
   "codemirror_mode": {
    "name": "ipython",
    "version": 3
   },
   "file_extension": ".py",
   "mimetype": "text/x-python",
   "name": "python",
   "nbconvert_exporter": "python",
   "pygments_lexer": "ipython3",
   "version": "3.8.8"
  }
 },
 "nbformat": 4,
 "nbformat_minor": 5
}
