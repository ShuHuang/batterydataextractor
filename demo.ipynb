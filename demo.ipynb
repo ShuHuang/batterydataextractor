{
 "cells": [
  {
   "cell_type": "markdown",
   "id": "9e178797",
   "metadata": {},
   "source": [
    "### Getting started\n",
    "#### Week 24/01/2022"
   ]
  },
  {
   "cell_type": "code",
   "execution_count": 1,
   "id": "7b9d8cc7",
   "metadata": {},
   "outputs": [],
   "source": [
    "from batterydataextractor.doc.document import Document, Paragraph"
   ]
  },
  {
   "cell_type": "code",
   "execution_count": 2,
   "id": "efd68d19",
   "metadata": {},
   "outputs": [],
   "source": [
    "doc = Document('UV-vis spectrum of 5,10,15,20-Tetra(4-carboxyphenyl)porphyrin in Tetrahydrofuran (THF).',\n",
    "              'The mechanism of lithium intercalation in the so-called ‘soft’ anodes, i.e. graphite or graphitable carbons, is well known: it develops through well-identified, reversible stages, corresponding to progressive intercalation within discrete graphene layers, to reach the formation of LiC6 with a maximum theoretical capacity of 372 ± 2.4 mAh g−1.')"
   ]
  },
  {
   "cell_type": "code",
   "execution_count": 3,
   "id": "097dab0a",
   "metadata": {},
   "outputs": [
    {
     "data": {
      "text/plain": [
       "[Paragraph(id=None, references=[], text='UV-vis spectrum of 5,10,15,20-Tetra(4-carboxyphenyl)porphyrin in Tetrahydrofuran (THF).'),\n",
       " Paragraph(id=None, references=[], text='The mechanism of lithium intercalation in the so-called ‘soft’ anodes, i.e. graphite or graphitable carbons, is well known: it develops through well-identified, reversible stages, corresponding to progressive intercalation within discrete graphene layers, to reach the formation of LiC6 with a maximum theoretical capacity of 372 ± 2.4 mAh g−1.')]"
      ]
     },
     "execution_count": 3,
     "metadata": {},
     "output_type": "execute_result"
    }
   ],
   "source": [
    "doc.elements"
   ]
  },
  {
   "cell_type": "code",
   "execution_count": 4,
   "id": "2f61cc95",
   "metadata": {},
   "outputs": [
    {
     "data": {
      "text/html": [
       "<p class=\"bde-paragraph\">UV-vis spectrum of 5,10,15,20-Tetra(4-carboxyphenyl)porphyrin in Tetrahydrofuran (THF).</p>"
      ],
      "text/plain": [
       "Paragraph(id=None, references=[], text='UV-vis spectrum of 5,10,15,20-Tetra(4-carboxyphenyl)porphyrin in Tetrahydrofuran (THF).')"
      ]
     },
     "execution_count": 4,
     "metadata": {},
     "output_type": "execute_result"
    }
   ],
   "source": [
    "para = doc.elements[0]\n",
    "para"
   ]
  },
  {
   "cell_type": "code",
   "execution_count": 5,
   "id": "fdcb0d18",
   "metadata": {},
   "outputs": [
    {
     "data": {
      "text/plain": [
       "[Sentence('UV-vis spectrum of 5,10,15,20-Tetra(4-carboxyphenyl)porphyrin in Tetrahydrofuran (THF).', 0, 87)]"
      ]
     },
     "execution_count": 5,
     "metadata": {},
     "output_type": "execute_result"
    }
   ],
   "source": [
    "para.sentences"
   ]
  },
  {
   "cell_type": "code",
   "execution_count": 6,
   "id": "57c1efe1",
   "metadata": {},
   "outputs": [
    {
     "data": {
      "text/plain": [
       "[[Token('UV', 0, 2),\n",
       "  Token('-', 2, 3),\n",
       "  Token('vis', 3, 6),\n",
       "  Token('spectrum', 7, 15),\n",
       "  Token('of', 16, 18),\n",
       "  Token('5,10,15,20-Tetra(4-carboxyphenyl)porphyrin', 19, 61),\n",
       "  Token('in', 62, 64),\n",
       "  Token('Tetrahydrofuran', 65, 80),\n",
       "  Token('(', 81, 82),\n",
       "  Token('THF', 82, 85),\n",
       "  Token(')', 85, 86),\n",
       "  Token('.', 86, 87)]]"
      ]
     },
     "execution_count": 6,
     "metadata": {},
     "output_type": "execute_result"
    }
   ],
   "source": [
    "para.tokens"
   ]
  },
  {
   "cell_type": "code",
   "execution_count": 8,
   "id": "207dac1b",
   "metadata": {
    "scrolled": true
   },
   "outputs": [
    {
     "ename": "AttributeError",
     "evalue": "'NoneType' object has no attribute 'start'",
     "output_type": "error",
     "traceback": [
      "\u001b[1;31m---------------------------------------------------------------------------\u001b[0m",
      "\u001b[1;31mAttributeError\u001b[0m                            Traceback (most recent call last)",
      "\u001b[1;32m<ipython-input-8-fb6c176d59b4>\u001b[0m in \u001b[0;36m<module>\u001b[1;34m\u001b[0m\n\u001b[1;32m----> 1\u001b[1;33m \u001b[0mdoc\u001b[0m\u001b[1;33m.\u001b[0m\u001b[0mcems\u001b[0m\u001b[1;33m\u001b[0m\u001b[1;33m\u001b[0m\u001b[0m\n\u001b[0m",
      "\u001b[1;32m~\\github\\batterydataextractor\\batterydataextractor\\doc\\document.py\u001b[0m in \u001b[0;36mcems\u001b[1;34m(self)\u001b[0m\n\u001b[0;32m    457\u001b[0m         \u001b[0mA\u001b[0m \u001b[0mlist\u001b[0m \u001b[0mof\u001b[0m \u001b[0mall\u001b[0m \u001b[0mChemical\u001b[0m \u001b[0mEntity\u001b[0m \u001b[0mMentions\u001b[0m \u001b[1;32min\u001b[0m \u001b[0mthis\u001b[0m \u001b[0mdocument\u001b[0m \u001b[1;32mas\u001b[0m \u001b[1;33m:\u001b[0m\u001b[1;32mclass\u001b[0m\u001b[1;33m:\u001b[0m\u001b[0;31m`\u001b[0m\u001b[1;33m~\u001b[0m\u001b[0mbatterydataextractor\u001b[0m\u001b[1;33m.\u001b[0m\u001b[0mdoc\u001b[0m\u001b[1;33m.\u001b[0m\u001b[0mtext\u001b[0m\u001b[1;33m.\u001b[0m\u001b[0mSpan\u001b[0m\u001b[0;31m`\u001b[0m\u001b[1;33m\u001b[0m\u001b[1;33m\u001b[0m\u001b[0m\n\u001b[0;32m    458\u001b[0m         \"\"\"\n\u001b[1;32m--> 459\u001b[1;33m         \u001b[1;32mreturn\u001b[0m \u001b[0mlist\u001b[0m\u001b[1;33m(\u001b[0m\u001b[0mset\u001b[0m\u001b[1;33m(\u001b[0m\u001b[1;33m[\u001b[0m\u001b[0mn\u001b[0m \u001b[1;32mfor\u001b[0m \u001b[0mel\u001b[0m \u001b[1;32min\u001b[0m \u001b[0mself\u001b[0m\u001b[1;33m.\u001b[0m\u001b[0melements\u001b[0m \u001b[1;32mfor\u001b[0m \u001b[0mn\u001b[0m \u001b[1;32min\u001b[0m \u001b[0mel\u001b[0m\u001b[1;33m.\u001b[0m\u001b[0mcems\u001b[0m\u001b[1;33m]\u001b[0m\u001b[1;33m)\u001b[0m\u001b[1;33m)\u001b[0m\u001b[1;33m\u001b[0m\u001b[1;33m\u001b[0m\u001b[0m\n\u001b[0m\u001b[0;32m    460\u001b[0m \u001b[1;33m\u001b[0m\u001b[0m\n\u001b[0;32m    461\u001b[0m     \u001b[1;32mdef\u001b[0m \u001b[0mserialize\u001b[0m\u001b[1;33m(\u001b[0m\u001b[0mself\u001b[0m\u001b[1;33m)\u001b[0m\u001b[1;33m:\u001b[0m\u001b[1;33m\u001b[0m\u001b[1;33m\u001b[0m\u001b[0m\n",
      "\u001b[1;32m~\\github\\batterydataextractor\\batterydataextractor\\doc\\document.py\u001b[0m in \u001b[0;36m<listcomp>\u001b[1;34m(.0)\u001b[0m\n\u001b[0;32m    457\u001b[0m         \u001b[0mA\u001b[0m \u001b[0mlist\u001b[0m \u001b[0mof\u001b[0m \u001b[0mall\u001b[0m \u001b[0mChemical\u001b[0m \u001b[0mEntity\u001b[0m \u001b[0mMentions\u001b[0m \u001b[1;32min\u001b[0m \u001b[0mthis\u001b[0m \u001b[0mdocument\u001b[0m \u001b[1;32mas\u001b[0m \u001b[1;33m:\u001b[0m\u001b[1;32mclass\u001b[0m\u001b[1;33m:\u001b[0m\u001b[0;31m`\u001b[0m\u001b[1;33m~\u001b[0m\u001b[0mbatterydataextractor\u001b[0m\u001b[1;33m.\u001b[0m\u001b[0mdoc\u001b[0m\u001b[1;33m.\u001b[0m\u001b[0mtext\u001b[0m\u001b[1;33m.\u001b[0m\u001b[0mSpan\u001b[0m\u001b[0;31m`\u001b[0m\u001b[1;33m\u001b[0m\u001b[1;33m\u001b[0m\u001b[0m\n\u001b[0;32m    458\u001b[0m         \"\"\"\n\u001b[1;32m--> 459\u001b[1;33m         \u001b[1;32mreturn\u001b[0m \u001b[0mlist\u001b[0m\u001b[1;33m(\u001b[0m\u001b[0mset\u001b[0m\u001b[1;33m(\u001b[0m\u001b[1;33m[\u001b[0m\u001b[0mn\u001b[0m \u001b[1;32mfor\u001b[0m \u001b[0mel\u001b[0m \u001b[1;32min\u001b[0m \u001b[0mself\u001b[0m\u001b[1;33m.\u001b[0m\u001b[0melements\u001b[0m \u001b[1;32mfor\u001b[0m \u001b[0mn\u001b[0m \u001b[1;32min\u001b[0m \u001b[0mel\u001b[0m\u001b[1;33m.\u001b[0m\u001b[0mcems\u001b[0m\u001b[1;33m]\u001b[0m\u001b[1;33m)\u001b[0m\u001b[1;33m)\u001b[0m\u001b[1;33m\u001b[0m\u001b[1;33m\u001b[0m\u001b[0m\n\u001b[0m\u001b[0;32m    460\u001b[0m \u001b[1;33m\u001b[0m\u001b[0m\n\u001b[0;32m    461\u001b[0m     \u001b[1;32mdef\u001b[0m \u001b[0mserialize\u001b[0m\u001b[1;33m(\u001b[0m\u001b[0mself\u001b[0m\u001b[1;33m)\u001b[0m\u001b[1;33m:\u001b[0m\u001b[1;33m\u001b[0m\u001b[1;33m\u001b[0m\u001b[0m\n",
      "\u001b[1;32m~\\github\\batterydataextractor\\batterydataextractor\\doc\\text.py\u001b[0m in \u001b[0;36mcems\u001b[1;34m(self)\u001b[0m\n\u001b[0;32m    301\u001b[0m         \u001b[0mA\u001b[0m \u001b[0mlist\u001b[0m \u001b[0mof\u001b[0m \u001b[0mall\u001b[0m \u001b[0mChemical\u001b[0m \u001b[0mEntity\u001b[0m \u001b[0mMentions\u001b[0m \u001b[1;32min\u001b[0m \u001b[0mthis\u001b[0m \u001b[0mtext\u001b[0m \u001b[1;32mas\u001b[0m \u001b[1;33m:\u001b[0m\u001b[1;32mclass\u001b[0m\u001b[1;33m:\u001b[0m\u001b[0;31m`\u001b[0m\u001b[0mbatterydataextractor\u001b[0m\u001b[1;33m.\u001b[0m\u001b[0mdoc\u001b[0m\u001b[1;33m.\u001b[0m\u001b[0mtext\u001b[0m\u001b[1;33m.\u001b[0m\u001b[0mspan\u001b[0m\u001b[0;31m`\u001b[0m\u001b[1;33m\u001b[0m\u001b[1;33m\u001b[0m\u001b[0m\n\u001b[0;32m    302\u001b[0m         \"\"\"\n\u001b[1;32m--> 303\u001b[1;33m         \u001b[1;32mreturn\u001b[0m \u001b[1;33m[\u001b[0m\u001b[0mcem\u001b[0m \u001b[1;32mfor\u001b[0m \u001b[0msent\u001b[0m \u001b[1;32min\u001b[0m \u001b[0mself\u001b[0m\u001b[1;33m.\u001b[0m\u001b[0msentences\u001b[0m \u001b[1;32mfor\u001b[0m \u001b[0mcem\u001b[0m \u001b[1;32min\u001b[0m \u001b[0msent\u001b[0m\u001b[1;33m.\u001b[0m\u001b[0mcems\u001b[0m\u001b[1;33m]\u001b[0m\u001b[1;33m\u001b[0m\u001b[1;33m\u001b[0m\u001b[0m\n\u001b[0m\u001b[0;32m    304\u001b[0m \u001b[1;33m\u001b[0m\u001b[0m\n\u001b[0;32m    305\u001b[0m     \u001b[1;33m@\u001b[0m\u001b[0mproperty\u001b[0m\u001b[1;33m\u001b[0m\u001b[1;33m\u001b[0m\u001b[0m\n",
      "\u001b[1;32m~\\github\\batterydataextractor\\batterydataextractor\\doc\\text.py\u001b[0m in \u001b[0;36m<listcomp>\u001b[1;34m(.0)\u001b[0m\n\u001b[0;32m    301\u001b[0m         \u001b[0mA\u001b[0m \u001b[0mlist\u001b[0m \u001b[0mof\u001b[0m \u001b[0mall\u001b[0m \u001b[0mChemical\u001b[0m \u001b[0mEntity\u001b[0m \u001b[0mMentions\u001b[0m \u001b[1;32min\u001b[0m \u001b[0mthis\u001b[0m \u001b[0mtext\u001b[0m \u001b[1;32mas\u001b[0m \u001b[1;33m:\u001b[0m\u001b[1;32mclass\u001b[0m\u001b[1;33m:\u001b[0m\u001b[0;31m`\u001b[0m\u001b[0mbatterydataextractor\u001b[0m\u001b[1;33m.\u001b[0m\u001b[0mdoc\u001b[0m\u001b[1;33m.\u001b[0m\u001b[0mtext\u001b[0m\u001b[1;33m.\u001b[0m\u001b[0mspan\u001b[0m\u001b[0;31m`\u001b[0m\u001b[1;33m\u001b[0m\u001b[1;33m\u001b[0m\u001b[0m\n\u001b[0;32m    302\u001b[0m         \"\"\"\n\u001b[1;32m--> 303\u001b[1;33m         \u001b[1;32mreturn\u001b[0m \u001b[1;33m[\u001b[0m\u001b[0mcem\u001b[0m \u001b[1;32mfor\u001b[0m \u001b[0msent\u001b[0m \u001b[1;32min\u001b[0m \u001b[0mself\u001b[0m\u001b[1;33m.\u001b[0m\u001b[0msentences\u001b[0m \u001b[1;32mfor\u001b[0m \u001b[0mcem\u001b[0m \u001b[1;32min\u001b[0m \u001b[0msent\u001b[0m\u001b[1;33m.\u001b[0m\u001b[0mcems\u001b[0m\u001b[1;33m]\u001b[0m\u001b[1;33m\u001b[0m\u001b[1;33m\u001b[0m\u001b[0m\n\u001b[0m\u001b[0;32m    304\u001b[0m \u001b[1;33m\u001b[0m\u001b[0m\n\u001b[0;32m    305\u001b[0m     \u001b[1;33m@\u001b[0m\u001b[0mproperty\u001b[0m\u001b[1;33m\u001b[0m\u001b[1;33m\u001b[0m\u001b[0m\n",
      "\u001b[1;32m~\\github\\batterydataextractor\\batterydataextractor\\utils.py\u001b[0m in \u001b[0;36mfget_memoized\u001b[1;34m(self)\u001b[0m\n\u001b[0;32m     21\u001b[0m     \u001b[1;32mdef\u001b[0m \u001b[0mfget_memoized\u001b[0m\u001b[1;33m(\u001b[0m\u001b[0mself\u001b[0m\u001b[1;33m)\u001b[0m\u001b[1;33m:\u001b[0m\u001b[1;33m\u001b[0m\u001b[1;33m\u001b[0m\u001b[0m\n\u001b[0;32m     22\u001b[0m         \u001b[1;32mif\u001b[0m \u001b[1;32mnot\u001b[0m \u001b[0mhasattr\u001b[0m\u001b[1;33m(\u001b[0m\u001b[0mself\u001b[0m\u001b[1;33m,\u001b[0m \u001b[0mattr_name\u001b[0m\u001b[1;33m)\u001b[0m\u001b[1;33m:\u001b[0m\u001b[1;33m\u001b[0m\u001b[1;33m\u001b[0m\u001b[0m\n\u001b[1;32m---> 23\u001b[1;33m             \u001b[0msetattr\u001b[0m\u001b[1;33m(\u001b[0m\u001b[0mself\u001b[0m\u001b[1;33m,\u001b[0m \u001b[0mattr_name\u001b[0m\u001b[1;33m,\u001b[0m \u001b[0mfget\u001b[0m\u001b[1;33m(\u001b[0m\u001b[0mself\u001b[0m\u001b[1;33m)\u001b[0m\u001b[1;33m)\u001b[0m\u001b[1;33m\u001b[0m\u001b[1;33m\u001b[0m\u001b[0m\n\u001b[0m\u001b[0;32m     24\u001b[0m         \u001b[1;32mreturn\u001b[0m \u001b[0mgetattr\u001b[0m\u001b[1;33m(\u001b[0m\u001b[0mself\u001b[0m\u001b[1;33m,\u001b[0m \u001b[0mattr_name\u001b[0m\u001b[1;33m)\u001b[0m\u001b[1;33m\u001b[0m\u001b[1;33m\u001b[0m\u001b[0m\n\u001b[0;32m     25\u001b[0m     \u001b[1;32mreturn\u001b[0m \u001b[0mproperty\u001b[0m\u001b[1;33m(\u001b[0m\u001b[0mfget_memoized\u001b[0m\u001b[1;33m)\u001b[0m\u001b[1;33m\u001b[0m\u001b[1;33m\u001b[0m\u001b[0m\n",
      "\u001b[1;32m~\\github\\batterydataextractor\\batterydataextractor\\doc\\text.py\u001b[0m in \u001b[0;36mcems\u001b[1;34m(self)\u001b[0m\n\u001b[0;32m    555\u001b[0m             \u001b[1;32mif\u001b[0m \u001b[0mresult\u001b[0m \u001b[1;33m==\u001b[0m \u001b[1;34m'B-CM'\u001b[0m\u001b[1;33m:\u001b[0m\u001b[1;33m\u001b[0m\u001b[1;33m\u001b[0m\u001b[0m\n\u001b[0;32m    556\u001b[0m                 \u001b[0mner_word\u001b[0m \u001b[1;33m=\u001b[0m \u001b[0mraw_tokens\u001b[0m\u001b[1;33m[\u001b[0m\u001b[0mindex\u001b[0m\u001b[1;33m]\u001b[0m\u001b[1;33m\u001b[0m\u001b[1;33m\u001b[0m\u001b[0m\n\u001b[1;32m--> 557\u001b[1;33m                 span = Span(text=raw_tokens[index], start=re.search(ner_word, self.text).start() + self.start,\n\u001b[0m\u001b[0;32m    558\u001b[0m                             end=re.search(ner_word, self.text).end() + self.start)\n\u001b[0;32m    559\u001b[0m                 \u001b[0mspans\u001b[0m\u001b[1;33m.\u001b[0m\u001b[0mappend\u001b[0m\u001b[1;33m(\u001b[0m\u001b[0mspan\u001b[0m\u001b[1;33m)\u001b[0m\u001b[1;33m\u001b[0m\u001b[1;33m\u001b[0m\u001b[0m\n",
      "\u001b[1;31mAttributeError\u001b[0m: 'NoneType' object has no attribute 'start'"
     ]
    }
   ],
   "source": [
    "doc.cems"
   ]
  },
  {
   "cell_type": "code",
   "execution_count": 9,
   "id": "c9120ed3",
   "metadata": {},
   "outputs": [
    {
     "name": "stderr",
     "output_type": "stream",
     "text": [
      "Asking to truncate to max_length but no maximum length is provided and the model has no predefined maximum length. Default to no truncation.\n",
      "F:\\Users\\shuhu\\anaconda3\\lib\\site-packages\\torch\\autocast_mode.py:141: UserWarning: User provided device_type of 'cuda', but CUDA is not available. Disabling\n",
      "  warnings.warn('User provided device_type of \\'cuda\\', but CUDA is not available. Disabling')\n"
     ]
    },
    {
     "data": {
      "text/plain": [
       "[(['DSSCs'], ['Dye', '-', 'sensitized', 'solar', 'cells'], None),\n",
       " (['ZnTPP'], ['Zinc', 'tetraphenylporphyrin'], 'CM')]"
      ]
     },
     "execution_count": 9,
     "metadata": {},
     "output_type": "execute_result"
    }
   ],
   "source": [
    "p = Paragraph(u'Dye-sensitized solar cells (DSSCs) with ZnTPP = Zinc tetraphenylporphyrin.')\n",
    "p.abbreviation_definitions"
   ]
  },
  {
   "cell_type": "code",
   "execution_count": 10,
   "id": "9f59a047",
   "metadata": {},
   "outputs": [],
   "source": [
    "s = p.sentences[0]"
   ]
  },
  {
   "cell_type": "code",
   "execution_count": 11,
   "id": "8e479122",
   "metadata": {},
   "outputs": [
    {
     "data": {
      "text/plain": [
       "Token('Dye', 0, 3)"
      ]
     },
     "execution_count": 11,
     "metadata": {},
     "output_type": "execute_result"
    }
   ],
   "source": [
    "s.tokens[0]"
   ]
  },
  {
   "cell_type": "code",
   "execution_count": 12,
   "id": "af330e43",
   "metadata": {},
   "outputs": [
    {
     "data": {
      "text/plain": [
       "'Dye'"
      ]
     },
     "execution_count": 12,
     "metadata": {},
     "output_type": "execute_result"
    }
   ],
   "source": [
    "s.tokens[0].lex.normalized"
   ]
  },
  {
   "cell_type": "code",
   "execution_count": 13,
   "id": "a51b6b3b",
   "metadata": {},
   "outputs": [
    {
     "data": {
      "text/plain": [
       "False"
      ]
     },
     "execution_count": 13,
     "metadata": {},
     "output_type": "execute_result"
    }
   ],
   "source": [
    "s.tokens[0].lex.is_hyphenated"
   ]
  },
  {
   "cell_type": "markdown",
   "id": "8705a9ee",
   "metadata": {},
   "source": [
    "### Parser"
   ]
  },
  {
   "cell_type": "code",
   "execution_count": 4,
   "id": "c46512ae",
   "metadata": {},
   "outputs": [],
   "source": [
    "from batterydataextractor.nlp import BertCemTagger, CemTagger\n",
    "from transformers import pipeline\n",
    "dt = BertCemTagger()\n",
    "ct = CemTagger()"
   ]
  },
  {
   "cell_type": "code",
   "execution_count": 5,
   "id": "14d99025",
   "metadata": {},
   "outputs": [],
   "source": [
    "question_answerer = pipeline(\"question-answering\", \"batterydata/test1\")"
   ]
  },
  {
   "cell_type": "code",
   "execution_count": 6,
   "id": "d72903c2",
   "metadata": {},
   "outputs": [],
   "source": [
    "def new_parser(name, context):\n",
    "    result = question_answerer(question=\"What is the {}?\".format(name), context=context)\n",
    "    if result['score']>0:\n",
    "        answer = result['answer']\n",
    "    print(\"{}:\".format(name.capitalize()), answer, \" Confidence score:\", result['score'])\n",
    "    return"
   ]
  },
  {
   "cell_type": "code",
   "execution_count": 7,
   "id": "a6e5d464",
   "metadata": {},
   "outputs": [],
   "source": [
    "def new_property_only_parser(name, context):\n",
    "    result = question_answerer(question=\"What is the value of {}?\".format(name), context=context)\n",
    "    if result['score']>0:\n",
    "        answer = result['answer']\n",
    "    print(\"Property value:\", answer, \" Confidence score:\", result['score'])\n",
    "    return"
   ]
  },
  {
   "cell_type": "code",
   "execution_count": 8,
   "id": "2b1ae6b9",
   "metadata": {},
   "outputs": [],
   "source": [
    "def new_property_parser(name, context):\n",
    "    result = question_answerer(question=\"What is the value of {}?\".format(name), context=context)\n",
    "    if result['score']>0:\n",
    "        answer = result['answer']\n",
    "    ner = [(i, 'NN') for i in context.split(\" \")]\n",
    "    materials = ct.tag(ner)\n",
    "    for i in materials:\n",
    "        if i[-1] == 'B-CM':\n",
    "            material = i[0][0]\n",
    "    print(\"Material:\", material, \" Property value:\", answer, \" Confidence score:\", result['score'])\n",
    "    return"
   ]
  },
  {
   "cell_type": "markdown",
   "id": "88869d98",
   "metadata": {},
   "source": [
    "#### Demo"
   ]
  },
  {
   "cell_type": "code",
   "execution_count": 9,
   "id": "e6bdfd52",
   "metadata": {},
   "outputs": [
    {
     "name": "stdout",
     "output_type": "stream",
     "text": [
      "Material: 4-Acetylamino-3-chloro-6-(4-cyano-2,6-difluoro-3-methoxyphenyl)pyridine-2-carboxylic  Property value: 146-147 °C  Confidence score: 0.4786563217639923\n"
     ]
    }
   ],
   "source": [
    "property_name = \"mp\"\n",
    "context = '4-Acetylamino-3-chloro-6-(4-cyano-2,6-difluoro-3-methoxyphenyl)pyridine-2-carboxylic acid: mp 146-147 °C.'\n",
    "new_property_parser(property_name, context)"
   ]
  },
  {
   "cell_type": "code",
   "execution_count": 10,
   "id": "f1ae0f2c",
   "metadata": {},
   "outputs": [
    {
     "name": "stdout",
     "output_type": "stream",
     "text": [
      "Material: poly(azide)  Property value: 282.6  Confidence score: 0.757524847984314\n"
     ]
    }
   ],
   "source": [
    "property_name = \"glass transition temperature\"\n",
    "context = 'The poly(azide) shows a glass transition temperature of 282.6 °C.'\n",
    "new_property_parser(property_name, context)\n",
    "\n",
    "#CDE result: just 282.6, no material"
   ]
  },
  {
   "cell_type": "code",
   "execution_count": 11,
   "id": "44447943",
   "metadata": {},
   "outputs": [
    {
     "name": "stdout",
     "output_type": "stream",
     "text": [
      "Material: dodecyloxy  Property value: Tg:  211°  Confidence score: 0.6190184354782104\n"
     ]
    }
   ],
   "source": [
    "context = 'The four-armed compd. (ANTH-OXA6t-OC12) with the dodecyloxy surface group is a high glass transition temp. (Tg:  211°) material and exhibits good soly.'\n",
    "new_property_parser(property_name, context)"
   ]
  },
  {
   "cell_type": "code",
   "execution_count": 12,
   "id": "ab42a8d3",
   "metadata": {},
   "outputs": [
    {
     "name": "stdout",
     "output_type": "stream",
     "text": [
      "Property value: λabs/nm 320, 380, 475, 529  Confidence score: 1.7138758039436652e-06\n"
     ]
    }
   ],
   "source": [
    "property_name = 'uvvis'\n",
    "context = 'λabs/nm 320, 380, 475, 529;'\n",
    "new_property_only_parser(property_name, context)"
   ]
  },
  {
   "cell_type": "code",
   "execution_count": 13,
   "id": "9ceaaeb2",
   "metadata": {},
   "outputs": [
    {
     "name": "stdout",
     "output_type": "stream",
     "text": [
      "Material: LiC6  Property value: 372 ± 2.4 mAh g−1  Confidence score: 0.34231090545654297\n"
     ]
    }
   ],
   "source": [
    "property_name = 'capacity'\n",
    "context = 'The mechanism of lithium intercalation in the so-called ‘soft’ anodes, i.e. graphite or graphitable carbons, is well known: it develops through well-identified, reversible stages, corresponding to progressive intercalation within discrete graphene layers, to reach the formation of LiC6 with a maximum theoretical capacity of 372 ± 2.4 mAh g−1.'\n",
    "new_property_parser(property_name, context)"
   ]
  },
  {
   "cell_type": "markdown",
   "id": "9771776d",
   "metadata": {},
   "source": [
    "TODO: just definition, material, etc."
   ]
  },
  {
   "cell_type": "code",
   "execution_count": 14,
   "id": "c5374af1",
   "metadata": {},
   "outputs": [
    {
     "name": "stdout",
     "output_type": "stream",
     "text": [
      "Apparatus: FluoroMax-4 spectrofluorimeter  Confidence score: 0.05023842304944992\n",
      "Apparatus: Varian MR-400 MHz instrument  Confidence score: 0.5510933995246887\n"
     ]
    }
   ],
   "source": [
    "property_name = 'apparatus'\n",
    "context1 = 'The photoluminescence quantum yield (PLQY) was measured using a HORIBA Jobin Yvon FluoroMax-4 spectrofluorimeter'\n",
    "context2 = '1H NMR spectra were recorded on a Varian MR-400 MHz instrument.'\n",
    "new_parser(property_name, context1)\n",
    "new_parser(property_name, context2)"
   ]
  },
  {
   "cell_type": "markdown",
   "id": "628f1758",
   "metadata": {},
   "source": [
    "### Springer reader, Parser, Model in BDE\n",
    "#### Week 09/02/2022\n"
   ]
  },
  {
   "cell_type": "code",
   "execution_count": 17,
   "id": "684201b9",
   "metadata": {
    "scrolled": true
   },
   "outputs": [
    {
     "data": {
      "text/plain": [
       "[{'title': 'Nano and Battery Anode: A Review', 'authors': ['Majdi', 'Latipov', 'Borisov', 'Yuryevna', 'Kadhim', 'Suksatan', 'Khlewee', 'Kianfar'], 'publisher': 'Springer US', 'journal': 'Nanoscale Research Letters', 'date': '20211211', 'volume': '16', 'issue': '1', 'doi': '10.1186/s11671-021-03631-x', 'abstract': 'Improving the anode properties, including increasing its capacity, is one of the basic necessities to improve battery performance. In this paper, high-capacity anodes with alloy performance are introduced, then the problem of fragmentation of these anodes and its effect during the cyclic life is stated. Then, the effect of reducing the size to the nanoscale in solving the problem of fragmentation and improving the properties is discussed, and finally the various forms of nanomaterials are examined. In this paper, electrode reduction in the anode, which is a nanoscale phenomenon, is described. The negative effects of this phenomenon on alloy anodes are expressed and how to eliminate these negative effects by preparing suitable nanostructures will be discussed. Also, the anodes of the titanium oxide family are introduced and the effects of Nano on the performance improvement of these anodes are expressed, and finally, the quasi-capacitive behavior, which is specific to Nano, will be introduced. Finally, the third type of anodes, exchange anodes, is introduced and their function is expressed. The effect of Nano on the reversibility of these anodes is mentioned. The advantages of nanotechnology for these electrodes are described. In this paper, it is found that nanotechnology, in addition to the common effects such as reducing the penetration distance and modulating the stress, also creates other interesting effects in this type of anode, such as capacitive quasi-capacitance, changing storage mechanism and lower volume change.'},\n",
       " Heading(id=None, references=[], text='Introduction'),\n",
       " Paragraph(id='Par2', references=[], text='Graphite is a carbon material with a layered structure in which the distance between the layers is about 35.3 Å, in which there is a suitable space between the layers for the placement of lithium atoms [1–4]. During charging, lithium ions are reduced in the anode and converted to lithium atoms, which are placed between the graphite layers. After the arrival of lithium, the distance between the plates reaches 3.5 Å [5–10]. During discharge, the lithium atoms are oxidized to lithium ions and transported through the electrolyte to the cathode. Due to the insertion of lithium atoms in graphite (at the time of charging), these materials are called intercalation anodes [6–14]. According to Fig. 1 in graphite, a maximum of one lithium atom can be stored for every 6 carbon atoms [5]. Because capacity is directly related to the amount of lithium stored, graphite has a lower capacity than lithium metal anodes, but as mentioned earlier, it is used as a commercial anode because it does not have dendritic growth problems. Note that in this article and future articles, the anode and cathode means the active substance in the anode and cathode [6–8]. Due to the low capacity of graphite, anodes with high capacity are required [15–18]. A group of anodes that can store large amounts of lithium atoms are alloy-type anodes made of metal or semiconductors. The function of these anodes is to form an alloy with a metal or semiconductor, thereby storing the lithium atom [19–21]. In this type of material, compared to graphite, where only one lithium atom is stored for every 6 carbon atoms, several lithium atoms can be stored for each metal atom [9–11]. The most important of these anodes are silicon, and antimony. For silicon the capacity is about 4000 mAh/g and for tin the mentioned capacity is 900 mAh/g compared to graphite which has a capacity of about 350 mAh/g. According to Fig. 2, among alloy anodes, silicon has the highest volume and weight capacity, is found in abundance in nature, and the entire electronics industry is based on silicon; Thus, as Fig. 2 shows, silicon is the most important of the alloy anodes [12–15]. Therefore, most of the material in this article is about silicon, but the principles mentioned can be generalized to other alloy anodes. Active anode material, Theoretical capacity, Advantages and study results are presented in Table 1.'),\n",
       " Paragraph(id='Fig1', references=[], text='Shows how lithium is stored in graphite. For every 6 carbon atoms, 1 lithium atom is stored [12]'),\n",
       " Paragraph(id='Fig2', references=[], text='Types of anodes with capacity [13–15]'),\n",
       " Paragraph(id='Tab1', references=[], text='Research on active anode material, theoretical capacity, advantages'),\n",
       " Heading(id=None, references=[], text='Problems of Alloy Anodes'),\n",
       " Paragraph(id='Par3', references=[], text='In these anodes, the storage and release of lithium is accompanied by a large volume change that can reach up to 400% of the initial volume, as shown in Fig.\\xa03. During the work cycle, due to the stresses caused by volume change, the phenomenon of pulverization of active substances occurs [7, 10, 39, 40]. Fragmentation causes the connection between the active material itself, between the active conductive–additive material and between the active-collecting active substance to be cut off [18–20]. When this phenomenon occurs, the active substance is electrically isolated; therefore, electron transfer does not take place to carry out the oxidation reaction. Therefore, a large volume of active ingredients remains unused and do not participate in capacity, and ultimately this causes a sharp drop in capacity during the work cycle [21, 41, 42]. Figure\\xa03 shows the crushing phenomenon. Unfortunately, Fig.\\xa03 does not show the entire structure of the anode electrode. In fact, in a conventional electrode, micron particles of active materials are used along with binders and carbon conductive materials, etc. [43–46]. Which is broken if the electronic connections mentioned above are broken. Figure\\xa04 shows the charge and discharge curves for silicon particles measuring 10 microns. It can be seen that the capacity even at the first discharge is only 800\\xa0mAh/g (compared to the initial 4000 charged). In graphite, on the other hand, capacity decreases by only 0.03 per work cycle. These anodes have a higher voltage than graphite (according to the formula stated earlier, the higher the anode voltage, the lower the battery voltage) [10, 21, 39]. For example, silicon has a voltage of 0.3 to 0.4 higher than lithium, while in graphite the voltage is about 0.05\\xa0V higher than lithium, but silicon and other alloy anodes have such a high capacity that the voltage does not have a significant effect, and the energy is significantly higher than graphite.'),\n",
       " Paragraph(id='Fig3', references=[], text='Pulverization and disconnection of its electrical connection [10]'),\n",
       " Paragraph(id='Fig4', references=[], text='Charging and discharging diagram for 10-micron silicon particles [17]'),\n",
       " Heading(id=None, references=[], text='Nanotechnology Solution'),\n",
       " Paragraph(id='Par4', references=[], text='Battery performance can be improved if the shredding phenomenon can be prevented in some way. Research has shown that when the dimensions of silicon reach the nanometer range (less than 150\\xa0nm), the crushing phenomenon no longer occurs [47–50]. Figure\\xa05 shows the TEM image of silicon nanoparticles during lithium ionization. These two particles change volume due to the entry of lithium, but do not break under stress [7, 18, 40]. This shows that in order to use the extraordinary capacity of silicon, we must inevitably go to the nanoscale [51–53]. If nanoparticles are used, the problem of fragmentation is solved, but they are not normally connected to the electron supply. Therefore, for the first time, the researchers used silicon nanowires grown vertically on a current collector as shown in Fig.\\xa06 (SEM image). In this way, the problem of crushing can be solved, because there is enough space between the nanowires to change the volume of each nanowire during the duty cycle without generating extensive stress, the diameter of each nanowire is also less than the critical dimension [19–22, 30, 54–56]. As it is known, after alloying (entry of lithium), the width of the nanowires increased and the side walls became textured, and although there was a large volume change, no fragmentation occurred [57]. In nanowires, electron transfer (communication between the current collector and the active substance) takes place through the length of the nanowires. Since the electron transfer is good, the full capacity of the silicon active material can be used [31, 32, 35–37]. Nanowires have a higher electrolyte bond season than bulk material [41–43]. Due to the fact that the oxidation reaction takes place through the electrode–electrolyte interface, the speed of the reactions also increases. on the other hand, because nanowires have small dimensions compared to the bulk material that ions have to travel longer distances, ion transfer through lateral dimensions is easy. Faster ion transfers and oxidation reactions increase power and even energy, because ion transfer (sometimes in addition to electron transfer) is a potential loss (concentration polarization) of both the anode and cathode electrodes of a lithium battery, this polarization decreases as the penetration distance decreases and the energy density improves [44–46]. Finally, because silicon is a semiconductor, it has less electron conductivity than graphite, which is a metalloid [33, 38, 58].'),\n",
       " Paragraph(id='Fig5', references=[], text='TEM image of silicon nanoparticles during lithium ionization progressed from a to h it lithium ionization, respectively [19]'),\n",
       " Paragraph(id='Fig6', references=[], text='SEM image of silicon nanoparticles during lithium [20]'),\n",
       " Heading(id=None, references=[], text='Different Nano Morphologies'),\n",
       " Paragraph(id='Par5', references=[], text='It has been shown that using silicon nanotubes instead of nanowires is more effective. In nanotubes, the necessary space is provided for volume change on both sides of the inner and outer walls [34, 59–61]. In addition, nanotubes are usually thinner than nanowires, so transmitters are better, because silicon is a semiconductor and is also amorphous during the duty cycle due to stresses, it does not conduct well electronically during the duty cycle [47, 48, 54]. As a result, electrons do not flow well in all parts of the silicon. Hybrid nanostructures can be used to solve this problem, for example a silicon nanotube whose core contains conductive materials or vice versa has a conductive coating [62–66]. A comparison between the two categories of uncoated and carbon-coated silicon nanowires has shown that carbon-coated nanowires maintain considerable capacity. Another solution is to use nanocomposite anodes [49–51]. One of the most widely used materials in nanocomposites in the role of stress modulator (buffer) is carbon. For example, carbon nanocomposite in the field of carbon is one of the solutions to the stress problem. Figure\\xa07 shows a Tin–carbon nanocomposite. Tin acts as an active ingredient as an alloy anode. Carbon in this nanocomposite acts as both a buffer and a conductor, and in addition to their various carbon structures, they can store some lithium. As shown in Fig.\\xa07, the tin capacity is less than the theoretical capacity (900\\xa0mAh/g) due to the presence of carbon, but has a good cycle life. Maintains well up to 1000 working cycles [52, 67–70].'),\n",
       " Paragraph(id='Fig7', references=[], text='TEM image and life cycle curve of tin nanocomposite in carbon, dark tin nanoparticles are marked [54]'),\n",
       " Paragraph(id='Par6', references=[], text='The question may arise in the mind of the reader as to why other alloy anodes are being explored, given that silicon has a much higher capacity than other alloy anodes [71–73]. The answer that is given and can be generalized to the whole collection of nanotechnology and battery articles is that because nanomaterials are synthesized in different ways and with different morphologies (shapes) in different ways [74–78]. Each synthesis method is different from the discussion of price, quality, safety, scalability, environmental effects, etc.; for example, metals cannot be prepared with the sol–gel method, which is a simple method [79–81]. Even for a specific material such as silicon, one-dimensional nanomaterials, such as nanofibers, can be produced by electrospinning, which is a mass-produced method, in the form of nanowires by the expensive chemical vapor deposition method, another method for laboratory testing [22, 52–54]. Nanowires can be fabricated by silicon etching. In the latter method, the crystalline direction and doping can be easily controlled, and the effect of different dopants and crystalline directions on lithium storage can be determined [23, 82–88]. Even a nanomaterial with a specific shape and composition can be used in different ways and even in a specific method, different reactants can be used with different temperature conditions, etc., each of which may have different results in terms of price, safety and since the key to commercialization other than investing is to find the right production method by considering the factors listed above, so there is an inseparable link between production and performance in batteries and very good and appropriate articles Available in connection with the synthesis method [30, 31, 56, 57, 89–92]. In addition to one-dimensional nanostructures (nanowires and nanotubes), efforts have been made to use zero-dimensional nanostructures (nanoparticles) (as a good nanoparticle are easier to synthesize than nanowires). The problem with nanoparticles is that on the one hand it is not possible to easily make a connection between the nanoparticles themselves and on the other hand between them and the conductive and collecting material [32, 35, 36]. For example, Fig.\\xa08a shows that the primary nanoparticles (left of the image) increase in volume after absorbing lithium during charging, and after a few cycles, disconnect the electron connection when it returns to its original state without lithium [3, 24, 93–95]. In the usual method of preparing the anode (also the cathode), the powder of the active substance (here silicon) is used together with the conductive carbon (to improve the conductivity) and the PDVF binder (for the bonding of the particles) shown in Fig.\\xa08b. According to Figure b, because the silicon nanoparticles change volume, after returning to another initial state, the electrical connection between the nanoparticles, the carbon conductive material is lost, the capacity is reduced. To solve the above problem in the method shown in Figure c, amorphous silicon, which also has a stress-modulating role, is used as an adhesive to bond silicon nanoparticles so that the electrical connection is no longer interrupted and the capacity will remain [25, 37, 38, 96, 97]. In another method, nanoparticles in the field of polyaniline conductive polymer, which have both a modulating and electron conducting role, have been prepared and observed to have a good cycle life of 1000 while maintaining a capacity of 1600\\xa0mAh/g. In comparison, the PVDF binder method loses more than 50% of its capacity in 100 working cycles. Another way to solve the problem is hollow nanostructures. In this method, the necessary empty space is provided during the entry and exit of lithium through a hollow volume [26, 27, 33, 58, 59]. The finite element method shows that in the same volume, the hollow structure undergoes less stress during the work cycle, so they have better resistance to the crushing phenomenon (Fig.\\xa09).'),\n",
       " Paragraph(id='Fig8', references=[], text='a Shows how the electrical relationship of nanoparticles with the current collector is broken, b shows another type of disconnection, silicon nanoparticles in orange and carbon in black and PDVF polymer chains are shown in green. c Use amorphous silicon adhesive to bond nanoparticles even after deformation [47].'),\n",
       " Paragraph(id='Fig9', references=[], text='Hollow nanoparticles to solve the volume change problem [48]'),\n",
       " Heading(id=None, references=[], text='Electrolyte Decomposition in the Anode'),\n",
       " Paragraph(id='Par7', references=[], text='As we know, any substance is stable in a potential range and undergoes a reduction or oxidation process more or less within this range [28, 98, 99]. That is why we can decompose (electrolyze) water to produce hydrogen and oxygen. These cells are the opposite of galvanic cells (batteries), called electrolyte cells. In these cells, unlike the battery, we give energy to force a reaction that is not thermodynamically desirable [60].'),\n",
       " Paragraph(id='Par8', references=[], text='When charging the battery, just like decomposing water, we give energy to the battery through the charger to reverse the reaction that took place in the battery and return the battery to its pre-discharged state [100–104]. The organic electrolyte used in lithium-ion batteries (such as water electrolysis) changes as a result of the energy from the charger. As mentioned, in a lithium-ion battery, at the negative pole (graphite anode), lithium-ion reduction occurs during charging. Due to the fact that the tendency to electrolyte reduction is thermodynamically higher than lithium ion, so electrolyte reduction is done instead of lithium ion reduction. This causes a solid layer to form on the graphite surface. This solid layer is called SEI (solid electrolyte interface). The composition of this layer is complex and a mixture of several chemicals. Figure\\xa010 shows a schematic of this layer. As can be seen from the figure, the composition of this substance contains lithium ions and carbon; therefore, the formation of this layer is accompanied by a decrease in lithium, which reduces the capacity in the first charge [34, 61]. This layer of thickness is in the nanometer range as shown in Fig.\\xa010. The formation of the SEI layer itself limits the continuation of the electrolyte reduction reaction, because it prevents the electrolyte molecules from reaching the graphite anode surface as a physical barrier. In fact, it acts as a kinetic inhibitor (like the passive layer of aluminum oxide, which prevents oxygen from reaching the lower aluminum and prevents the rest of the aluminum from oxidizing). On the other hand, because it is an electron insulator, it also prevents the electron from reaching the electrolyte [62–65]. Therefore, neither the electron can reach the electrolyte molecule nor the electrolyte molecule can move towards the electron in the anode, both of which cause the electrolyte to regenerate and have a self-limiting reaction. Fortunately, this layer is permeable to lithium ions, and lithium ions can pass through it to the anode surface, capture electrons, and regenerate [105–108]. This layer reduces battery power as it increases the penetration distance of the lithium ion to reach the anode [109–111].'),\n",
       " Paragraph(id='Fig10', references=[], text='Schematic of SEI formation and composition of this layer [66]'),\n",
       " Paragraph(id='Par9', references=[], text='Figure\\xa011 shows the range of electrolyte stability against the potential of anodes and cathodes. If the cathode has a potential higher than the electrolyte stability range, the electrolyte is oxidized at the cathode and during charging, and also if the anode has a lower potential than the stability range, it is regenerated at the anode and during electrolyte charging. Fortunately, as shown in Fig.\\xa011, conventional cathodes do not have the problem of electrolyte instability, but in graphite and silicon anodes there is instability and SEI is formed [66–68].'),\n",
       " Paragraph(id='Fig11', references=[], text='Shows the voltage of common anodes and cathodes and the range of electrolyte stability potential and the potential range of SEI formation [67]'),\n",
       " Heading(id=None, references=[], text='SEI Problem in Silicon'),\n",
       " Paragraph(id='Par10', references=[], text='In general, for anodes less than one volt relative to lithium metal, the electrolyte is unstable and SEI is formed. Hence, SEI is formed in the silicon anode, which has a potential of 0.3 to 0.4 higher than lithium [112–115]. Unfortunately, because silicon changes volume and breaks down, new levels of silicon are exposed to the electrolyte, so the electron reaches the electrolyte and a new SEI is formed on these new surfaces. As a result, capacity is constantly reduced during work cycles. It is necessary to say this, because tests are often performed on lithium metal, voltages relative to lithium are measured in all battery articles [69]. In silicon nanomaterials, because of the higher chemical activity, it is even more susceptible to the formation of SEI. In the case of nanomaterials, it is true that they do not break down, but they do change volume. According to Fig.\\xa012, this volume change causes SEI to grow continuously and we see the disadvantages of SEI growth, such as reduced capacity and power, and so on. Figure\\xa013 of section a better illustrates the reason for SEI growth in nanomaterials. If we have the cross section of a nanowire (or nanoparticles, etc.) in the initial state without lithium, shown on the left side of the figure, during charging, because the silicon is lithium-containing, its volume increases and due to electrolyte instability at the same time an SEI layer is formed on the nanowire [116–119]. Now during discharge, the lithium comes out and the particle shrinks while the SEI does not shrink. This causes the SEI to crumble under stress (or even in the second stage of silicon enlargement under lithium ionization, at which point stress occurs and the SEI crumbles because the exact boundary between the SEI and the particle does not exactly match). Therefore, when recharging (lithium ionization), a new SEI layer is formed again. Repetition of this cycle leads to continuous SEI growth and we have problems with its growth, while in graphite SEI would not grow without a slight change in its volume. It should be noted that what has been said about SEI and silicon also applies to other alloy anodes [70, 120–123]. As seen in section b, this problem also exists for silicon nanotubes, but if we can somehow prevent the silicon from coming into contact with the electrolyte from the beginning and changing its volume in the vicinity of the electrolyte, this problem will be solved.'),\n",
       " Paragraph(id='Fig12', references=[], text='How the SEI layer grows [19]'),\n",
       " Paragraph(id='Fig13', references=[], text='Shows the growth of SEI in different conditions [20]'),\n",
       " Paragraph(id='Par11', references=[], text='Wu et al. [18] used a mechanical locking layer as shown in Fig.\\xa013c; this layer, which is made of silicon oxide, prevents the change in the outer volume of the nanotubes due to its mechanical strength. Thus a stable SEI is formed without changing the volume (a stable SEI layer like graphite). This oxide layer is the conductor of lithium ions so it does not cause a problem to react. The necessary space for volume change is also provided through the inner wall of the nanotube. So there is no problem of crushing. Because the study showed that the electrolyte does not penetrate into the nanotube, there is no contact between the electrolyte and the inner wall of the nanotube. All these advantages make it offer a long cycle life and good power. Figure\\xa014 (shown in this figure with DWSiNT) shows part of the deep discharge cycles of this sample. In deep discharge, the cycle life is always reduced faster. However, it is observed that after 900 cycles, the prepared sample still has a good capacity, but the normal nanotube and nanowire samples lose their capacity rapidly. Discharged) For the plotted sample, it shows that the capacity maintains its capacity even after this relatively high C rate even at up to 6000 open cycles. In another example [19], a core–shell structure is prepared, as shown in Fig.\\xa015c, a carbon coating is used with silicon nanoparticles inside the carbon coating. The thickness of the carbon coating is in the range of 10\\xa0nm and includes 100\\xa0nm silicon particles. The carbon shell is provided with enough space to easily change the volume of the silicon nanoparticle, as shown in Figure c. On the other hand, silicon nanoparticles are attached to the carbon shell from one point, so electron and ionic transitions take place in it, because carbon is in the vicinity of the electrolyte and not silicon, like graphite, a stable SEI is formed without crushing because the change in volume of silicon is not transferred to carbon and from carbon to SEI, so similar to the figure in Fig.\\xa012, it has a long cycle life. If we use silicon nanoparticles normally, in addition to the SEI problem, as we saw in the previous article and Figure a, it shows that there is no empty space between the silicon nanoparticles to change the volume, so there is stress between the particles when they change volume, but when Using this hollow structure (Figure b) there is no longer any stress between the particles.'),\n",
       " Paragraph(id='Fig14', references=[], text='a Comparison between the cycle life of black, blue and red for oxide-coated, b oxide-free and non-oxide nanotubes, respectively [21]'),\n",
       " Paragraph(id='Fig15', references=[], text='a Display of electrodes made of silicon nanoparticles. b Electrode display made of silicon nanoparticles with carbon coating and hollow structure. c The structure of the core-hollow shell used in b, the silicon is inside the hollow carbon and its volume change is observed during lithium ionization [10]'),\n",
       " Paragraph(id='Par12', references=[], text='This anode has other advantages in addition to the SEI problem, compared to the sample in Fig.\\xa012. One advantage of nanoparticle synthesis advantages over nanotubes, and more importantly, the use of nanoparticles compared to nanowires, is well compatible with the slurry method, which is the conventional method of preparing electrodes in batteries.'),\n",
       " Heading(id=None, references=[], text='Introducing LTO Anode'),\n",
       " Paragraph(id='Par13', references=[], text='So far, we have talked about two types of graphite anodes and alloy (silicon) anodes. Another anode that is very popular is the anode with Li4Ti5O12 compound, which is called LTO for short. This anode is like intercalation graphite [29, 124–127]. Figure\\xa016 shows the structure and reaction of this type of anode. The LTO anode has a limited capacity of 175\\xa0mAh/g (compared to 300 graphite and 4000 silicon). The voltage of this anode is also about 1.5\\xa0V compared to lithium metal according to Fig.\\xa017 (the lower the anode voltage, the higher the battery voltage). This high voltage and low capacity both make this anode have very low energy, but it is still one step ahead of silicon in commercial terms. One of the most important features of this anode is the safety issue, because in electric vehicles there are unpredictable conditions, and the other is the long cycle life, and finally its power [72, 73, 128–130].'),\n",
       " Paragraph(id='Fig16', references=[], text='Shows the structure and entry of lithium ion in LTO along with its reaction [74]'),\n",
       " Paragraph(id='Fig17', references=[], text='a Displays the nanostructure discussed including Nano primary nanoparticles, b charge–discharge curve for ordinary micro particles, and c for a-shaped particles [74]'),\n",
       " Paragraph(id='Par14', references=[], text='Due to the fact that the voltage of this anode is high, it is in the range of electrolyte stability according to Fig.\\xa017, so SEI is not formed. On the other hand, as shown in Fig.\\xa017, there is enough space for lithium ions in this composition and it does not change volume, while even in graphite, some volume change is seen due to the entry and exit of lithium. Unlike the previous two anodes, lithium ions (not lithium atoms) are stored in this anode, and the oxidation reaction is due to the conversion of titanium to 3-valent titanium, not to a change in lithium capacity [28, 74, 75, 131].'),\n",
       " Paragraph(id='Par15', references=[], text='This battery, because it has neither SEI nor volume change, maintains the capacity well and has a very long cycle life (more than graphite) of about 20,000 cycles. Because it is an oxide compound and is very safe due to the lack of volume change. Because it does not have SEI, its power is not bad either, only its lithium ion diffusion coefficient is low and its electron conductivity is poor. To solve this problem, they provide LTO nanostructures. Because this anode did not have SEI from the beginning, when it becomes Nano, it does not have the problem of forming more SEI, so it does not have more nanomaterial activity [32, 35–37].'),\n",
       " Paragraph(id='Par16', references=[], text='It has been observed that nanoparticles cause the LTO anode to charge and discharge within 5\\xa0min (12C). To prepare the nanostructure, first titanium oxide nanostructure is prepared and then reacted with a lithium source material when heated. This is also an advantage of LTO, as the preparation of TiO2 nanostructures is very popular. Due to the problem of low volumetric density and agglomeration of nanomaterials, micron secondary particles made from nanoscale primary particles are more useful [33, 38, 58, 59].'),\n",
       " Paragraph(id='Par17', references=[], text='Figure\\xa017 shows part an of this nanostructure. As can be seen, from the controlled community of smaller particles measuring 10\\xa0nm, larger micron particles are formed. According to the comparison of parts b and c in Fig.\\xa017, it is quite clear that this nanostructure is superior to ordinary micron particles, because it has less capacity and potential (especially in discharge). From this nanostructured anode, a battery is made and it is observed that this battery is superior to the battery with graphite anode both in terms of cycle life and power, which is not given due to the brevity of these curves [75]. The benefits of Nano-LTO have been well documented in many articles, but what makes it stand out is an important discussion of proper engineering of the structure, proper synthesis method, and how to use the conductive material to improve conductivity for further improvement. The future will be talked about. In addition, it is not disputed that nanotechnology is useful for LTO, but many of the phenomena that occur at the nanoscale for LTO are discussed so that some are not fully understood.'),\n",
       " Paragraph(id='Par18', references=[], text='Another phenomenon that occurs at the nanoscale is the change in charge–discharge curves for the LTO anode. This anode provides a constant voltage over a wide range of capacities (red box in Fig.\\xa018). When LTO ions are Nano, the constant voltage range decreases until after a critical limit (in the range of a few nanometers) there is no longer a constant voltage range [76].'),\n",
       " Paragraph(id='Fig18', references=[], text='Shows the linear curve range at the LTO anode in the charge–discharge axis [75]'),\n",
       " Paragraph(id='Par19', references=[], text='One of the things that happens on the surface is the insertion of more lithium ions into the surface layers. In the surface after insertion, we reach the formula Li8.5Ti5O12, which is 1.5\\xa0mol more than the inner layers with the formula Li7Ti5O1, but in the micron material, because the percentage of surface is not high, it shows its effect, but for Nano, because the amount of surface is large, the effects are large. There are several on the charge–discharge curve.'),\n",
       " Heading(id=None, references=[], text='TiO2 Anode'),\n",
       " Paragraph(id='Par20', references=[], text='There is also a TiO2 anode from the LTO family. These anodes are easier to synthesize, and because they do not want to react with heat-induced lithium ion precursors, they do not have heat-induced problems such as nanomaterial growth. In addition, according to the chemical formula, titanium oxide has a capacity of twice the amount of 335\\xa0mAh/g (LTO). The general response of these anodes is '),\n",
       " Paragraph(id='Par21', references=[], text='TiO2 has four types of phases or crystallographic structures (different atomic arrangements) known as Brocket, Anastasi, Rutile, and (TiO2 (B). The Brocket phase does not matter to the battery. Antara and rutile, which are very popular phases, are important as anodes. Phase (TiO2 (B) performs better than others due to its atomic open space and suitable channel for ion transport, and is the most important [75, 76, 132–136].'),\n",
       " Paragraph(id='Par22', references=[], text='If we consider the theoretical capacity based on the chemical formula (one mole of lithium ion per mole of TiO2), it is equal to the above value, but based on the phase and position that can be placed according to the lithium ion crystal lattice, different theoretical capacities for different phases have been reported; for example, for anisate, according to network sites, the half-capacity is high, 0.5\\xa0mol of lithium ion per mole of TiO2, 167\\xa0mAh/g.'),\n",
       " Paragraph(id='Par23', references=[], text='Because all of these phases have poor ionic conductivity, the nanoscale is very effective in increasing both power and capacity. What is interesting is that the nanostructured capacity of Anastasi is more than the theoretical capacity based on the position of the network, but it is definitely less than the theoretical capacity of Formula 334 in all phases. Rutile in micron mode can only store 0.1\\xa0mol of lithium ion per grid unit. In rutile, lithium locations are located throughout the network, but the diffusion coefficient in the direction of the c-axis is one order of magnitude greater than that of the ab plate [137–141]. The lithium atom penetrates well in the direction of the c-axis, but must be diffused throughout the space by penetrating the ab plane, and because the diffusion velocity is low in the ab plane, lithium ions accumulate in the c channel, causing a charge repulsive force. Lithium ion positive is generated. This repulsive force prevents more ions from entering the network. As an interesting result of the Nano effect, it has been shown that when the dimensions of rutile become Nano, the capacity reaches 0.8\\xa0mol of lithium ion, which has a reversible capacity during different cycles, which reduces the penetration distance and the effect of its quadratic power [142–146]. There is no repulsive force. Figure\\xa019 shows the charge and discharge curves and the cycle life for rutile bulk (micron), commercial rutile micro particles, and rutile nanowires. As can be seen, nanowires show good cyclic longevity and capacity. The shape also confirms that the shape of the nanomaterials also affects the performance of the anode. Morphology such as nanoparticles, nanowires, etc. differ in both capacity and life cycle and power, but the type of morphology alone is not decisive but the geometry of the structure that determines the performance (in the future about the geometry of the structure for all active materials for example, nanowires connected to a current collector, nanowires mixed with graphene, and insulated nanowires each present different results. In addition, there are test conditions and C rate and many other factors [77]. Phase (TiO2 (B), which is newer than other phases, offers the best power and capacity due to its suitable channels for lithium ion transport [147–151]. Figure\\xa020 shows the structure of the penetration site. The capacitance can be significantly increased. This phase offers the best power and capacity among all titanium anodes including LTO, so that by Nano partying it in just 4.5\\xa0s, the anode can be charged or discharged with a capacity of 73% of theory. We do not have volume change in this anode either.'),\n",
       " Paragraph(id='Fig19', references=[], text='a Charge–discharge curve for the first time, b cycle life [77].'),\n",
       " Paragraph(id='Fig20', references=[], text='Showing the atomic structure of the phase (TiO2 (B) [77]'),\n",
       " Heading(id=None, references=[], text='Quasi-capacitive Capacity'),\n",
       " Paragraph(id='Par24', references=[], text='So far, it has been discussed about the storage capacity of lithium ions in the form of a degree in the nuclear network, and this capacity is improved in the nanoscale due to the reduction of the penetration distance, and so on [152–155]. But one of the interesting phenomena that occurs for these anodes at the nanoscale is the storage of lithium ions at the surface due to the large surface-to-volume ratio. This type of storage is different from the insert and alloy capacity mentioned so far. This type of storage is very fast because it does not require penetration, and also because it does not create stress and the like, it has the best cycle life and power compared to other lithium storage methods [156–158]. Of course, this type of capacity generates less energy. This capacity is discussed in more detail in the topic of super capacitors. The Fig.\\xa021 shows a comparison between the storage capacity of LTO capacity in three different Nano dimensions [78]. According to Fig.\\xa021 in small Nano dimensions, this capacity is significant and decreases significantly with increasing dimensions. It should be noted that capacitive capacitance is not only related to titanium oxide compounds but is also present in many other active substances that are mentioned when introducing them.'),\n",
       " Paragraph(id='Fig21', references=[], text='Demonstration of input and super capacitor capacities in titanium oxide [78]'),\n",
       " Heading(id=None, references=[], text='Introduction of Exchange Anodes'),\n",
       " Paragraph(id='Par25', references=[], text='So far, we have talked about two types of insert electrodes and alloys. The third type of electrode operation is based on a conversion reaction. Figure\\xa022 shows the mechanism and reaction of this type of electrode. In this form, M (or Me) is an intermediate element that is oxidized, and X is an anion such as oxygen, sulfur, and the like [159–161]. The advantage of these anodes is that for every MxXy unit, n lithium ions (n more than one) are involved in the reaction, whereas in the graphite insert anodes we see one lithium ion for every 6 carbon atoms stored in titanium compounds. A maximum of one lithium ion is stored per TiO2 formula unit. But in the exchange anode, for example, for CoO and FeO, the value of n is equal to 2, and in Co3O4, the value of n is equal to 8. Figure\\xa023 shows a number of exchangeable oxide anodes with their reaction and capacity [22, 30, 55].'),\n",
       " Paragraph(id='Fig22', references=[], text='Shows the structure and entry of lithium ion with its reaction [22]'),\n",
       " Paragraph(id='Fig23', references=[], text='Shows the reaction and capacity of a number of conversion oxide anodes [30, 55]'),\n",
       " Heading(id=None, references=[], text='Exchange Anode Problems'),\n",
       " Paragraph(id='Par26', references=[], text='Exchange anodes are very similar to alloy anodes, as alloys have problems with volume change, fragmentation, and SEI formation. In these anodes the ionic and electron conduction is low, and in addition the exchange rate is slow. This low speed leads to high potential during charging and discharging. At these potentials, there is a large difference between the charging and discharging voltages, called hysteresis, which is shown in Fig.\\xa024 with a red arrow. This figure shows that in the first stage of lithium extraction, the anode behavior is significantly different from the next stage of charge and discharge. The hysteresis in this type of anode is up to one volt, while in the graphite and LTO anode it is about 0.2\\xa0V. This hysteresis is mostly due to activation polarization [78, 79].'),\n",
       " Paragraph(id='Fig24', references=[], text='Show charge–discharge curves of exchange anodes [79]'),\n",
       " Heading(id=None, references=[], text='Nano Sizing Effects'),\n",
       " Paragraph(id='Par27', references=[], text='Figure\\xa025 shows the lithium ionization behavior (in the test mode, against lithium metal) for anodes made of fine nanoparticles (20\\xa0nm) and micro-nanoparticles (500\\xa0nm) of iron oxide (SEM) images of these particles in Fig.\\xa026. Available it can be seen that the capacity of the Nano anode is slightly higher. More importantly, it can be seen that the charge–discharge behavior of these two anodes is very different from each other, which is examined in Fig.\\xa026. Figure\\xa026 shows the charge–discharge curves in different cycles as well as the cycle life for the same samples in Fig.\\xa025 to determine the reason for the difference in charge–discharge curves in Fig.\\xa025. Note that instead of capacity, lithium that enters and leaves (which, according to the arguments, represents capacity) is used. In the charge–discharge curves of Fig.\\xa026, lithium ionization continued only up to 1\\xa0mol because its purpose was to investigate the behavior in this range of lithium ions. As can be seen, the effective surface mass for the material is only 2\\xa0m2/g while for the Nano it has an effective surface area of 60\\xa0m2/g, which indicates how much higher the effective surface area is at the Nano. The difference between Nano and Nano performance is also quite clear. As shown in Fig.\\xa026, the amount of reversible lithium (which can be removed during charging) for Nano is much higher than the corresponding amount for bulk. This shows that the capacity that can be recovered after the initial charge is much better in Nano than in micro. Also, according to the same figure, in the next consecutive charge-discharges, the amount of lithium entering and leaving is less than 0.25 (from 0.75 to 1), while for Nano, the amount of lithium entering and leaving is more than 0.5 (the amount of lithium ion). In the composition it has changed from the range of less than 0.5 ions to 1 ion), according to this, the capacity offered in Nano is much more than bulk. In the micron-sized anode of Fe2O3 (hematite), before the exchange reaction begins, about 0.1\\xa0mol of lithium ion per mole of oxide compound can be stored in the lattice, but above this critical limit, the exchange reaction takes place; on the other hand, when we increase the dimensions of iron oxide particles to 20\\xa0nm, the amount of lithium stored in degrees reaches 1\\xa0mol, which causes a volume change of only about 1%. Of course, about 0.5\\xa0mol is reversible (Fig.\\xa025). In fact, the type of storage mechanism (input, exchange, etc.) changes and the type of mechanism affects the shape of the charge–discharge curve. The above paragraph indicates that when the oxide dimensions enter the Nano field, the storage mechanism is also affected. So far it has been said that Nano makes volume change easier without failure, but here it can be seen that even Nano has reduced the amount of volume change from a few percent for the exchange reaction to one percent for a degree reaction. The reason for this change is the storage mechanism for iron oxide due to thermodynamic problems. The opposite happens for the Co3O4 anode because it is kinetic and is related to the current density (the current density is obtained by dividing the current by the surface); when the current is constant, in the Nano-dimensions, because the surface is higher, the current density decreases and the Co3O4 anode shows exchange behavior, but in the micro, due to the high current density, the anode shows the insertion behavior [76–79].'),\n",
       " Paragraph(id='Fig25', references=[], text='Demonstration of lithium ionization for n-Fe2O3 and micro-M-Fe2O3 [80]'),\n",
       " Paragraph(id='Fig26', references=[], text='Display of SEM images, charge–discharge curves and cycle life for Nano-iron oxide and bulk [80]'),\n",
       " Paragraph(id='Par28', references=[], text='It can be seen from Fig.\\xa026 that at the nanoscale, the cycle life is also much better than bulk. The reason for the improvement of these expressed properties is the ease of volume change and release of stress, ionic and electronic transitions are easier due to the reduction of the penetration distance, which was expressed in this series of articles. Due to high hysteresis, less attention has been paid to compounds with hysteresis [22, 51–54, 80].'),\n",
       " Heading(id=None, references=[], text='Nanomaterials in Batteries'),\n",
       " Paragraph(id='Par29', references=[], text='Nanomaterials have been widely applied in the life sciences, information technology, the environment, and other related fields. Recently, nanostructured materials have also attracted attention for application in energy storage devices, especially for those with high charge/discharge current rates such as lithium ion batteries. The development of next-generation energy storage devices with high power and high energy density is key to the success of electric and hybrid electric vehicles (EVs and HEVs, respectively), which are expected to at least partially replace conventional vehicles and help solve the problems of air pollution and climate change. These energy storage technologies will rely on innovative materials science, i.e. developing electrode materials capable of being charged and discharged at high current rates. Generally, the potential advantages of nanostructured active electrode materials can be summarized as follows: new reactions can be used that are not possible with bulk materials; a larger electrode/electrolyte contact area, leading to higher charge/discharge rates; short path lengths for both electronic and Li ion transport (permitting operation even with low electronic or low Li ion conductivity, or at higher power); etc. Here, we review some recent experimental results that show the advantages of nanostructured active electrode materials [147]. Table 2 summarizes the nanotechnologies that are used to produce nanomaterials, such as mechanical ball milling, chemical vapour deposition, the template method, electrochemical deposition, hydrothermal reaction, dehydration, sintering, pulsed laser deposition, ultrasound, sol–gel synthesis, and micro emulsion.'),\n",
       " Paragraph(id='Tab2', references=[], text='Techniques and nanomaterials used in batteries'),\n",
       " Paragraph(id='Par30', references=[], text='The first group of applications of nanotechnology in batteries is itself divided into two categories: the first group nanoscale the active substance in the electrode, the second group use nanotechnology to improve the performance of electrodes (cathode or anode) by adding nanomaterials other than the active substance, or the use of Nano coatings. For example, Nano-dimensional additives such as Nano carbons, graphene, carbon nanotubes, etc. have better electron conduction, or the use of Nano-thick coatings on the active material to prevent unwanted reactions with the electrolyte, stress modulation, provide stability and …. for it. For example, for a LiFePO4 cathode, the amount of electron conductivity is poor. Conductivity is improved by using a conductive carbon coating on its particles or by using a conductive carbon material as an additive, A Nano-thick coating of oxide is used [83, 94, 172–177]. For example, for a LiFePO4 cathode, the amount of electron conduction is poor, Conductivity is improved by using a conductive carbon coating on its particles or by using a conductive carbon material as an additive, or the LiCoO2 cathode is unstable at high currents in the vicinity of the electrolyte, using a Nano-thick oxide coating to stabilize it [162, 163, 178, 179]. If we want to illustrate the field of nanotechnology in this category with an example, in the same LiFePO4 cathode it has been shown that carbon coating increases conductivity and consequently power, capacity, etc., but one of the areas of research is how to create this coating. Be cheap, effective, etc.; therefore, research in the field of synthesis methods is very important. On the other hand, how to add the same coating and additives to be more effective, so the engineering and architecture of nanostructures is one of the important areas of research and the preparation of these engineered structures is also an interesting issue. Consider Fig.\\xa027 to clarify the matter. This figure shows two types of Nano-engineered structures for the LiFePO4 cathode that use carbon nanotubes to improve conductivity. In addition to differences in performance, each of these structures has a different synthesis method, which indicates the importance of synthesis.'),\n",
       " Paragraph(id='Fig27', references=[], text='a, b With carbon nanotube core and LiFePO4 wall, and Figure c LiFePO4 nanoparticles attached to carbon nanotube [3, 93]'),\n",
       " Paragraph(id='Par31', references=[], text='Silicon has attracted tremendous attentions as one of the most promising candidates for the next-generation Li-ion batteries (LIBs). Compared to the traditional graphite anode, it has many obvious advantages such as large capacity, high abundance and environmental friendliness [1–4]. Unfortunately, due to the huge volume expansion (~\\u2009300%) in lithiation, silicon particles are pulverized and solid electrolyte interphase (SEI) layers formed on their surface are unstable. Therefore, the long-term cycling stability of silicon anode is poor [5–8]. Moreover, the low intrinsic conductivity of Si causes unsatisfying rate-capability [9–12]. Thus, a large amount of Si/metal (e.g., Ag, Cu, Al, Sn) composites have been developed to solve the low conductivity [13–16]. However, the large volume expansion cannot be relieved effectively. On the other hand, carbon Nano layers are coated on the electrode materials to increase their conductivity, enhance their mechanical strength and provide them stable interfaces with electrolyte. Therefore, various conformal carbon layer coated silicon (Si@C) nanostructures are developed. For example, Si@C with core–shell structure are formed by pyrolyzing various precursors (e.g., pitch, glucose) to coat carbon layers on the pre-prepared silicon nanoparticles [17–21].'),\n",
       " Paragraph(id='Par32', references=[], text='Cui et al. designed a hierarchical pomegranate-structured Si@C composite and a nonfilling carbon-coated porous silicon micro particle via the pyrolysis of resorcinol–formaldehyde resin (RF), respectively [23, 82]. And Yu et al. prepared double carbon shells coated Si nanoparticles via chemical vapor deposition (CVD), with acetylene as carbon source [24]. All these designs provide sufficient voids to allow large volume changes of Si during the lithiation/delithiation. However, most of Si@C composites were prepared in separate steps by either pre-coating or post coating carbon on silicon nanomaterials. It led to a complicated preparation strategy.'),\n",
       " Paragraph(id='Par33', references=[], text='Continued interest in high performance lithium-ion batteries has driven the development of new electrode materials and their synthesis techniques, often targeting scalable production of high quality nanoceramics (<\\u2009100\\xa0nm in diameter), which may offer performance improvements. However, there are a number of hurdles, which need to be overcome to move away from current batch synthesis methods that offer poor reproducibility or lack of control over crystallite attributes, particularly at larger scale syntheses. Continuous hydrothermal flow synthesis (CHFS) processes are a promising route for the direct and controlled manufacture of Li-ion battery electrode nanoceramics. Such processes use superheated water and metal salt mixtures as reagents. In a typical CHFS reaction, a feed of supercritical water (above the critical point of water (TC\\u2009=\\u2009374\\xa0°C and Pc\\u2009=\\u200922.1\\xa0MPa), is rapidly mixed in an engineered mixer [1] with a metal salt/base aqueous precursor feed (at ambient temperature and the same pressure), resulting in rapid formation of the corresponding nanocrystallite oxide in the water. This nucleation dominated reaction occurs as a result of the metal salts being supersaturated upon mixing with sc-water and also instantly being hydrolysed and dehydrated under these exotic reaction conditions. The nascent nanocrystallite metal oxide stream in water is then cooled in process and then can be constantly collected from the exit of the CHFS process as an aqueous nanoparticle slurry at ambient temperature. The cleaned crystallites (e.g. via dialysis) can be obtained as a wet solid and then freeze-dried to retain maximum surface area and reduce agglomeration. Compared to batch hydrothermal syntheses, CHFS type processes typically produce very small nanoparticles (<\\u200910\\xa0nm) with a narrow size distribution [2–4]. Additionally, CHFS processes are highly scalable (>\\u20091\\xa0kg per hour in the lab of the UCL authors [5]) and can be used to make high quality nanoparticles at scale, with little or no significant variation between those made on the smaller CHFS laboratory scale process.'),\n",
       " Paragraph(id='Par34', references=[], text='Cyclic voltammetry (CV) measurements at a scan rate of 0.05\\xa0mV\\xa0s−1 in the range of 0.05–3\\xa0V versus Li/Li+, are presented in Fig.\\xa028. A pair of cathodic and anodic peaks were observed in the potential range 1.5 and 2.3\\xa0V versus Li/Li+, relating to Li-ion insertion into and extraction from the interstitial octahedral site of TiO2 (see equation) [81]. Under normal circumstances, a two-phase reaction is expected to occur during lithiation with phase equilibrium of the Li-poor Li0.01TiO2 (tetragonal) phase and the Li-rich Li0.55TiO2 (orthorhombic) phase [19, 20]. The detected specific current peak decreased with higher amount of Sn, thereby reducing the amount of pure TiO2. The pure TiO2 sample showed virtually no electrochemical activity in the potential range between 1.3 and 1\\xa0V versus Li/Li+ during the first cycle. The increasing specific current during the first cycle between 1 and 0.05\\xa0V versus Li/Li+, is attributed to solid electrolyte interface (SEI) formation (electrolyte destruction) at lower potentials [13]. There was also likely to be substantive SEI formation at the crystallite surfaces of the Sn-doped materials compared to the undoped TiO2, as there was significant electrochemical activity in the range of 1.3 to 1\\xa0V versus Li/Li+ for the former. However, as the surface area decreases with higher Sn-loading, the initial capacity loss due to the SEI formation may be expected to decrease. The general trend in fact showed that with higher Sn-loading, the initial irreversible capacity loss increased (from 363 mAh g−1 for the pure TiO2 and 467 mAh g−1 for Ti0.85Sn0.15O2).'),\n",
       " Paragraph(id='Fig28', references=[], text='Cyclic voltammograms for the 1st and 2nd cycles for the as-prepared Nano-powder in the potential range of 0.05 and 3\\xa0V versus Li/Li+ for an applied scan rate of 0.05\\xa0mV\\xa0s−1 for a undoped anatase TiO2, b Ti0.94Sn0.06O2, c Ti0.89Sn0.11O2, and d Ti0.85Sn0.15O2. e Specific current versus potential of the 2nd cycle for all materials at lower potentials. The specific current was calculated by taking into account the active material mass loadings [81]'),\n",
       " Heading(id=None, references=[], text='Conclusion'),\n",
       " Paragraph(id='Par36', references=[], text='This article discusses silicon anodes as a representative of alloy anodes. It was observed that the only solution to solve the shredding problem is to use nanotechnology. In this paper, the importance of nanomaterial synthesis was expressed. In summary, how to use nanomaterials with different morphologies to solve the problem and improve power. Although various morphologies were discussed, there was no discussion of structural engineering and the use of carbon conductive materials, which will be discussed in future articles. This was one of the methods of establishing electrical bonding for nanoparticles. There are various structures to prevent the nanoparticles from breaking, the art of which is to create different geometries and the method of their preparation.'),\n",
       " Paragraph(id='Par37', references=[], text='This article discusses SEI, which is one of the most important topics in most anodes and some high voltage cathodes. This article discussed the problem of alloy anode fragmentation, while which is due to the continuous growth of SEI. It turned out that in order to have a proper cycle life, this problem must be overcome. According to the given examples, using a suitable design at the nanoscale, in addition to providing free volume change of silicon, this volume change does not occur in contact with the electrolyte.\\n'),\n",
       " Paragraph(id='Par38', references=[], text='The carbon coating on the anode can increase the conductivity from 13–110 to 2.05 S/cm. Doping can enhance performance by increasing the conductivity of electrons and even ions and providing more space within the network along with Nano sizing, which may be appropriate for new projects, which is more a Nano-topic in Nano synthesis than how it accompanies matter. Synthesize with Nano-dimensional doping until there is a discussion about the effect of Nano on improving anode performance. This article discusses titanium oxide anodes, which is one of the most commercially important anodes. It was found that nanotechnology greatly improves the performance of these anodes. Nano sizing has also been shown to affect even the electrochemical and chemical-physical nature (such as charge–discharge curve deformation and greater capacity in surface layers).'),\n",
       " Paragraph(id='Par39', references=[], text='In this paper, exchange anodes are introduced and their complex operation is described. It was found that many problems, such as alloy anodes, can be solved by Nano damaging the active material. The special effects of Nano were expressed as a change in mechanism.'),\n",
       " Heading(id=None, references=[], text='Acknowledgements'),\n",
       " Paragraph(id=None, references=[], text='Not applicable.'),\n",
       " Heading(id=None, references=[], text='Authors’ Contributions'),\n",
       " Paragraph(id=None, references=[], text='HShM, ZAL, VB: Investigation, concept and design, experimental studies, writing—original draft, reviewing and editing, NOY, MMK, WS, IHK: Investigation, concept and design, experimental studies, writing—original draft, reviewing and editing, EK: Investigation, concept and design, data curation, conceptualization, writing—original draft, reviewing and editing. All authors read and approved the final manuscript.'),\n",
       " Heading(id=None, references=[], text='Funding'),\n",
       " Paragraph(id=None, references=[], text='Not applicable.'),\n",
       " Heading(id=None, references=[], text='Availability of Data and Materials'),\n",
       " Paragraph(id=None, references=[], text='All data generated or analyzed during this study are included in this published article.'),\n",
       " Heading(id=None, references=[], text='Declarations'),\n",
       " Heading(id=None, references=[], text='Ethics Approval and Consent to Participate'),\n",
       " Paragraph(id='Par40', references=[], text='I wrote to you in regard to your question about naming some people in my article, I must point out that in some cases, help was sought from people and it was necessary to mention the names of these people in order to maintain professional ethics in research issues.'),\n",
       " Heading(id=None, references=[], text='Consent for Publication'),\n",
       " Paragraph(id='Par41', references=[], text='Not applicable.'),\n",
       " Heading(id=None, references=[], text='Competing Interests'),\n",
       " Paragraph(id='Par42', references=[], text='The author declare that they have no competing interests.'),\n",
       " Heading(id=None, references=[], text='References'),\n",
       " Citation(id='CR1', references=[], text='Kasavajjula U Wang C Appleby AJ Nano-and bulk-silicon-based insertion anodes for lithium-ion secondary cells J Power Sources 2007 163 2 1003 1039 1:CAS:528:DC%2BD28XhtlCmtLfP'),\n",
       " Citation(id='CR2', references=[], text='Zhang W-J A review of the electrochemical performance of alloy anodes for lithium-ion batteries J Power Sources 2011 196 1 13 24 1:CAS:528:DC%2BC3cXhtFWntrnL'),\n",
       " Citation(id='CR3', references=[], text='Song M-K Nanostructured electrodes for lithium-ion and lithium-air batteries: the latest developments, challenges, perspectives Mater Sci Eng R Rep 2011 72 11 203 252'),\n",
       " Citation(id='CR4', references=[], text='Peng K-Q Silicon nanowires for advanced energy conversion and storage Nano Today 2013 8 1 75 97 1:CAS:528:DC%2BC3sXhtV2rtbs%3D'),\n",
       " Citation(id='CR5', references=[], text='Kurzweil P Brandt K Garche J Dyer CK Moseley PT Ogumi Z Rand DA Scrosati B Secondary batteries-lithium rechargeable systems Encyclopedia of electrochemical power sources 2009 London Newnes 1 26'),\n",
       " Citation(id='CR6', references=[], text='Zhan H Nanostructured materials for rechargeable batteries: synthesis, fundamental understanding and limitations Curr Opin Chem Eng 2013 2 2 151 159'),\n",
       " Citation(id='CR7', references=[], text='Osaka T Ogumi Z Nanoscale technology for advanced lithium batteries 2014 Berlin Springer'),\n",
       " Citation(id='CR8', references=[], text='Favors Z Scalable synthesis of nano-silicon beach sand for long cycle life Li-ion batteries Sci Rep 2014 4 1 7'),\n",
       " Citation(id='CR9', references=[], text='Abu-Lebdeh Y Davidson I Nanotechnology for lithium-ion batteries 2012 Berlin Springer'),\n",
       " Citation(id='CR10', references=[], text='Yazami R Nanomaterials for lithium-ion batteries: fundamentals and applications 2013 Boca Raton CRC Press'),\n",
       " Citation(id='CR11', references=[], text='Huggins R Advanced batteries: materials science aspects 2008 Berlin Springer'),\n",
       " Citation(id='CR12', references=[], text='Szczech JR Jin S Nanostructured silicon for high capacity lithium battery anodes Energy Environ Sci 2011 4 1 56 72 1:CAS:528:DC%2BC3MXivF2nur4%3D'),\n",
       " Citation(id='CR13', references=[], text='Bruce PG Scrosati B Tarascon J-M Nanomaterials for rechargeable lithium batteries Angew Chem Int Ed 2008 47 16 2930 2946 1:CAS:528:DC%2BD1cXltFegurg%3D'),\n",
       " Citation(id='CR14', references=[], text='Zhao W, Choi W, Yoon WS (2020) Nanostructured electrode materials for rechargeable lithium-ion batteries. J Electrochem Sci Technol 11(3):195–219'),\n",
       " Citation(id='CR15', references=[], text='Aifantis KE Hackney SA Vasant Kumar R High energy density lithium batteries: materials, engineering, applications 2010 New York Wiley'),\n",
       " Citation(id='CR16', references=[], text='Goriparti S Review on recent progress of nanostructured anode materials for Li-ion batteries J Power Sources 2014 257 421 443 1:CAS:528:DC%2BC2cXhtVOkurk%3D'),\n",
       " Citation(id='CR17', references=[], text='Ko M Oh P Chae S Cho W Cho J Considering critical factors of Li-rich cathode and Si anode materials for practical Li-ion cell applications Small 2015 11 4058 4073 10.1002/smll.201500474 1:CAS:528:DC%2BC2MXhtVKms7jP'),\n",
       " Citation(id='CR18', references=[], text='Wu H Stable cycling of double-walled silicon nanotube battery anodes through solid-electrolyte interphase control Nat Nanotechnol 2012 7 5 310 315 1:CAS:528:DC%2BC38XksVentLc%3D'),\n",
       " Citation(id='CR19', references=[], text='Liu N A yolk-shell design for stabilized and scalable Li-ion battery alloy anodes Nano Lett 2012 12 6 3315 3321 1:CAS:528:DC%2BC38XmsVGnsL0%3D'),\n",
       " Citation(id='CR20', references=[], text='Pinson MB Bazant MZ Theory of SEI formation in rechargeable batteries: capacity fade, accelerated aging and lifetime prediction J Electrochem Soc 2013 160 2 A243 A250 1:CAS:528:DC%2BC3sXhvFOitLk%3D'),\n",
       " Citation(id='CR21', references=[], text='Nie M (2014) Anode solid electrolyte interphase (SEI) of lithium ion battery characterized by microscopy and spectroscopy. Diss. University of Rhode Island'),\n",
       " Citation(id='CR22', references=[], text='Zhukovskii YF Enhanced interfacial lithium storage in nanocomposites of transition metals with LiF and Li2O: comparison of DFT calculations and experimental studies Solid State Sci 2008 10 4 491 495 1:CAS:528:DC%2BD1cXlslKhu7g%3D'),\n",
       " Citation(id='CR23', references=[], text='Lu Z Liu N Lee H-W Zhao J Li W Li Y Cui Y Nonfilling carbon coating of porous silicon micrometer-sized particles for high-performance lithium battery anodes ACS Nano 2015 9 3 2540 2547 10.1021/nn505410q 1:CAS:528:DC%2BC2MXjvVOhsLk%3D'),\n",
       " Citation(id='CR24', references=[], text='Chen S Shen L van Aken PA Maier J Yu Y Dual-functionalized double carbon shells coated silicon nanoparticles for high performance lithium-ion batteries Adv Mater 2017 29 1605650'),\n",
       " Citation(id='CR25', references=[], text='Salimi M Pirouzfar V Kianfar E Enhanced gas transport properties in silica nanoparticle filler–polystyrene nanocomposite membranes Colloid Polym Sci 2017 295 215 226 10.1007/s00396-016-3998-0 1:CAS:528:DC%2BC28XitFeiu7nF'),\n",
       " Citation(id='CR26', references=[], text='Kianfar E Synthesis and characterization of AlPO4/ZSM-5 catalyst for methanol conversion to dimethyl ether Russ J Appl Chem 2018 91 1711 1720 10.1134/S1070427218100208 1:CAS:528:DC%2BC1cXis1Srsb%2FK'),\n",
       " Citation(id='CR27', references=[], text='Kianfar E Ethylene to propylene conversion over Ni-W/ZSM-5 catalyst Russ J Appl Chem 2019 92 1094 1101 10.1134/S1070427219080068 1:CAS:528:DC%2BC1MXitVajurzP'),\n",
       " Citation(id='CR28', references=[], text='Kianfar E Salimi M Kianfar F CO2/N2 separation using polyvinyl chloride iso-phthalic acid/aluminium nitrate nanocomposite membrane Macromol Res 2019 27 83 89 10.1007/s13233-019-7009-4 1:CAS:528:DC%2BC1cXitVSls73I'),\n",
       " Citation(id='CR29', references=[], text='Kianfar E Introducing the application of nanotechnology in lithium-ion battery importance and applications of nanotechnology, Chapter 4 2020 Reno MedDocs Publishers 1 7'),\n",
       " Citation(id='CR30', references=[], text='Pender JP Jha G Youn DH Ziegler JM Andoni I Choi EJ Heller A Dunn BS Weiss PS Penner RM Mullins CB Electrode degradation in lithium-ion batteries ACS Nano 2020 14 2 1243 1295 10.1021/acsnano.9b04365 1:CAS:528:DC%2BB3cXitFyhtw%3D%3D'),\n",
       " Citation(id='CR31', references=[], text='Andoni I Ziegler JM Jha G Gadre CA Flores-Zuleta H Dai S Qiao S Xu M Chen VT Pan X Penner RM Investigating the degradation of Nb2O5 thin films across 10,000 lithiation/delithiation cycles ACS Appl Energy Mater 2021 4 7 6542 6552 10.1021/acsaem.1c00580 1:CAS:528:DC%2BB3MXhsVGms7rE'),\n",
       " Citation(id='CR32', references=[], text='Nakajima K Souza FL Freitas ALM Thron A Castro RHR Improving thermodynamic stability of nano-LiMn2O4 for Li-ion battery cathode Chem Mater 2021 33 11 3915 3925 10.1021/acs.chemmater.0c04305 1:CAS:528:DC%2BB3MXhtFent7%2FK'),\n",
       " Citation(id='CR33', references=[], text='Hallot M Caja-Munoz B Leviel C Lebedev OI Retoux R Avila J Roussel P Asensio MC Lethien C Atomic layer deposition of a nanometer-thick Li3PO4 protective layer on LiNi0.5Mn1.5O4 films: dream or reality for long-term cycling? ACS Appl Mater Interfaces 2021 13 13 15761 15773 10.1021/acsami.0c21961 1:CAS:528:DC%2BB3MXnt1ygt7w%3D'),\n",
       " Citation(id='CR34', references=[], text='Sun HH Ryu H-H Kim U-H Weeks JA Heller A Sun Y-K Buddie Mullins C Beyond doping and coating: prospective strategies for stable high-capacity layered Ni-rich cathodes ACS Energy Lett 2020 5 4 1136 1146 10.1021/acsenergylett.0c00191 1:CAS:528:DC%2BB3cXksVyjurw%3D'),\n",
       " Citation(id='CR35', references=[], text='Ho AS Parkinson DY Finegan DP Trask SE Jansen AN Tong W Balsara NP 3D detection of lithiation and lithium plating in graphite anodes during fast charging ACS Nano 2021 15 6 10480 10487 10.1021/acsnano.1c02942 1:CAS:528:DC%2BB3MXht1Kms7zN'),\n",
       " Citation(id='CR36', references=[], text='Li L Zhang N Su Y Zhao J Song Z Qian D Wu H Tahir M Saeed A Ding S Fluorine dissolution-induced capacity degradation for fluorophosphate-based cathode materials ACS Appl Mater Interfaces 2021 13 20 23787 23793 10.1021/acsami.1c04647 1:CAS:528:DC%2BB3MXhtFSitLbM'),\n",
       " Citation(id='CR37', references=[], text='Chen W-P Duan H Shi J-L Qian Y Wan J Zhang X-D Sheng H Guan B Wen R Yin Y-X Xin S Guo Y-G Wan L-J Bridging interparticle Li+ conduction in a soft ceramic oxide electrolyte J Am Chem Soc 2021 143 15 5717 5726 10.1021/jacs.0c12965 1:CAS:528:DC%2BB3MXotlKntr0%3D'),\n",
       " Citation(id='CR38', references=[], text='Tang W Duan J Xie J Qian Y Li J Zhang Y Dual-site doping strategy for enhancing the structural stability of lithium-rich layered oxides ACS Appl Mater Interfaces 2021 13 14 16407 16417 10.1021/acsami.1c02020 1:CAS:528:DC%2BB3MXnslCmsrg%3D'),\n",
       " Citation(id='CR39', references=[], text='Yoshio M Wang H Fukuda K Umeno T Dimov N Ogumi Z Carbon-coated Si as a lithium-ion battery anode material J Electrochem Soc 2002 149 A1598 A1603 1:CAS:528:DC%2BD38XovVWis78%3D'),\n",
       " Citation(id='CR40', references=[], text='Dimov N Kugino S Yoshio M Carbon-coated silicon as anode material for lithium ion batteries: advantages and limitations Electrochim Acta 2003 48 1579 1587 1:CAS:528:DC%2BD3sXis1Clsrw%3D'),\n",
       " Citation(id='CR41', references=[], text='Ganapathy S Wagemaker M Nanosize storage properties in spinel Li4Ti5O12 explained by anisotropic surface lithium insertion ACS Nano 2012 6 10 8702 8712 1:CAS:528:DC%2BC38XhtlWmur%2FF'),\n",
       " Citation(id='CR42', references=[], text='Okumura T Nanosized effect on electronic/local structures and specific lithium-ion insertion property in TiO2–B nanowires analyzed by X-ray absorption spectroscopy Chem Mater 2011 23 16 3636 3644 1:CAS:528:DC%2BC3MXptlelurw%3D'),\n",
       " Citation(id='CR43', references=[], text='Borghols WJH Size effects in the Li4+x Ti5O12 spinel J Am Chem Soc 2009 131 49 17786 17792 1:CAS:528:DC%2BD1MXhsValtLvE'),\n",
       " Citation(id='CR44', references=[], text='Wang J Pseudocapacitive contributions to electrochemical energy storage in TiO2 (anatase) nanoparticles J Phys Chem C 2007 111 40 14925 14931 1:CAS:528:DC%2BD2sXhtVChs7zL'),\n",
       " Citation(id='CR45', references=[], text='Ma Y Carbon-encapsulated F-doped Li4Ti5O12 as a high rate anode material for Li+ batteries ACS Nano 2013 7 12 10870 10878 1:CAS:528:DC%2BC3sXhvVWmsLjE'),\n",
       " Citation(id='CR46', references=[], text='Wang F Excess lithium storage and charge compensation in nanoscale Li4+xTi5O12 Nanotechnology 2013 24 42 424006'),\n",
       " Citation(id='CR47', references=[], text='Balaya P Nano-ionics in the context of lithium batteries J Power Sources 2006 159 1 171 178 1:CAS:528:DC%2BD28XovF2qurw%3D'),\n",
       " Citation(id='CR48', references=[], text='Wang J Electrochemical properties of SnO2/carbon composite materials as anode material for lithium-ion batteries Electrochim Acta 2011 56 18 6441 6447 1:CAS:528:DC%2BC3MXnvFOnsbw%3D'),\n",
       " Citation(id='CR49', references=[], text='Balaya P Fully reversible homogeneous and heterogeneous Li storage in RuO2 with high capacity Adv Funct Mater 2003 13 8 621 625 1:CAS:528:DC%2BD3sXms1Wltrg%3D'),\n",
       " Citation(id='CR50', references=[], text='Monconduit L Recent advancements in the Con-type pnictide-based electrodes for Li-ion batteries J Phys Chem C 2014 118 20 10531 10544 1:CAS:528:DC%2BC2cXkvFyltLg%3D'),\n",
       " Citation(id='CR51', references=[], text='Klein F Con reactions for sodium-ion batteries Phys Chem Chem Phys 2013 15 38 15876 15887 1:CAS:528:DC%2BC3sXhsVWrtbrE'),\n",
       " Citation(id='CR52', references=[], text='Etacheri V Challenges in the development of advanced Li-ion batteries: a review Energy Environ Sci 2011 4 9 3243 3262 1:CAS:528:DC%2BC3MXht1Cqs7jE'),\n",
       " Citation(id='CR53', references=[], text='Yu XQ Sun JP Tang K Li H Huang XJ Dupont L Maier J Reversible lithium storage in LiF/Ti nanocomposites Phys Chem Chem Phys 2009 11 9497 9503 1:CAS:528:DC%2BD1MXht1Kju7bM'),\n",
       " Citation(id='CR54', references=[], text='Poizot P Nano-sized transition-metal oxides as negative-electrode materials for lithium-ion batteries Nature 2000 407 6803 496 499 1:STN:280:DC%2BD3cvnslKhtQ%3D%3D'),\n",
       " Citation(id='CR55', references=[], text='Antonino SA Nanostructured materials for advanced energy conversion and storage devices Nat Mater 2005 4 5 366 377'),\n",
       " Citation(id='CR56', references=[], text='Feng M Pan J Qi Y Impact of electronic properties of grain boundaries on the solid electrolyte interphases (SEIs) in Li-ion batteries J Phys Chem C 2021 125 29 15821 15829 10.1021/acs.jpcc.1c03186 1:CAS:528:DC%2BB3MXhsFeqsb7F'),\n",
       " Citation(id='CR57', references=[], text='Kim H-H Kim K-H Lee J Hong S-H Electrochemical properties and reaction mechanism of NiTi2S4 ternary metal sulfide as an anode for lithium ion battery ACS Sustain Chem Eng 2021 9 29 9680 9688 10.1021/acssuschemeng.1c01497 1:CAS:528:DC%2BB3MXhsFCltrbE'),\n",
       " Citation(id='CR58', references=[], text='Meng Q Zhuang Y Jiang R Meng S Wang Z Li L Zhang Y Jia S Zhao P Zheng H Wang J Atomistic observation of desodiation-induced phase transition in sodium tungsten bronze J Phys Chem Lett 2021 12 12 3114 3119 10.1021/acs.jpclett.1c00132 1:CAS:528:DC%2BB3MXmvFarsbg%3D'),\n",
       " Citation(id='CR59', references=[], text='Zhang L Xu Z He Z Electrochemical relithiation for direct regeneration of LiCoO2 materials from spent lithium-ion battery electrodes ACS Sustain Chem Eng 2020 8 31 11596 11605 10.1021/acssuschemeng.0c02854 1:CAS:528:DC%2BB3cXhsVKjsr%2FO'),\n",
       " Citation(id='CR60', references=[], text='Tran Huu H Im WB Facile green synthesis of pseudocapacitance-contributed ultrahigh capacity Fe2(MoO4)3 as an anode for lithium-ion batteries ACS Appl Mater Interfaces 2020 12 31 35152 35163 10.1021/acsami.0c11862 1:CAS:528:DC%2BB3cXhsVCmsb%2FN'),\n",
       " Citation(id='CR61', references=[], text='Altinci OC Demir M Beyond conventional activating methods, a green approach for the synthesis of biocarbon and its supercapacitor electrode performance Energy Fuels 2020 34 6 7658 7665 10.1021/acs.energyfuels.0c01103 1:CAS:528:DC%2BB3cXpt1Orsbo%3D'),\n",
       " Citation(id='CR62', references=[], text='Salagre E Quílez S de Benito R Jaafar M van der Meulen HP Vasco E Cid R Fuller EJ Talin AA Segovia P Michel EG Polop C A multi-technique approach to understanding delithiation damage in LiCoO2 thin films Sci Rep 2021 11 1 1 12 10.1038/s41598-021-91051-3 1:CAS:528:DC%2BB3MXhsFyitr%2FO'),\n",
       " Citation(id='CR63', references=[], text='Guo Z Jian Z Zhang S Feng Y Kou W Ji H Yang G The effect of Ni oxidation state on the crystal structure and electrochemical properties of LiNi0.8Co0.1Mn0.1O2 cathode material for highly reversible lithium storage J Alloys Compd 2021 882 160642 10.1016/j.jallcom.2021.160642 1:CAS:528:DC%2BB3MXhtleqsrnL'),\n",
       " Citation(id='CR64', references=[], text='Tolganbek N Yerkinbekova Y Kalybekkyzy S Bakenov Z Mentbayeva A Current state of high voltage olivine structured LiMPO4 cathode materials for energy storage applications: a review J Alloys Compd 2021 882 10.1016/j.jallcom.2021.160774 1:CAS:528:DC%2BB3MXhtlaisb3N'),\n",
       " Citation(id='CR65', references=[], text='Singh A Pal S Strain gradient enhanced chemo-mechanical modeling of fracture in cathode materials for lithium-ion batteries Int J Solids Struct 2021 228 111098 10.1016/j.ijsolstr.2021.111098 1:CAS:528:DC%2BB3MXhs1ClurfJ'),\n",
       " Citation(id='CR66', references=[], text='Kufian MZ Ramesh S Arof AK PMMA-LiTFSI based gel polymer electrolyte for lithium–oxygen cell application Opt Mater 2021 120 111418 10.1016/j.optmat.2021.111418 1:CAS:528:DC%2BB3MXhs1Ohu7jI'),\n",
       " Citation(id='CR67', references=[], text='Yang T Li S Wang W Lu J Fan W Zuo X Nan J Nonflammable functional electrolytes with all-fluorinated solvents matching rechargeable high-voltage Li-metal batteries with Ni-rich ternary cathode J Power Sources 2021 505 230055 10.1016/j.jpowsour.2021.230055 1:CAS:528:DC%2BB3MXhtF2lu7rN'),\n",
       " Citation(id='CR68', references=[], text='Abdollahi A Abnavi A Ghasemi F Ghasemi S Sanaee Z Mohajerzadeh S Facile synthesis and simulation of MnO2 nanoflakes on vertically aligned carbon nanotubes, as a high-performance electrode for Li-ion battery and supercapacitor Electrochim Acta 2021 390 138826 10.1016/j.electacta.2021.138826 1:CAS:528:DC%2BB3MXhsV2kt7nK'),\n",
       " Citation(id='CR69', references=[], text='Hu L-H Kumar P MoSx surface-modified, hybrid core-shell structured LiFePO4 cathode for superior Li-ion battery applications J Alloy Compd 2021 872 159718 10.1016/j.jallcom.2021.159718 1:CAS:528:DC%2BB3MXosFKnurY%3D'),\n",
       " Citation(id='CR70', references=[], text='Kim K Kim PJ Chowdhury RA Kantharaj R Candadai A Marconnet A Pol VG Youngblood JP Structural orientation effect of cellulose nanocrystals (CNC) films on electrochemical kinetics and stability in lithium-ion batteries Chem Eng J 2021 417 128128 10.1016/j.cej.2020.128128 1:CAS:528:DC%2BB3MXktlWqtw%3D%3D'),\n",
       " Citation(id='CR71', references=[], text='Thauer E Zakharova GS Andreikov EI Adam V Wegener SA Nölke J-H Singer L Ottmann A Asyuda A Zharnikov M Kiselkov DM Zhu Q Puzyrev IS Podval’naya NV Klingeler R Novel synthesis and electrochemical investigations of ZnO/C composites for lithium-ion batteries J Mater Sci 2021 56 23 13227 13242 10.1007/s10853-021-06125-4 1:CAS:528:DC%2BB3MXhtV2gs7rE'),\n",
       " Citation(id='CR72', references=[], text='Wang Q Meng T Li Y Yang J Huang B Ou S Meng C Zhang S Tong Y Consecutive chemical bonds reconstructing surface structure of silicon anode for high-performance lithium-ion battery Energy Storage Mater 2021 39 354 364 10.1016/j.ensm.2021.04.043'),\n",
       " Citation(id='CR73', references=[], text='Abdalla AN Nazir MS Tao H Cao S Ji R Jiang M Yao L Integration of energy storage system and renewable energy sources based on artificial intelligence: an overview J Energy Storage 2021 40 102811 10.1016/j.est.2021.102811'),\n",
       " Citation(id='CR74', references=[], text='Yang L Zeng J Zhou L Shao R Utetiwabo W Tufail MK Wang S Yang W Zhang J Orderly defective superstructure for enhanced pseudocapacitive storage in titanium niobium oxide Nano Res 2021 48 1 12 10.1007/s12274-021-3703-6 1:CAS:528:DC%2BB3MXit1WlsrnK'),\n",
       " Citation(id='CR75', references=[], text='Xue B Guo Y Huang Z Gu S Zhou Q Yang W Li K Controllable synthesis of ZIF-derived NixCo3−xO4 nanotube array hierarchical structures based on self-assembly for high-performance hybrid alkaline batteries Dalton Trans 2021 50 26 9088 9102 10.1039/D1DT01419F 1:CAS:528:DC%2BB3MXhtFKrtL%2FE'),\n",
       " Citation(id='CR76', references=[], text='Akhilash M Salini PS John B Mercy TD A journey through layered cathode materials for lithium ion cells—from lithium cobalt oxide to lithium-rich transition metal oxides J Alloys Compd 2021 869 159239 10.1016/j.jallcom.2021.159239 1:CAS:528:DC%2BB3MXmtlCksr8%3D'),\n",
       " Citation(id='CR77', references=[], text='Somo TR Mabokela TE Teffu DM Sekgobela TK Ramogayana B Hato MJ Modibane KD A comparative review of metal oxide surface coatings on three families of cathode materials for lithium ion batteries Coatings 2021 11 7 744 10.3390/coatings11070744 1:CAS:528:DC%2BB3MXisVWhsbzF'),\n",
       " Citation(id='CR78', references=[], text='Huang XL Guo Z Dou SX Wang ZM Rechargeable potassium-selenium batteries Adv Funct Mater 2021 31 29 2102326 10.1002/adfm.202102326 1:CAS:528:DC%2BB3MXhtVCrsL7J'),\n",
       " Citation(id='CR79', references=[], text='Tang L Cheng X Wu R Cao T Lu J Zhang Y Zhang Z Monitoring the morphology evolution of LiNi0.8Mn0.1Co0.1O2 during high-temperature solid state synthesis via in situ SEM J Energy Chem 2021 30 9 15 10.1016/j.jechem.2021.07.021'),\n",
       " Citation(id='CR80', references=[], text='Wheeler-Jones EC Loveridge MJ Walton RI Investigating the influence of synthesis route on the crystallinity and rate capability of niobium pentoxide for energy storage Electrochim Acta 2021 113 138964 10.1016/j.electacta.2021.138964 1:CAS:528:DC%2BB3MXhslaqs7rI'),\n",
       " Citation(id='CR81', references=[], text='Lübke M Johnson I Makwana NM Brett D Shearing P Liu Z Darr JA High power TiO2 and high capacity Sn-doped TiO2 nanomaterial anodes for lithium-ion batteries J Power Sources 2015 294 94 102'),\n",
       " Citation(id='CR82', references=[], text='Liu N Lu Z Zhao J A pomegranate-inspired nanoscale design for large-volume-change lithium battery anodes Nature Nanotechnol 2014 9 187 192 10.1038/nnano.2014.6 1:CAS:528:DC%2BC2cXisFOnsL0%3D'),\n",
       " Citation(id='CR83', references=[], text='Kumar KT Reddy MJK Sundari GS Raghu S Kalaivani RA Ryu SH Shanmugharaj AM Synthesis of grapheme–siloxene nanosheet based layered composite materials by tuning its interface chemistry: an efficient anode with overwhelming electrochemical performances for lithium-ion batteries J Power Sources 2020 450 227618 1:CAS:528:DC%2BC1MXisVaqtLfF'),\n",
       " Citation(id='CR84', references=[], text='Qarizada D Mohammadian E Alias AB Rahimi HA Yusuf SBM Effect of temperature on bio-oil fractions of palm kernel shell thermal distillation Int J Innov Res Sci Stud 2018 1 2 27 31 10.53894/ijirss.v1i2.7'),\n",
       " Citation(id='CR85', references=[], text='Mohamad N Chen R Isahak I Salam A Siraj HH Das S Developing skills in problem based learning facilitation: an insight Int Med J 2010 17 2 103 106'),\n",
       " Citation(id='CR86', references=[], text='Elfaki AO Abouabdalla OA Fong SL Johar GM AIK KLT Bachok R Review and future directions of the automated validation in software product line engineering J Theor Appl Inf Technol 2012 42 1 75 93'),\n",
       " Citation(id='CR87', references=[], text='Jamal A, Helmi RAA, Syahirah ASN, Fatima MA (2019) Blockchain-based identity verification system. In: 2019 IEEE 9th International conference on system engineering and technology (ICSET). IEEE, pp 253–257'),\n",
       " Citation(id='CR88', references=[], text='Alsunki AAM, Ali MA, Jaharadak AA, Tahir NM (2020) Framework of software developers engagement antecedents and productivity—a review. In: 2020 16th IEEE International colloquium on signal processing and its applications (CSPA). IEEE, pp 302–307'),\n",
       " Citation(id='CR89', references=[], text='Mosbah A, Ali MA, Aljubari IH, Sherief SR (2018) Migrants in the High-Tech and engineering sectors: an emerging research area. In: 2018 IEEE Conference on systems, process and control (ICSPC). IEEE, pp 234–237'),\n",
       " Citation(id='CR90', references=[], text='Alshebly YSA Sidek KA Johar MGM Stress recognition using electroencephalogram (EEG) signal J Phys Conf Ser 2020 1502 1 012052'),\n",
       " Citation(id='CR91', references=[], text='Ngafwan N, Rasyid H, Abood ES, Abdelbasset WK, Al-Shawi SG, Bokov D, Jalil AT (2021) Study on novel fluorescent carbon nanomaterials in food analysis. Food Sci Technol.  https://doi.org/10.1590/fst.37821'),\n",
       " Citation(id='CR92', references=[], text='Al-Shawi SG Andreevna Alekhina N Aravindhan S Thangavelu L Elena A Kartamysheva NV Zakieva RR Synthesis of NiO nanoparticles and sulfur, and nitrogen co doped-graphene quantum dots/NiO nanocomposites for antibacterial application J Nanostruct 2021 11 1 181 188 1:CAS:528:DC%2BB3MXit1Kksb%2FI'),\n",
       " Citation(id='CR93', references=[], text='Kim H Lee E-J Sun Y-K Recent advances in the Si-based nanocomposite materials as high capacity anode materials for lithium ion batteries Mater Today 2014 17 6 285 297 1:CAS:528:DC%2BC2cXhtVajsbfM'),\n",
       " Citation(id='CR94', references=[], text='Sehrawat P Shabir A Julien CM Islam SS Recent trends in silicon/graphene nanocomposite anodes for lithium-ion batteries J Power Sources 2021 501 229709 1:CAS:528:DC%2BB3MXhtFejs7vN'),\n",
       " Citation(id='CR95', references=[], text='Opra DP Gnedenkov SV Sinebryukhov SL Recent efforts in design of TiO2(B) anodes for high-rate lithium-ion batteries: a review J Power Sources 2019 442 227225 1:CAS:528:DC%2BC1MXhvFWjsrbJ'),\n",
       " Citation(id='CR96', references=[], text='Hou J Qu S Yang M Zhang J Materials and electrode engineering of high capacity anodes in lithium ion batteries J Power Sources 2020 450 227697 1:CAS:528:DC%2BB3cXitVKnsLg%3D'),\n",
       " Citation(id='CR97', references=[], text='Huang B Pan Z Su X An L Tin-based materials as versatile anodes for alkali (earth)-ion batteries J Power Sources 2018 395 41 59 1:CAS:528:DC%2BC1cXpslyntLw%3D'),\n",
       " Citation(id='CR98', references=[], text='Kianfar E Ethylene to propylene over zeolite ZSM-5: improved catalyst performance by treatment with CuO Russ J Appl Chem 2019 92 933 939 10.1134/S1070427219070085 1:CAS:528:DC%2BC1MXhs12rsrbK'),\n",
       " Citation(id='CR99', references=[], text='Kianfar E Shirshahi M Kianfar F Simultaneous prediction of the density, viscosity and electrical conductivity of pyridinium-based hydrophobic ionic liquids using artificial neural network SILICON 2018 10 2617 2625 10.1007/s12633-018-9798-z 1:CAS:528:DC%2BC1cXnsFSku7o%3D'),\n",
       " Citation(id='CR100', references=[], text='Salimi M Pirouzfar V Kianfar E Novel nanocomposite membranes prepared with PVC/ABS and silica nanoparticles for C2H6/CH4 separation Polym Sci Ser A 2017 59 566 574 10.1134/S0965545X17040071 1:CAS:528:DC%2BC2sXht1aktrbJ'),\n",
       " Citation(id='CR101', references=[], text='Kianfar F Kianfar E Synthesis of isophthalic acid/aluminum nitrate thin film nanocomposite membrane for hard water softening J Inorg Organomet Polym 2019 29 2176 2185 10.1007/s10904-019-01177-1 1:CAS:528:DC%2BC1MXovFGjtr0%3D'),\n",
       " Citation(id='CR102', references=[], text='Kianfar E Azimikia R Faghih SM Simple and strong dative attachment of α-diimine nickel(II) catalysts on supports for ethylene polymerization with controlled morphology Catal Lett 2020 150 2322 2330 10.1007/s10562-020-03116-z 1:CAS:528:DC%2BB3cXjtlanur0%3D'),\n",
       " Citation(id='CR103', references=[], text='Kianfar E Nanozeolites: synthesized, properties, applications J Sol–Gel Sci Technol 2019 91 415 429 10.1007/s10971-019-05012-4 1:CAS:528:DC%2BC1MXhtVCrsL%2FF'),\n",
       " Citation(id='CR104', references=[], text='Liu H Kianfar E Investigation the synthesis of nano-SAPO-34 catalyst prepared by different templates for MTO process Catal Lett 2020 10.1007/s10562-020-03333-6'),\n",
       " Citation(id='CR105', references=[], text='Kianfar E, Salimi M, Hajimirzaee S, Koohestani B (2018) Methanol to gasoline conversion over CuO/ZSM-5 catalyst synthesized using sonochemistry method. Int J Chem Reactor Eng 17(2):75–82.  https://doi.org/10.1515/ijcre-2018-0127'),\n",
       " Citation(id='CR106', references=[], text='Kianfar E Salimi M Pirouzfar V Koohestani B Synthesis of modified catalyst and stabilization of CuO/NH4-ZSM-5 for conversion of methanol to gasoline Int J Appl Ceram Technol 2018 15 734 741 10.1111/ijac.12830 1:CAS:528:DC%2BC2sXhvVSku7fP'),\n",
       " Citation(id='CR107', references=[], text='Kianfar E Salimi M Pirouzfar V Koohestani B Synthesis and modification of zeolite ZSM-5 catalyst with solutions of calcium carbonate (CaCO3) and sodium carbonate (Na2CO3) for methanol to gasoline conversion Int J Chem Reactor Eng 2018 16 7 20170229 10.1515/ijcre-2017-0229 1:CAS:528:DC%2BC1cXhtl2hu7bE'),\n",
       " Citation(id='CR108', references=[], text='Kianfar E Comparison and assessment of zeolite catalysts performance dimethyl ether and light olefins production through methanol: a review Rev Inorg Chem 2019 39 157 177 1:CAS:528:DC%2BC1MXhs12rsr7P'),\n",
       " Citation(id='CR109', references=[], text='Kianfar E Salimi M Taylor JC A review on the production of light olefins from hydrocarbons cracking and methanol conversion Advances in chemistry research, Chapter 1 2020 New York Nova Science Publishers, Inc.'),\n",
       " Citation(id='CR110', references=[], text='Kianfar E Razavi A Mahler A Zeolite catalyst based selective for the process MTG: a review Zeolites: advances in research and applications, Chapter 8 2020 New York Nova Science Publishers, Inc.'),\n",
       " Citation(id='CR111', references=[], text='Kianfar E Mahler A Zeolites: properties, applications, modification and selectivity Zeolites: advances in research and applications, Chapter 1 2020 New York Nova Science Publishers, Inc.'),\n",
       " Citation(id='CR112', references=[], text='Kianfar E Hajimirzaee S Musavian SS Mehr AS Zeolite-based catalysts for methanol to gasoline process: a review Microchem J 2020 156 104822 1:CAS:528:DC%2BB3cXlt1Cjtr0%3D'),\n",
       " Citation(id='CR113', references=[], text='Kianfar E Baghernejad M Rahimdashti Y Study synthesis of vanadium oxide nanotubes with two template hexadecylamin and hexylamine Biol Forum 2015 7 1671 1685'),\n",
       " Citation(id='CR114', references=[], text='Kianfar E (2020) Synthesizing of vanadium oxide nanotubes using hydrothermal and ultrasonic method. Lambert Academic Publishing, Saarbrucken, pp 1–80. ISBN: 978-613-9-81541-8'),\n",
       " Citation(id='CR115', references=[], text='Kianfar E Pirouzfar V Sakhaeinia H An experimental study on absorption/stripping CO2 using mono-ethanol amine hollow fiber membrane contactor J Taiwan Inst Chem Eng 2017 80 954 962 1:CAS:528:DC%2BC2sXhtlOktr%2FJ'),\n",
       " Citation(id='CR116', references=[], text='Kianfar E Viet C Polymeric membranes on base of PolyMethyl methacrylate for air separation: a review J Market Res 2021 10 1437 1461 1:CAS:528:DC%2BB3MXmvVGqtQ%3D%3D'),\n",
       " Citation(id='CR117', references=[], text='Nmousavian S Faravar P Zarei Z Zimikia R Monjezi MG Kianfar E Modeling and simulation absorption of CO2 using hollow fiber membranes (HFM) with mono-ethanol amine with computational fluid dynamics J Environ Chem Eng 2020 8 4 103946'),\n",
       " Citation(id='CR118', references=[], text='Yang Z Zhang L Zhou Y Wang H Wen L Kianfar E Investigation of effective parameters on SAPO-34 Nano catalyst the methanol-to-olefin conversion process: a review Rev Inorg Chem 2020 40 3 91 105 1:CAS:528:DC%2BB3cXhvVajsrzO'),\n",
       " Citation(id='CR119', references=[], text='Gao C Liao J Lu J Ma J Kianfar E The effect of nanoparticles on gas permeability with polyimide membranes and network hybrid membranes: a review Rev Inorg Chem 2020 10.1515/revic-2020-0007'),\n",
       " Citation(id='CR120', references=[], text='Kianfar E, Salimi M, Koohestani B (2020) Zeolite CATALYST: a review on the production of light olefins. Lambert Academic Publishing, Saarbrucken, pp 1–116. ISBN: 978-620-3-04259-7'),\n",
       " Citation(id='CR121', references=[], text='Kianfar E (2020) Investigation on catalysts of “Methanol to light olefins”. Lambert Academic Publishing, Saarbrucken, pp 1–168. ISBN: 978-620-3-19402-9'),\n",
       " Citation(id='CR122', references=[], text='Kianfar E Application of nanotechnology in enhanced recovery oil and gas importance and applications of nanotechnology, Chapter 3 2020 Reno MedDocs Publishers 16 21'),\n",
       " Citation(id='CR123', references=[], text='Kianfar E Catalytic properties of nanomaterials and factors affecting it importance and applications of nanotechnology, Chapter 4 2020 Reno MedDocs Publishers 22 25'),\n",
       " Citation(id='CR124', references=[], text='Kianfar E Mazaheri H Synthesis of nanocomposite (CAU-10-H) thin-film nanocomposite (TFN) membrane for removal of color from the water Fine Chem Eng 2020 1 83 91'),\n",
       " Citation(id='CR125', references=[], text='Kianfar E Salimi M Koohestani B Methanol to gasoline conversion over CuO/ZSM-5 catalyst synthesized and influence of water on conversion Fine Chem Eng 2020 1 75 82'),\n",
       " Citation(id='CR126', references=[], text='Kianfar E An experimental study PVDF and PSF hollow fiber membranes for chemical absorption carbon dioxide Fine Chem Eng 2020 1 92 103'),\n",
       " Citation(id='CR127', references=[], text='Kianfar E Mafi S Ionic liquids: properties, application, and synthesis Fine Chem Eng 2020 2 22 31'),\n",
       " Citation(id='CR128', references=[], text='Faghih SM Kianfar E Modeling of fluid bed reactor of ethylene dichloride production in Abadan Petrochemical based on three-phase hydrodynamic model Int J Chem React Eng 2018 16 1 14'),\n",
       " Citation(id='CR129', references=[], text='Kianfar E Mazaheri H Taylor JC Methanol to gasoline: a sustainable transport fuel Advances in chemistry research, Chapter 4 2020 New York Nova Science Publishers, Inc. 66'),\n",
       " Citation(id='CR130', references=[], text='Kianfar E Taylor JC A comparison and assessment on performance of zeolite catalyst based selective for the process methanol to gasoline: a review Advances in chemistry research, Chapter 2 2020 New York Nova Science Publishers, Inc. 63'),\n",
       " Citation(id='CR131', references=[], text='Kianfar E Taylor JC Synthesis of characterization nanoparticles isophthalic acid/aluminum nitrate (CAU-10-H) using method hydrothermal Advances in chemistry research 2020 New York Nova Science Publishers, Inc.'),\n",
       " Citation(id='CR132', references=[], text='Kianfar E Taylor JC CO2 capture with ionic liquids: a review Advances in chemistry research 2020 New York Nova Science Publishers, Inc.'),\n",
       " Citation(id='CR133', references=[], text='Kianfar E Taylor JC Enhanced light olefins production via methanol dehydration over promoted SAPO-34 Advances in chemistry research, Chapter 4 2020 New York Nova Science Publishers, Inc. 63'),\n",
       " Citation(id='CR134', references=[], text='Kianfar E Taylor JC Gas hydrate: applications, structure, formation, separation processes, thermodynamics Advances in chemistry research, Chapter 8 2020 New York Nova Science Publishers, Inc. 62'),\n",
       " Citation(id='CR135', references=[], text='Kianfar M Kianfar F Kianfar E The effect of nano-composites on the mechanic and morphological characteristics of NBR/PA6 blends Am J Oil Chem Technol 2016 4 1 29 44'),\n",
       " Citation(id='CR136', references=[], text='Kianfar F Moghadam SRM Kianfar E Energy optimization of Ilam Gas Refinery Unit 100 by using HYSYS refinery software Indian J Sci Technol 2015 8 S9 431 436'),\n",
       " Citation(id='CR137', references=[], text='Kianfar E Production and identification of vanadium oxide nanotubes Indian J Sci Technol 2015 8 S9 455 464'),\n",
       " Citation(id='CR138', references=[], text='Kianfar F Moghadam SRM Kianfar E Synthesis of Spiro Pyran by using silica-bonded N-propyldiethylenetriamine as recyclable basic catalyst Indian J Sci Technol 2015 8 11 68669'),\n",
       " Citation(id='CR139', references=[], text='Kianfar E Recent advances in synthesis, properties, and applications of vanadium oxide nanotube Microchem J 2019 145 966 978 1:CAS:528:DC%2BC1cXisFygtbvO'),\n",
       " Citation(id='CR140', references=[], text='Hajimirzaee S Mehr AS Kianfar E Modified ZSM-5 zeolite for conversion of LPG to aromatics Polycyclic Aromat Compd 2020 10.1080/10406638.2020.1833048'),\n",
       " Citation(id='CR141', references=[], text='Kianfar E Investigation of the effect of crystallization temperature and time in synthesis of SAPO-34 catalyst for the production of light olefins Pet Chem 2021 61 527 537 10.1134/S0965544121050030 1:CAS:528:DC%2BB3MXnvFKrt7o%3D'),\n",
       " Citation(id='CR142', references=[], text='Huang X Zhu Y Kianfar E Nano biosensors: properties, applications and electrochemical techniques J Market Res 2021 12 1649 1672 10.1016/j.jmrt.2021.03.048 1:CAS:528:DC%2BB3MXnvFKku7Y%3D'),\n",
       " Citation(id='CR143', references=[], text='Kianfar E Protein nanoparticles in drug delivery: animal protein, plant proteins and protein cages, albumin nanoparticles J Nanobiotechnol 2021 19 159 10.1186/s12951-021-00896-3 1:CAS:528:DC%2BB3MXht1WqsLnJ'),\n",
       " Citation(id='CR144', references=[], text='Kianfar E Magnetic nanoparticles in targeted drug delivery: a review J Supercond Novel Magn 2021 10.1007/s10948-021-05932-9'),\n",
       " Citation(id='CR145', references=[], text='Syah R Zahar M Kianfar E Nanoreactors: properties, applications and characterization Int J Chem Reactor Eng 2021 19 000010151520210069 10.1515/ijcre-2021-0069'),\n",
       " Citation(id='CR146', references=[], text='Raya I Kzar HH Mahmoud ZH Ahmed AAA Ibatova AZ Kianfar E A review of gas sensors based on carbon nanomaterial Carbon Lett 2021 10.1007/s42823-021-00276-9'),\n",
       " Citation(id='CR147', references=[], text='Jiang C Hosono E Zhou H Nanomaterials for lithium ion batteries Nano Today 2006 1 4 28 33'),\n",
       " Citation(id='CR148', references=[], text='Qin K Holguin K Mohammadiroudbari M Huang J Kim EYS Hall R Luo C Strategies in structure and electrolyte design for high-performance lithium metal batteries Adv Funct Mater 2021 10.1002/adfm.202009694,31,15'),\n",
       " Citation(id='CR149', references=[], text='Jeong J Lee J Kim J Chun J Kang DG Han SM Jo C Lee J A biopolymer-based functional separator for stable Li metal batteries with an additive-free commercial electrolyte J Mater Chem A 2021 9 12 7774 7781 10.1039/D0TA12153C 1:CAS:528:DC%2BB3MXlslSrsr4%3D'),\n",
       " Citation(id='CR150', references=[], text='Wu W Lin W Chen H Wei K Li Z Yang H Liu M Xiang H Deng L Yao L Iron oxide encapsulated titanium niobate nanotubes as a high-performance lithium-free anode for solid-state batteries J Mater Chem A 2021 9 8 4880 4889 10.1039/D0TA11030B 1:CAS:528:DC%2BB3MXkslOitQ%3D%3D'),\n",
       " Citation(id='CR151', references=[], text='Xu X-Q Xu R Cheng X-B Xiao Y Peng H-J Yuan H Liu F A two-dimension laminar composite protective layer for dendrite-free lithium metal anode J Energy Chem 2021 56 391 394 10.1016/j.jechem.2020.08.029'),\n",
       " Citation(id='CR152', references=[], text='Ding J-F Xu R Yao N Chen X Xiao Y Yao Y-X Yan C Xie J Huang J-Q Non-solvating and low-dielectricity cosolvent for anion-derived solid electrolyte interphases in lithium metal batteries Angew Chem 2021 133 20 11543 11548 10.1002/ange.202101627'),\n",
       " Citation(id='CR153', references=[], text='Ding J-F Xu R Yao N Chen X Xiao Y Yao Y-X Yan C Xie J Huang J-Q Non-solvating and low-dielectricity cosolvent for anion-derived solid electrolyte interphases in lithium metal batteries Angew Chem Int Ed 2021 10.1002/anie.202101627,60,20,(11442-11447)'),\n",
       " Citation(id='CR154', references=[], text='Liu HK Wang GX Guo Z Wang J Konstantinov K Nanomaterials for lithium-ion rechargeable batteries J Nanosci Nanotechnol 2006 6 1 1 15 10.1166/jnn.2006.103 1:CAS:528:DC%2BD28XisFagtbw%3D'),\n",
       " Citation(id='CR155', references=[], text='Shi M Zhu H Yang C Xu J Yan C Chemical reduction-induced fabrication of graphene hybrid fibers for energy-dense wire-shaped supercapacitors Chin J Chem Eng 2021 10.1016/j.cjche.2021.05.045'),\n",
       " Citation(id='CR156', references=[], text='Zhao N Deng L Luo D Zhang P One-step fabrication of biomass-derived hierarchically porous carbon/MnO nanosheets composites for symmetric hybrid supercapacitor Appl Surf Sci 2020 526 146696 10.1016/j.apsusc.2020.146696 1:CAS:528:DC%2BB3cXhtVWmsL7M'),\n",
       " Citation(id='CR157', references=[], text='Zhu H An Y Shi M Li Z Chen N Yang C Xiao P Porous N-doped carbon/MnO2 nanoneedles for high performance ionic liquid-based supercapacitors Mater Lett 2021 296 129837 10.1016/j.matlet.2021.129837 1:CAS:528:DC%2BB3MXps1Kjtbs%3D'),\n",
       " Citation(id='CR158', references=[], text='Sun Y Yang Y Shi X Suo G Chen H Hou X Lu S Chen Z Self-Standing film assembled using SnS–Sn/multiwalled carbon nanotubes encapsulated carbon fibers: a potential large-scale production material for ultra-stable sodium-ion battery anodes ACS Appl Mater Interfaces 2021 13 24 28359 28368 10.1021/acsami.1c07152 1:CAS:528:DC%2BB3MXht1Grt7vE'),\n",
       " Citation(id='CR159', references=[], text='Xiang GX Gao X Tang WJ Jie XZ Huang X Numerical study on transition structures of oblique detonations with expansion wave from finite-length cowl Phys Fluids 2020 32 5 56108 10.1063/5.0005189 1:CAS:528:DC%2BB3cXpvF2rsLs%3D'),\n",
       " Citation(id='CR160', references=[], text='Yu Y Zhao Y Qiao Y Feng Y Li W Fei W Defect engineering of rutile TiO2 ceramics: route to high voltage stability of colossal permittivity J Mater Sci Technol 2021 84 10 15 10.1016/j.jmst.2020.12.046'),\n",
       " Citation(id='CR161', references=[], text='Zhang X Tang Y Zhang F Lee C A novel aluminium–graphite dual-ion battery Adv Energy Mater 2016 6 11 1502588 10.1002/aenm.201502588 1:CAS:528:DC%2BC28XktlGgurk%3D'),\n",
       " Citation(id='CR162', references=[], text='Gao B Kleinhammes A Tang XP Bower C Fleming L Wu Y Zhou O Electrochemical intercalation of single-walled carbon nanotubes with lithium Chem Phys Lett 1999 307 153 1:CAS:528:DyaK1MXjvFWgtrc%3D'),\n",
       " Citation(id='CR163', references=[], text='Guo ZP Zhao ZW Liu HK Dou SX Electrochemical lithiation and de-lithiation of MWNT–Sn/SnNi nanocomposites Carbon 2005 43 1392 1:CAS:528:DC%2BD2MXjslOgtrs%3D'),\n",
       " Citation(id='CR164', references=[], text='Yin J Wada M Kitano Y Tanase S Kajita O Sakai T Nanostructured Ag–Fe–Sn/carbon nanotubes composites as anode materials for advanced lithium-ion batteries J Electrochem Soc 2005 152 A1341 1:CAS:528:DC%2BD2MXlvVertr4%3D'),\n",
       " Citation(id='CR165', references=[], text='Wang GX Ahn J-H Yao J Lindsay M Liu HK Dou SX Preparation and characterization of carbon nanotubes for energy storage J Power Sources 2003 119 16'),\n",
       " Citation(id='CR166', references=[], text='Shin HC Liu M Three-dimensional porous copper–tin alloy electrodes for rechargeable lithium batteries Adv Funct Mater 2005 15 582 1:CAS:528:DC%2BD2MXjs1eku7s%3D'),\n",
       " Citation(id='CR167', references=[], text='Li H Huang X Chen L Wu Z Liang Y A high capacity nano Si composite anode material for lithium rechargeable batteries Electrochem Solid-State Lett 1999 2 547 1:CAS:528:DyaK1MXms1Onsr0%3D'),\n",
       " Citation(id='CR168', references=[], text='Patirissi CJ Martin CR Sol–gel-based template synthesis and Li-insertion rate performance of nanostructured vanadium pentoxide J Electrochem Soc 1999 146 3176'),\n",
       " Citation(id='CR169', references=[], text='Larcher D Masquelier C Bonnin D Chabre Y Masson V Leriche J-B Tarascon J-M Effect of particle size on lithium intercalation into α Fe2O3 J Electrochem Soc 2003 150 A133 1:CAS:528:DC%2BD38XpvVeiu7Y%3D'),\n",
       " Citation(id='CR170', references=[], text='Gao XP Lan Y Zhu HY Liu JW Ge YP Wu F Song DY Electrochemical performance of anatase nanotubes converted from protonated titanate hydrate nanotubes Electrochem Solid State Lett 2005 8 A26 1:CAS:528:DC%2BD2cXhtFSgu7nN'),\n",
       " Citation(id='CR171', references=[], text='Wang GX Bewlay S Yao J Liu HK Dou SX Tungsten disulfide nanotubes for lithium storage Electrochem Solid State Lett 2004 7 A321 1:CAS:528:DC%2BD2cXotVKntLc%3D'),\n",
       " Citation(id='CR172', references=[], text='Yuan YF Tu JP Wu HM Li Y Shi DQ Zhao XB Effect of ZnO nanomaterials associated with Ca(OH)2 as anode material for Ni–Zn batteries J Power Sources 2006 159 1 357 360 1:CAS:528:DC%2BD28XptVSjsLo%3D'),\n",
       " Citation(id='CR173', references=[], text='Khossossi N Banerjee A Essaoudi I Ainane A Jena P Ahuja R Thermodynamics and kinetics of 2D g-GeC monolayer as an anode materials for Li/Na-ion batteries J Power Sources 2021 485 229318 1:CAS:528:DC%2BB3cXis1Wku7nI'),\n",
       " Citation(id='CR174', references=[], text='Zhou C Wan S Chen Y Fu L Chen H Kang C Liu Q Dispersed Cu2S/Ni3S2 nanoparticles encased in carbon layers as high-performance anodes for sodium-ion batteries J Power Sources 2021 509 230401 1:CAS:528:DC%2BB3MXhvVehur3L'),\n",
       " Citation(id='CR175', references=[], text='Qin W Liu H An J Wen X Enhanced Li-ion battery performance of TiO2 nanoparticle-loaded Li4Ti5O12 nanosheet anode using carbon coated copper as current collector J Power Sources 2020 479 229090 1:CAS:528:DC%2BB3cXit1Khsb%2FP'),\n",
       " Citation(id='CR176', references=[], text='Lin H-P Chen K-T Chang C-B Tuan H-Y Aluminum phosphide as a high-performance lithium-ion battery anode J Power Sources 2020 465 228262 1:CAS:528:DC%2BB3cXptVClsbk%3D'),\n",
       " Citation(id='CR177', references=[], text='Xu Y Bauer D Lübke M Ashton TE Zong Y Darr JA High-power sodium titanate anodes; a comparison of lithium versus sodium-ion batteries J Power Sources 2018 408 28 37 1:CAS:528:DC%2BC1cXitVChsbnN'),\n",
       " Citation(id='CR178', references=[], text='Tong X Zhang F Ji B Sheng M Tang Y Carbon-coated porous aluminum foil anode for high-rate, long-term cycling stability, and high energy density dual-ion batteries Adv Mater (Weinheim) 2016 28 45 9979 9985 10.1002/adma.201603735 1:CAS:528:DC%2BC28XhsFymtrrI'),\n",
       " Citation(id='CR179', references=[], text='Ji B Zhang F Song X Tang Y A novel potassium-ion-based dual-ion battery Adv Mater (Weinheim) 2017 29 19 1700519 10.1002/adma.201700519 1:CAS:528:DC%2BC2sXksVansrc%3D'),\n",
       " Heading(id=None, references=[], text=\"Publisher's Note\"),\n",
       " Paragraph(id=None, references=[], text='Springer Nature remains neutral with regard to jurisdictional claims in published maps and institutional affiliations.')]"
      ]
     },
     "execution_count": 17,
     "metadata": {},
     "output_type": "execute_result"
    }
   ],
   "source": [
    "from batterydataextractor.doc import Document\n",
    "spr = Document.from_file(r\"tests/testpapers/spr_test1.xml\")\n",
    "spr.elements\n",
    "# records = spr.records\n",
    "# print(spr.records.serialize())"
   ]
  },
  {
   "cell_type": "code",
   "execution_count": 16,
   "id": "64d0b0e5",
   "metadata": {},
   "outputs": [
    {
     "name": "stderr",
     "output_type": "stream",
     "text": [
      "Asking to truncate to max_length but no maximum length is provided and the model has no predefined maximum length. Default to no truncation.\n",
      "Asking to truncate to max_length but no maximum length is provided and the model has no predefined maximum length. Default to no truncation.\n",
      "Asking to truncate to max_length but no maximum length is provided and the model has no predefined maximum length. Default to no truncation.\n"
     ]
    },
    {
     "name": "stdout",
     "output_type": "stream",
     "text": [
      "[<PropertyData>, <PropertyData>]\n"
     ]
    }
   ],
   "source": [
    "from batterydataextractor.doc import Document\n",
    "doc = Document(\"The cathode of Li-ion battery is LiFePO4. The voltage is 3.3V for NaCl. However, the capacity of LiFePO4 is 3 mAh/g.\")\n",
    "doc.add_models_by_names([\"capacity\", \"voltage\"])\n",
    "record = doc.records\n",
    "print(record)"
   ]
  },
  {
   "cell_type": "code",
   "execution_count": 18,
   "id": "79cbfab4",
   "metadata": {},
   "outputs": [
    {
     "name": "stdout",
     "output_type": "stream",
     "text": [
      "{'PropertyData': {'value': [3.3], 'units': 'V', 'specifier': 'voltage', 'material': 'NaCl'}}\n",
      "{'PropertyData': {'value': [3.0], 'units': 'mAh / g', 'specifier': 'capacity', 'material': 'LiFePO4'}}\n"
     ]
    }
   ],
   "source": [
    "for r in record:\n",
    "    print(r.serialize())"
   ]
  },
  {
   "cell_type": "code",
   "execution_count": 19,
   "id": "e1ab95de",
   "metadata": {},
   "outputs": [
    {
     "name": "stdout",
     "output_type": "stream",
     "text": [
      "[Span('LiFePO4', 33, 40), Span('NaCl', 66, 70), Span('LiFePO4', 97, 104)]\n"
     ]
    }
   ],
   "source": [
    "print(doc.cems)"
   ]
  },
  {
   "cell_type": "code",
   "execution_count": 20,
   "id": "ae31139d",
   "metadata": {},
   "outputs": [
    {
     "name": "stderr",
     "output_type": "stream",
     "text": [
      "Asking to truncate to max_length but no maximum length is provided and the model has no predefined maximum length. Default to no truncation.\n"
     ]
    },
    {
     "name": "stdout",
     "output_type": "stream",
     "text": [
      "[{'PropertyData': {'value': [146.0, 147.0], 'units': '° C', 'specifier': 'mp', 'material': 'pyridine-2-carboxylic acid'}}]\n"
     ]
    }
   ],
   "source": [
    "property_name = \"mp\"\n",
    "context = '4-Acetylamino-3-chloro-6-(4-cyano-2,6-difluoro-3-methoxyphenyl)pyridine-2-carboxylic acid: mp 146-147 °C.'\n",
    "doc2 = Document(context)\n",
    "doc2.add_models_by_names([property_name])\n",
    "print(doc2.records.serialize())"
   ]
  },
  {
   "cell_type": "code",
   "execution_count": 21,
   "id": "8c45dfd2",
   "metadata": {},
   "outputs": [
    {
     "name": "stderr",
     "output_type": "stream",
     "text": [
      "Asking to truncate to max_length but no maximum length is provided and the model has no predefined maximum length. Default to no truncation.\n"
     ]
    },
    {
     "name": "stdout",
     "output_type": "stream",
     "text": [
      "[{'PropertyData': {'value': [282.6], 'units': '° C', 'specifier': 'glass transition temperature', 'material': 'poly(azide)'}}]\n"
     ]
    }
   ],
   "source": [
    "property_name = \"glass transition temperature\"\n",
    "context = 'The poly(azide) shows a glass transition temperature of 282.6 °C.'\n",
    "doc3 = Document(context)\n",
    "doc3.add_models_by_names([property_name])\n",
    "print(doc3.records.serialize())\n",
    "#CDE result: just 282.6, no material"
   ]
  },
  {
   "cell_type": "code",
   "execution_count": 24,
   "id": "ba53531a",
   "metadata": {},
   "outputs": [
    {
     "name": "stderr",
     "output_type": "stream",
     "text": [
      "Asking to truncate to max_length but no maximum length is provided and the model has no predefined maximum length. Default to no truncation.\n"
     ]
    },
    {
     "name": "stdout",
     "output_type": "stream",
     "text": [
      "[{'PropertyData': {'value': [372.0, 1.0], 'specifier': 'capacity', 'material': 'LiC6'}}]\n"
     ]
    }
   ],
   "source": [
    "property_name = 'capacity'\n",
    "context = 'The mechanism of lithium intercalation in the so-called ‘soft’ anodes, i.e. graphite or graphitable carbons, is well known: it develops through well-identified, reversible stages, corresponding to progressive intercalation within discrete graphene layers, to reach the formation of LiC6 with a maximum theoretical capacity of 372 mAh g−1.'\n",
    "doc4 = Document(context)\n",
    "doc4.add_models_by_names([property_name])\n",
    "print(doc4.records.serialize())"
   ]
  },
  {
   "cell_type": "code",
   "execution_count": 28,
   "id": "fdeeffea",
   "metadata": {},
   "outputs": [
    {
     "name": "stderr",
     "output_type": "stream",
     "text": [
      "Asking to truncate to max_length but no maximum length is provided and the model has no predefined maximum length. Default to no truncation.\n"
     ]
    },
    {
     "name": "stdout",
     "output_type": "stream",
     "text": [
      "{'GeneralInfo': {'answer': 'graphitic carbon electrode with a metallic backing', 'specifier': 'anode'}}\n",
      "{'GeneralInfo': {'answer': 'lithium iron phosphate', 'specifier': 'cathode'}}\n"
     ]
    }
   ],
   "source": [
    "s = 'The lithium iron phosphate battery (LiFePO4 battery) or LFP battery (lithium ferrophosphate), is a type ' \\\n",
    "            'of lithium-ion battery using lithium iron phosphate (LiFePO4) as the cathode material, and a graphitic ' \\\n",
    "            'carbon electrode with a metallic backing as the anode.'\n",
    "p = Paragraph(s)\n",
    "p.add_general_models([\"anode\", \"cathode\"])\n",
    "record = p.records\n",
    "for r in record:\n",
    "    print(r.serialize())"
   ]
  },
  {
   "cell_type": "code",
   "execution_count": 27,
   "id": "d0617fab",
   "metadata": {},
   "outputs": [
    {
     "name": "stderr",
     "output_type": "stream",
     "text": [
      "Asking to truncate to max_length but no maximum length is provided and the model has no predefined maximum length. Default to no truncation.\n"
     ]
    },
    {
     "name": "stdout",
     "output_type": "stream",
     "text": [
      "{'GeneralInfo': {'answer': 'Varian MR - 400 MHz instrument', 'specifier': 'apparatus'}}\n"
     ]
    }
   ],
   "source": [
    "s = '1H NMR spectra were recorded on a Varian MR-400 MHz instrument.'\n",
    "p = Paragraph(s)\n",
    "p.add_general_models([\"apparatus\"])\n",
    "record = p.records\n",
    "for r in record:\n",
    "    print(r.serialize())"
   ]
  },
  {
   "cell_type": "code",
   "execution_count": null,
   "id": "98abe5f3",
   "metadata": {},
   "outputs": [],
   "source": []
  },
  {
   "cell_type": "code",
   "execution_count": null,
   "id": "1b9f3223",
   "metadata": {},
   "outputs": [],
   "source": []
  },
  {
   "cell_type": "code",
   "execution_count": null,
   "id": "dbdeefef",
   "metadata": {},
   "outputs": [],
   "source": []
  },
  {
   "cell_type": "markdown",
   "id": "7ef493b2",
   "metadata": {},
   "source": [
    "TODO:\n",
    "\n",
    "- ~~Define relations between compound and property.~~\n",
    "- More complicated case (e.g. A long paragraph including multiple properties or materials?)\n",
    "- Incorporate/Embed \"Unit Model\" into it - (Maybe compare the performance? - Should increase the precision but reduce recall)\n",
    "- ~~General Parser (Non-property parser): Anode/Cathode/Electrolyte; Apparatus~~\n",
    "- ~~Definition?~~\n",
    "- Save the database option\n",
    "- Bootstrap option?\n",
    "- Compound (2 words fix)"
   ]
  },
  {
   "cell_type": "code",
   "execution_count": null,
   "id": "c38ef110",
   "metadata": {},
   "outputs": [],
   "source": []
  }
 ],
 "metadata": {
  "kernelspec": {
   "display_name": "Python 3",
   "language": "python",
   "name": "python3"
  },
  "language_info": {
   "codemirror_mode": {
    "name": "ipython",
    "version": 3
   },
   "file_extension": ".py",
   "mimetype": "text/x-python",
   "name": "python",
   "nbconvert_exporter": "python",
   "pygments_lexer": "ipython3",
   "version": "3.8.8"
  }
 },
 "nbformat": 4,
 "nbformat_minor": 5
}
