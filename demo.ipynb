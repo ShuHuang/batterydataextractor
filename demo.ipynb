{
 "cells": [
  {
   "cell_type": "markdown",
   "id": "9e178797",
   "metadata": {},
   "source": [
    "### Getting started\n",
    "#### Week 24/01/2022"
   ]
  },
  {
   "cell_type": "code",
   "execution_count": 1,
   "id": "7b9d8cc7",
   "metadata": {},
   "outputs": [
    {
     "name": "stderr",
     "output_type": "stream",
     "text": [
      "/Users/shu/opt/anaconda3/envs/bde3.8/lib/python3.8/site-packages/transformers/pipelines/token_classification.py:135: UserWarning: `grouped_entities` is deprecated and will be removed in version v5.0.0, defaulted to `aggregation_strategy=\"AggregationStrategy.SIMPLE\"` instead.\n",
      "  warnings.warn(\n"
     ]
    }
   ],
   "source": [
    "from batterydataextractor.doc.document import Document, Paragraph"
   ]
  },
  {
   "cell_type": "code",
   "execution_count": 53,
   "id": "efd68d19",
   "metadata": {},
   "outputs": [],
   "source": [
    "doc1 = Document('graphite is 372 mAhg-1.')\n",
    "doc = Document('UV-vis spectrum of 5,10,15,20-Tetra(4-carboxyphenyl)porphyrin in Tetrahydrofuran (THF).',\n",
    "              'The mechanism of lithium intercalation in the so-called ‘soft’ anodes, i.e. graphite or graphitable carbons, is well known: it develops through well-identified, reversible stages, corresponding to progressive intercalation within discrete graphene layers, to reach the formation of LiC6 with a maximum theoretical capacity of 372 ± 2.4 mAh g−1.')"
   ]
  },
  {
   "cell_type": "code",
   "execution_count": 54,
   "id": "097dab0a",
   "metadata": {},
   "outputs": [
    {
     "data": {
      "text/plain": [
       "[Paragraph(id=None, references=[], text='graphite is 372 mAhg-1.')]"
      ]
     },
     "execution_count": 54,
     "metadata": {},
     "output_type": "execute_result"
    }
   ],
   "source": [
    "doc1.elements"
   ]
  },
  {
   "cell_type": "code",
   "execution_count": 55,
   "id": "2f61cc95",
   "metadata": {},
   "outputs": [
    {
     "data": {
      "text/html": [
       "<p class=\"bde-paragraph\">graphite is 372 mAhg-1.</p>"
      ],
      "text/plain": [
       "Paragraph(id=None, references=[], text='graphite is 372 mAhg-1.')"
      ]
     },
     "execution_count": 55,
     "metadata": {},
     "output_type": "execute_result"
    }
   ],
   "source": [
    "para = doc1.elements[0]\n",
    "para"
   ]
  },
  {
   "cell_type": "code",
   "execution_count": 56,
   "id": "fdcb0d18",
   "metadata": {},
   "outputs": [
    {
     "data": {
      "text/plain": [
       "[Sentence('graphite is 372 mAhg-1.', 0, 23)]"
      ]
     },
     "execution_count": 56,
     "metadata": {},
     "output_type": "execute_result"
    }
   ],
   "source": [
    "para.sentences"
   ]
  },
  {
   "cell_type": "code",
   "execution_count": 57,
   "id": "57c1efe1",
   "metadata": {},
   "outputs": [
    {
     "data": {
      "text/plain": [
       "[[Token('graphite', 0, 8),\n",
       "  Token('is', 9, 11),\n",
       "  Token('372', 12, 15),\n",
       "  Token('mAhg-1', 16, 22),\n",
       "  Token('.', 22, 23)]]"
      ]
     },
     "execution_count": 57,
     "metadata": {},
     "output_type": "execute_result"
    }
   ],
   "source": [
    "para.tokens"
   ]
  },
  {
   "cell_type": "code",
   "execution_count": 7,
   "id": "207dac1b",
   "metadata": {
    "scrolled": true
   },
   "outputs": [
    {
     "data": {
      "text/plain": [
       "[Span('5,10,15,20-Tetra(4-carboxyphenyl)porphyrin', 19, 61),\n",
       " Span('graphite', 76, 84),\n",
       " Span('lithium', 17, 24),\n",
       " Span('graphene', 239, 247),\n",
       " Span('Tetrahydrofuran', 65, 80),\n",
       " Span('carbons', 100, 107),\n",
       " Span('LiC6', 282, 286)]"
      ]
     },
     "execution_count": 7,
     "metadata": {},
     "output_type": "execute_result"
    }
   ],
   "source": [
    "doc.cems"
   ]
  },
  {
   "cell_type": "code",
   "execution_count": 8,
   "id": "c9120ed3",
   "metadata": {
    "scrolled": true
   },
   "outputs": [
    {
     "data": {
      "text/plain": [
       "[(['Dye',\n",
       "   '-',\n",
       "   'sensitized',\n",
       "   'solar',\n",
       "   'cells',\n",
       "   '(',\n",
       "   'DSSCs',\n",
       "   ')',\n",
       "   'with',\n",
       "   'ZnTPP',\n",
       "   '=',\n",
       "   'Zinc',\n",
       "   'tetraphenylporphyrin',\n",
       "   '.'],\n",
       "  [],\n",
       "  None)]"
      ]
     },
     "execution_count": 8,
     "metadata": {},
     "output_type": "execute_result"
    }
   ],
   "source": [
    "p = Paragraph(u'Dye-sensitized solar cells (DSSCs) with ZnTPP = Zinc tetraphenylporphyrin.')\n",
    "#TODO: fix the abbrev.\n",
    "p.abbreviation_definitions"
   ]
  },
  {
   "cell_type": "code",
   "execution_count": 9,
   "id": "9f59a047",
   "metadata": {},
   "outputs": [],
   "source": [
    "s = p.sentences[0]"
   ]
  },
  {
   "cell_type": "code",
   "execution_count": 10,
   "id": "8e479122",
   "metadata": {},
   "outputs": [
    {
     "data": {
      "text/plain": [
       "Token('Dye', 0, 3)"
      ]
     },
     "execution_count": 10,
     "metadata": {},
     "output_type": "execute_result"
    }
   ],
   "source": [
    "s.tokens[0]"
   ]
  },
  {
   "cell_type": "code",
   "execution_count": 11,
   "id": "af330e43",
   "metadata": {},
   "outputs": [
    {
     "data": {
      "text/plain": [
       "'Dye'"
      ]
     },
     "execution_count": 11,
     "metadata": {},
     "output_type": "execute_result"
    }
   ],
   "source": [
    "s.tokens[0].lex.normalized"
   ]
  },
  {
   "cell_type": "code",
   "execution_count": 12,
   "id": "a51b6b3b",
   "metadata": {},
   "outputs": [
    {
     "data": {
      "text/plain": [
       "False"
      ]
     },
     "execution_count": 12,
     "metadata": {},
     "output_type": "execute_result"
    }
   ],
   "source": [
    "s.tokens[0].lex.is_hyphenated"
   ]
  },
  {
   "cell_type": "markdown",
   "id": "8705a9ee",
   "metadata": {},
   "source": [
    "### Parser"
   ]
  },
  {
   "cell_type": "code",
   "execution_count": 9,
   "id": "c46512ae",
   "metadata": {},
   "outputs": [],
   "source": [
    "from batterydataextractor.nlp import BertCemTagger, CemTagger\n",
    "from transformers import pipeline\n",
    "dt = BertCemTagger()\n",
    "ct = CemTagger()"
   ]
  },
  {
   "cell_type": "code",
   "execution_count": 10,
   "id": "14d99025",
   "metadata": {},
   "outputs": [],
   "source": [
    "question_answerer = pipeline(\"question-answering\", \"batterydata/batterybert-cased-squad-v1\")"
   ]
  },
  {
   "cell_type": "code",
   "execution_count": 11,
   "id": "d72903c2",
   "metadata": {},
   "outputs": [],
   "source": [
    "def new_parser(name, context):\n",
    "    result = question_answerer(question=\"What is the {}?\".format(name), context=context)\n",
    "    if result['score']>0:\n",
    "        answer = result['answer']\n",
    "    print(\"{}:\".format(name.capitalize()), answer, \" Confidence score:\", result['score'])\n",
    "    return"
   ]
  },
  {
   "cell_type": "code",
   "execution_count": 12,
   "id": "a6e5d464",
   "metadata": {},
   "outputs": [],
   "source": [
    "def new_property_only_parser(name, context):\n",
    "    result = question_answerer(question=\"What is the value of {}?\".format(name), context=context)\n",
    "    if result['score']>0:\n",
    "        answer = result['answer']\n",
    "    print(\"Property value:\", answer, \" Confidence score:\", result['score'])\n",
    "    return"
   ]
  },
  {
   "cell_type": "code",
   "execution_count": 15,
   "id": "2b1ae6b9",
   "metadata": {},
   "outputs": [],
   "source": [
    "def new_property_parser_ner(name, context):\n",
    "    result = question_answerer(question=\"What is the value of {}?\".format(name), context=context)\n",
    "    if result['score']>0:\n",
    "        answer = result['answer']\n",
    "    ner = [(i, 'NN') for i in context.split(\" \")]\n",
    "    materials = ct.tag(ner)\n",
    "    for i in materials:\n",
    "        if i[-1] == 'MAT':\n",
    "            material = i[0][0]\n",
    "    print(\"Material:\", material, \" Property value:\", answer, \" Confidence score:\", result['score'])\n",
    "    return"
   ]
  },
  {
   "cell_type": "code",
   "execution_count": 26,
   "id": "23c6763f",
   "metadata": {},
   "outputs": [],
   "source": [
    "def new_property_parser(name, context):\n",
    "    result = question_answerer(question=\"What is the value of {}?\".format(name), context=context)\n",
    "    if result['score']>0:\n",
    "        answer = result['answer']\n",
    "    material = question_answerer(question=\"Which material has a {} of {}?\".format(name, answer), context=context)\n",
    "    print(\"Material:\", material['answer'], \" Property value:\", answer, \" Confidence score:\", result['score'])\n",
    "    return"
   ]
  },
  {
   "cell_type": "code",
   "execution_count": 35,
   "id": "e6bdfd52",
   "metadata": {},
   "outputs": [
    {
     "name": "stdout",
     "output_type": "stream",
     "text": [
      "Material: NaCl  Property value: 146-147 °C  Confidence score: 0.8226007223129272\n"
     ]
    }
   ],
   "source": [
    "property_name = \"mp\"\n",
    "context = 'NaCl: mp 146-147 °C.'\n",
    "new_property_parser(property_name, context)"
   ]
  },
  {
   "cell_type": "code",
   "execution_count": 36,
   "id": "f1ae0f2c",
   "metadata": {},
   "outputs": [
    {
     "name": "stdout",
     "output_type": "stream",
     "text": [
      "Material: poly(azide)  Property value: 282.6 °C  Confidence score: 0.9389880299568176\n"
     ]
    }
   ],
   "source": [
    "property_name = \"glass transition temperature\"\n",
    "context = 'The poly(azide) shows a glass transition temperature of 282.6 °C.'\n",
    "new_property_parser(property_name, context)\n",
    "\n",
    "#CDE result: just 282.6, no material"
   ]
  },
  {
   "cell_type": "code",
   "execution_count": 37,
   "id": "44447943",
   "metadata": {},
   "outputs": [
    {
     "name": "stdout",
     "output_type": "stream",
     "text": [
      "Material: ANTH-OXA6t-OC12)  Property value: 211°  Confidence score: 0.9640427231788635\n"
     ]
    }
   ],
   "source": [
    "context = 'The four-armed compd. (ANTH-OXA6t-OC12) with the dodecyloxy surface group is a high glass transition temp. (Tg:  211°) material and exhibits good soly.'\n",
    "new_property_parser(property_name, context)"
   ]
  },
  {
   "cell_type": "code",
   "execution_count": 38,
   "id": "ab42a8d3",
   "metadata": {},
   "outputs": [
    {
     "name": "stdout",
     "output_type": "stream",
     "text": [
      "Property value: λabs  Confidence score: 0.006887961644679308\n"
     ]
    }
   ],
   "source": [
    "property_name = 'uvvis'\n",
    "context = 'λabs/nm 320, 380, 475, 529;'\n",
    "new_property_only_parser(property_name, context)"
   ]
  },
  {
   "cell_type": "code",
   "execution_count": 39,
   "id": "9ceaaeb2",
   "metadata": {},
   "outputs": [
    {
     "name": "stdout",
     "output_type": "stream",
     "text": [
      "Material: LiC6  Property value: 372 ± 2.4 mAh g−1  Confidence score: 0.597428560256958\n"
     ]
    }
   ],
   "source": [
    "property_name = 'capacity'\n",
    "context = 'The mechanism of lithium intercalation in the so-called ‘soft’ anodes, i.e. graphite or graphitable carbons, is well known: it develops through well-identified, reversible stages, corresponding to progressive intercalation within discrete graphene layers, to reach the formation of LiC6 with a maximum theoretical capacity of 372 ± 2.4 mAh g−1.'\n",
    "new_property_parser(property_name, context)"
   ]
  },
  {
   "cell_type": "markdown",
   "id": "9771776d",
   "metadata": {},
   "source": [
    "TODO: just definition, material, etc."
   ]
  },
  {
   "cell_type": "code",
   "execution_count": 40,
   "id": "c5374af1",
   "metadata": {},
   "outputs": [
    {
     "name": "stdout",
     "output_type": "stream",
     "text": [
      "Apparatus: HORIBA Jobin Yvon FluoroMax-4  Confidence score: 0.10037080198526382\n",
      "Apparatus: Varian MR-400 MHz instrument  Confidence score: 0.5064557194709778\n"
     ]
    }
   ],
   "source": [
    "property_name = 'apparatus'\n",
    "context1 = 'The photoluminescence quantum yield (PLQY) was measured using a HORIBA Jobin Yvon FluoroMax-4 spectrofluorimeter'\n",
    "context2 = '1H NMR spectra were recorded on a Varian MR-400 MHz instrument.'\n",
    "new_parser(property_name, context1)\n",
    "new_parser(property_name, context2)"
   ]
  },
  {
   "cell_type": "markdown",
   "id": "628f1758",
   "metadata": {},
   "source": [
    "### Springer reader, Parser, Model in BDE\n",
    "#### Week 09/02/2022\n"
   ]
  },
  {
   "cell_type": "code",
   "execution_count": 41,
   "id": "684201b9",
   "metadata": {
    "scrolled": true
   },
   "outputs": [
    {
     "data": {
      "text/plain": [
       "[{'title': 'Double-walled core-shell structured Si@SiO2@C nanocomposite as anode for lithium-ion batteries', 'authors': ['Tao', 'Yang', 'Zhang', 'Ni'], 'publisher': 'Springer Berlin Heidelberg', 'journal': 'Ionics', 'date': '20140504', 'volume': '20', 'issue': '11', 'firstpage': '1547', 'lastpage': '1552', 'doi': '10.1007/s11581-014-1138-8', 'abstract': 'Double-walled core-shell structured Si@SiO2@C nanocomposite has been prepared by calcination of silicon nanoparticles in air and subsequent carbon coating. The obtained Si@SiO2@C nanocomposite demonstrates a reversible specific capacity of about 786 mAh g−1 after 100\\xa0cycles at a current density of 100\\xa0mA\\xa0g−1 with a capacity fading of 0.13\\xa0% per cycle. The enhanced electrochemical performance can be due to that the double walls of carbon and SiO2 improve the electronic conductivity and enhance the compatibility of electrode materials and electrolyte as a result of accommodating the significant volumetric change during cycles. The interlayer SiO2 may release the mechanical strain and enhance the interfacial adhesion between carbon shell and silicon core.'},\n",
       " Heading(id=None, references=[], text='Introduction'),\n",
       " Paragraph(id='Sec1', references=[], text='With increasing energy demand, lithium-ion batteries with high energy density and long life span are strongly desired from a utility standpoint. Among various anode materials, silicon is very attractive for the next generation high-energy rechargeable lithium-ion batteries because of its highest theoretical specific capacity of 4,200 mAh G−1 and satisfactory potentials for lithium ion insertion and extraction [1]. In addition, the silicon as anode materials has the advantages of abundance in nature and environmentally friendly. However, the large volume changes of Si during lithium ion insertion and extraction lead to the pulverization of the electrode materials and thus causing the decay of capacity with cycling [2, 3]. Moreover, the low electronic conductivity of Si can cause the polarization of electrode during cycling process.'),\n",
       " Paragraph(id='Sec1', references=[], text='To overcome these problems, many strategies have been implemented, especially focusing on reducing the silicon particle size and preparation of silicon/carbon composites. Various nanostructured silicon materials (silicon nanoparticles [4], silicon nanotubes [5], silicon hollow nanospheres [6], silicon nanowires [7], silicon nanonests [8], silicon nanoarrays [9]) exhibit improved electrochemical performance because nanosized silicon could buffer volume stress and shorten the Li-ion diffusion path lengths. In addition, silicon/carbon composites (silicon/carbon nanorods [10], silicon/carbon nanospheres [11], silicon/graphene nanosheets [12], silicon/carbon nanotubes [13], silicon/carbon nanofibers [14], silicon/graphite [15], silicon/fullerene [16]) have been widely studied to improve the cycling stability. The carbon can prevent aggregation of Si nanoparticles and improve electronic conductivity of electrode. Furthermore, carbon coating can release the mechanical stress caused by large volume changes of Si during charge/discharge process and protect the Si electrode from direct contact with the electrolyte due to the superior chemical and electrochemical stabilities of carbon, thus stabilizing the solid electrolyte interphase (SEI) layer and enhancing the cycle life of Si-based electrodes. Core-shell-structured Si/C composite can combine the advantages of silicon core (high capacity) and carbon shell (long cycle life and high electronic conductivity). Core-shell-structured Si/C nanocomposites have been prepared to obtain a stable capacity because of the homogeneous distribution of Si nanoparticles in carbon matrix [17, 18]. Core-shell-structured Si/C composites are usually formed by mixing active materials with carbon precursor and then heat treatment at high temperature in an inert atmosphere. It is difficult to form a uniform carbon layer on the surface of active particles due to the weak interface bond between active materials and carbon coating. Su et al. report the SiO2 layer is beneficial to coating a dense carbon layer on silicon [19].'),\n",
       " Paragraph(id='Sec1', references=[], text='Herein, we report a simple and large-scale method for preparation of double-walled core-shell structured Si@SiO2@C nanocomposite though calcination of silicon nanoparticles in air to obtain core-shell-structured Si@SiO2 nanocomposite followed by carbon coating. The thin interlayer SiO2 (~5 nm) can strengthen adhesion of the carbon shell and silicon core. The obtained double-walled core-shell structured Si@SiO2@C nanocomposite exhibits an excellent cycling stability.'),\n",
       " Heading(id=None, references=[], text='Experimental'),\n",
       " Heading(id=None, references=[], text='Preparation of Si@SiO2@C nanocomposite'),\n",
       " Paragraph(id='Sec3', references=[], text='The double-walled core-shell structured Si@SiO2@C nanocomposite was prepared through two steps. Firstly, 1 g of Si nanoparticles was calcined in air at 700 °C for 2 h to form a layer of SiO2 on the surface of Si. Secondly, to prepare double core-shell-structured Si@SiO2@C nanocomposite, predetermined amount of epoxy resin as carbon source was heated to 100 °C and then the Si@SiO2 nanocomposite was added into the epoxy resin until vigorous stirring to obtain a gel. The gel was calcined at 700 °C under Ar atmosphere for 1 h to get double-walled core-shell structured Si@SiO2@C nanocomposite. For comparison, Si@C nanocomposite was obtained according to the above method without calcination of Si in air.'),\n",
       " Heading(id=None, references=[], text='Structural characterization'),\n",
       " Paragraph(id='Sec4', references=[], text='X-ray diffraction patterns were collected on a Rigaku Ultima IV with filtered Cu Ka radiation. Raman spectra were recorded on LabRAM HR800 (Horiba JobinYvon) with a laser wavelength of 532 nm. Transmission electron microscope (TEM, JOEL JEM-200CX) and high-resolution TEM (HR-TEM) were employed to visualize the morphology and particle size. Thermogravimetric analysis (TGA) was carried out in air from 25 to 1,000 °C on a PerkinElmer Instruments Diamond TG/DTA.'),\n",
       " Heading(id=None, references=[], text='Electrochemical measurements'),\n",
       " Paragraph(id='Sec5', references=[], text='The electrochemical properties were investigated by using CR2032 coin cells. The working electrodes were prepared by mixing the active materials (Si@SiO2@C nanocomposite, Si@C nanocomposite, and Si nanoparticles), carbon black (Super P) and polyvinylidene difluoride (PVDF) at a weight ratio of 80:10:10 in N-methyl-2-pyrrolidone (NMP) solvent to form slurry. The slurry was pasted on Cu foil and then dried at 120 °C for 24 h. The electrolyte was 1 M LiPF6 in ethylene carbonate/dimethyl carbonate with a volume ratio of 1:1, and lithium foil was used as the counter electrode. Coin cells were fabricated in an Ar-filled glove box with the concentration of moisture and oxygen below 1 ppm. Galvanostatic discharge and charge measurements were performed at a rate of 100 mA g−1 between 0.01 and 1.5 V using a land CT2100 battery test system. Cyclic voltammograms (CV) were measured on a CHI660C Electrochemical Workstation (Shanghai Chenhua) with a voltage range from 0.01 to 1.5 V at a scan rate of 0.5 mV s−1. Electrochemical impedance spectra (EIS) were collected from 0.01 Hz to 100 kHz with an alternating current amplitude of 5 mV using a CHI660C Electrochemical Workstation (Shanghai Chenhua).'),\n",
       " Heading(id=None, references=[], text='Results and discussion'),\n",
       " Paragraph(id='Sec6', references=[], text='Figure 1a illustrates the schematic diagram of the fabrication procedure for Si@SiO2@C nanocomposite. The Si@SiO2@C nanocomposite was obtained by forming a SiO2 layer on the surface of Si nanoparticles and subsequent coating a carbon layer. The Si@SiO2@C nanocomposite is spherical with a diameter in the range of 100 to 200 nm (Fig. 1b). The Si nanoparticles are well coated into SiO2 and carbon shells, the double walls SiO2 and carbon can encapsulate completely the Si core (Fig. 1b). The HR-TEM (Fig. 1c) image reveals that the Si nanoparticles are coated with a layer of SiO2 and carbon layer, and the thickness of interlayer SiO2 is about 5 nm. The coating carbon shell exhibits a disordered microstructure. No obvious SiO2 layer is observed in Si@C nanocomposite, indicating that the Si nanoparticles are directly coated with carbon layer (Fig. 1d).'),\n",
       " Paragraph(id='Fig1', references=[], text='A schematic diagram of the fabrication for double-walled core-shell structured Si@SiO2@C nanocomposite (a); TEM (b) and HR-TEM images (c) of Si@SiO2@C nanocomposite; HR-TEM image of Si@C nanocomposite (d)'),\n",
       " Paragraph(id='Sec6', references=[], text='The XRD patterns and Raman spectra of Si@SiO2@C nanocomposite and Si nanoparticles are presented in Fig. 2. In the case of Si@SiO2@C nanocomposite, the main diffraction peaks at 28.5, 47.4, 56.2, 69.2 76.4, and 88.1° can be indexed as the (111), (220), (311), (400), (331), and (400) planes of Si crystallites (JCPDF NO. 27–1402), respectively. No diffraction peak corresponding to SiO2 and graphite is observed, indicating that the interfacial layer SiO2 and carbon shell are both amorphous. The Raman spectra of Si nanoparticles and Si@SiO2@C nanocomposite are compared in Fig. 2b. For the Si@SiO2@C nanocomposite, the sharp peak at about 506 cm−1 is due to the Si-Si stretching mode [20]. The peaks at 1,360 and 1,582 cm−1 are assigned to the D band and G band of carbon, respectively [21]. Three-dimensional ratio of D band to G band is about 1.26 for Si@SiO2@C nanocomposite, indicating the presence of the disordered carbon in nanocomposite, which is consistent with the above XRD result [22].'),\n",
       " Paragraph(id='Fig2', references=[], text='X-ray diffraction patterns (a) and Raman spectra (b) for Si@SiO2@C nanocomposite and Si nanoparticles'),\n",
       " Paragraph(id='Sec6', references=[], text='From the TGA curves of Si@SiO2@C and Si@C nanocomposites (Fig. 3), it can be estimated that the weight contents of carbon in the Si@SiO2@C and Si@C nanocomposites are about 57 and 55 %, respectively. The first discharge (lithium ion insertion)-charge (lithium ion extraction) curves of Si@SiO2@C nanocomposite, Si@C naocomposite, and Si nanoparticles at a rate of 100 mA g−1 between 0.01 and 1.5 V are displayed in Fig. 4a. The cycling stabilities for Si@SiO2@C nanocomposite, Si@C nanocomposite, and Si nanoparticles are presented in Fig. 4b. In case of Si@SiO2@C nanocomposite, there is a discharge plateau at 0.1 V corresponding to the reaction of between lithium ions and silicon. The Si@SiO2@C nanocomposite delivers the first discharge specific capacity and charge specific capacity of 1,755 and 911 mAh g−1 (the capacity is based on the total nanocomposite), respectively. The reversible capacity of Si@SiO2@C is still as high as 845 mAh G − 1 after 80 cycles, suggesting that the enhanced cycle stability of Si@SiO2@C in comparison with Si@C nanocomposite and Si nanoparticles. After 80 cycles, the reversible capacity of Si@SiO2@C starts to decrease slightly and the reversible capacity is about 785 mAh g−1 after 100 cycles.'),\n",
       " Paragraph(id='Fig3', references=[], text='TGA curves of Si@SiO2@C nanocomposite and Si@C nanocomposite under air atmosphere'),\n",
       " Paragraph(id='Fig4', references=[], text='The first discharge–charge curves (a) and cycling performance (b) of Si@SiO2@C nanocomposite and Si nanoparticles cycled between 0.01 and 1.5 V at a rate of 100 mA g−1'),\n",
       " Paragraph(id='Sec6', references=[], text='A control sample of only carbon-coated Si nanoparticles without forming the interlayer SiO2 shows much faster capacity decay and lower stable capacity than the one with interlayer SiO2. The reversible specific capacity for Si@C nanocomposite decreases from an initial 1,057 mAh g−1 to less than 500 mAh g−1 after 65 cycles. The Si nanoparticles also fail to afford good cycling performance with continuous capacity decay over 50 cycles. These results suggest that the SiO2 and carbon-coating layers on the surface of Si nanoparticles are two important factors to the observed cycling stability in the Si@SiO2@C nanocomposite. The interlayer SiO2 on the surface of Si nanoparticles could provide a flexible cushion in the Si@SiO2@C nanocomposite to accommodate stress and volume changes. In addition, the interlayer SiO2 also could enhance the adhesion between silicon core and carbon shell. Furthermore, the carbon on the Si@SiO2 nanocomposite affords electrical conductivity to the Si nanoparticles. These factors all contributed to the relative excellent performance of the Si@SiO2@C nanocomposite anode materials.'),\n",
       " Paragraph(id='Sec6', references=[], text='The electrochemical reaction mechanism of Si@SiO2@C anode was clearly revealed using CV. The CV curves of Si@SiO2@C electrode are plotted in Fig. 5. There are two peaks at 0.66 and 0.1 V during the first lithiation process due to the formation of SEI layer and LixSi alloy, respectively. The peak at 0.66 V disappears at the subsequent cycles, suggesting the formation of stable SEI layer in the first discharge process. Two peaks at around 0.32 and 0.51 V during the delithation process are corresponding to the dealloying process of Si with lithium. These results are consistent with the above discharge–charge curves.'),\n",
       " Paragraph(id='Fig5', references=[], text='Cyclic voltammetry of Si@SiO2@C nanocomposite from 0.01 to 1.5 V at a scan rate of 0.5 mV s−1'),\n",
       " Paragraph(id='Sec6', references=[], text='In order to further investigate the mechanism of the enhanced electrochemical performance, EIS measurements were performed and the obtained Nyquist plots of Si@SiO2@C nanocomposite and Si nanoparticles after the first and 20th cycles are compared in Fig. 6. The plots are composed of one depressed semicircle in the high frequency range and an inclined line in the low frequency range. The depressed semicircle in the high frequency region corresponds to the overlap between SEI film resistance and the charge transfer impedance [23], while the incline line in the low frequency region is attributed to the lithium ion diffusion within electrode [24]. The Si@SiO2@C electrode exhibits the resistances with a small variance about 42 Ω for the first cycle and 57 Ω after 20 cycles, while the resistance of Si nanoparticles increases from 72 to 105 Ω after 20 cycles. The smaller interface resistance and resistance change for Si@SiO2@C nanocomposite are due to the coating carbon shell, which improves the electric conductivity and enhances the compatibility of electrode and electrolyte as a result of suppressing the resistance increase.'),\n",
       " Paragraph(id='Fig6', references=[], text='Nyquist plots of Si@SiO2@C nanocomposite and Si nanoparticles after the first (solid) and 20th (open) cycles, charged to 1.5 V followed by 24 h rest in an open-circuit potential'),\n",
       " Paragraph(id='Sec6', references=[], text='To characterize the morphology of Si@SiO2@C nanocomposite after cycling, the morphology of Si@SiO2@C nanocomposite after 20 cycles was observed (Fig. 7). Although the spherical structure is not as well defined, the Si cores are still well coated by carbon, indicating the good connect between carbon and silicon. The Si@SiO2@C nanocomposite improves the cycling stability of Si electrode but needs to be further studied to obtain the high capacities for hundreds of cycles.'),\n",
       " Paragraph(id='Fig7', references=[], text='TEM image of Si@SiO2@C nanocomposite after 20 cycles'),\n",
       " Paragraph(id='Sec6', references=[], text='The electrochemical reaction mechanism of SiO2 with lithium ions has been studied [25], as follows:'),\n",
       " Paragraph(id='Sec6', references=[], text='The reaction of (a) is irreversible and the reaction of (b) is reversible, and the reversible capacity of nanocomposite is determined by the reaction (b). The schematic illustration for the insertion of lithium ions into the Si@SiO2@C nanocomposite is displayed in Fig. 8. According to the reaction (a), the SiO2 interlayer may change to the Li4SiO4 phase under the insertion of lithium ions. The Li4SiO4 phase can transfer Li ions from carbon shell to silicon core and maintain the structural integrity of electrode materials [25].'),\n",
       " Paragraph(id='Fig8', references=[], text='The model for lithium ion insertion into the Si@SiO2@C nanocomposite'),\n",
       " Heading(id=None, references=[], text='Conclusion'),\n",
       " Paragraph(id='Sec7', references=[], text='Double-walled core-shell structured Si@SiO2@C nanocomposite was synthesized and studied as an anode material for lithium-ion batteries, and it exhibits a high storage capacity and an excellent cycling stability. The thin interlayer SiO2 enhances the adhesion of carbon shell and Si core and can alleviate mechanism stress acts as inactive phase. The carbon shell also can alleviate mechanism stress caused by the large volume changes of Si and improve electronic conductivity, thus enhancing the cycling stability. The Si@SiO2@C nanocomposite with high specific capacity and good cycling stability is a promising potential material for future lithium-ion batteries with high energy density.'),\n",
       " Heading(id=None, references=[], text='Acknowledgments'),\n",
       " Paragraph(id=None, references=[], text='The authors acknowledge financial supports from Natural Science Foundation of China (NSFC, 51272128, 51302152, 51302153) and Excellent Youth Foundation of Hubei Scientific Committee (2011CDA093). The authors are grateful to Dr. Jianlin Li at China Three Gorges University for his kind support to our research.'),\n",
       " Heading(id=None, references=[], text='References'),\n",
       " Citation(id='CR1', references=[], text='Winter M Besenhard JO Spahr ME Novak P Insertion electrode materials for rechargeable lithium batteries Adv Mater 1998 10 725 763 10.1002/(SICI)1521-4095(199807)10:10<725::AID-ADMA725>3.0.CO;2-Z 1:CAS:528:DyaK1cXksFGmu7g%3D'),\n",
       " Citation(id='CR2', references=[], text='Huggins RA Lithium alloy negative electrodes J Power Sources 1999 81 13 19 10.1016/S0378-7753(99)00124-X'),\n",
       " Citation(id='CR3', references=[], text='Boukamp BA Lesh GC Huggins RA All-solid lithium electrodes with mixed-conductor matrix J Electrochem Soc 1981 128 725 729 10.1149/1.2127495 1:CAS:528:DyaL3MXhs1Cmu7o%3D'),\n",
       " Citation(id='CR4', references=[], text='Li H Huang XJ Chen LQ Wu ZG Liang Y A high capacity nano-Si composite anode material for lithium rechargeable batteries Electrochem Solid State Lett 1999 2 547 549 10.1149/1.1390899 1:CAS:528:DyaK1MXms1Onsr0%3D'),\n",
       " Citation(id='CR5', references=[], text='Park MH Kim MG Joo J Kim K Kim J Ahn S Cui Y Cho J Silicon nanotube battery anodes Nano Lett 2009 9 3844 3847 10.1021/nl902058c 1:CAS:528:DC%2BD1MXhtFWqu7vK'),\n",
       " Citation(id='CR6', references=[], text='Yao Y McDowell MT Ryu I Wu H Liu N Hu LB Nix WD Cui Y Interconnected silicon hollow nanospheres for lithium-ion battery anodes with long cycle life Nano Lett 2011 11 2949 2954 10.1021/nl201470j 1:CAS:528:DC%2BC3MXntlCrt7c%3D'),\n",
       " Citation(id='CR7', references=[], text='Chan CK Peng HL Liu G McIlwrath K Zhang XF Huggins RA Cui Y High-performance lithium battery anodes using silicon nanowires Nat Nanotechnol 2008 3 31 35 10.1038/nnano.2007.411 1:CAS:528:DC%2BD1cXmvVGh'),\n",
       " Citation(id='CR8', references=[], text='Ma H Cheng FY Chen J Zhao JZ Li CS Tao ZL Liang J Nest-like silicon nanospheres for high-capacity lithium storage Adv Mater 2007 19 4067 4070 10.1002/adma.200700621 1:CAS:528:DC%2BD2sXhsVaht7zM'),\n",
       " Citation(id='CR9', references=[], text='Song T Xia JL Lee JH Lee DH Kwon MS Choi JM Wu J Doo SK Chang H Park W Zang DS Kim HS Huang YG Hwang KC Rogers JA Paik U Arrays of sealed silicon nanotubes as anodes for lithium ion batteries Nano Lett 2010 10 1710 1716 10.1021/nl100086e 1:CAS:528:DC%2BC3cXkt1Gku7c%3D'),\n",
       " Citation(id='CR10', references=[], text='Tao HC Fan LZ Qu XH Facile synthesis of ordered porous Si@C nanorods as anode materials for Li-ion batteries Electrochim Acta 2012 71 194 200 10.1016/j.electacta.2012.03.139 1:CAS:528:DC%2BC38Xmt1agsLk%3D'),\n",
       " Citation(id='CR11', references=[], text='Tao HC Huang M Fan LZ Qu XH Interweaved Si@SiOx/C nanoporous spheres as anode materials for Li-ion batteries Solid State Ionics 2012 220 1 6 10.1016/j.ssi.2012.05.014 1:CAS:528:DC%2BC38XhtVWhtbvJ'),\n",
       " Citation(id='CR12', references=[], text='Tao HC Fan LZ Mei YF Qu XH Self-supporting Si/reduced graphene oxide nanocomposite films as anode for lithium ion batteries Electrochem Commun 2011 13 1332 1335 10.1016/j.elecom.2011.08.001 1:CAS:528:DC%2BC3MXhsFart7jK'),\n",
       " Citation(id='CR13', references=[], text='Wang W Kumta PN Nanostructured hybrid silicon/carbon nanotube heterostructures: reversible high-capacity lithium-ion anodes ACS Nano 2010 4 2233 2241 10.1021/nn901632g 1:CAS:528:DC%2BC3cXkt1Gktro%3D'),\n",
       " Citation(id='CR14', references=[], text='Cui LF Yang Y Hsu CM Cui Y Carbon–silicon core–shell nanowires as high capacity electrode for lithium ion batteries Nano Lett 2009 9 3370 3374 10.1021/nl901670t 1:CAS:528:DC%2BD1MXpsFamtb4%3D'),\n",
       " Citation(id='CR15', references=[], text='Yang XL Wen ZY Xu XX Lin B Lin ZX High-performance silicon/carbon/graphite composites as anode materials for lithium ion batteries J Electrochem Soc 2006 153 A1341 A1344 10.1149/1.2199435 1:CAS:528:DC%2BD28XmtVKrtL4%3D'),\n",
       " Citation(id='CR16', references=[], text='Arie AA Song JO Lee JK Structural and electrochemical properties of fullerene-coated silicon thin film as anode materials for lithium secondary batteries Mater Chem Phys 2009 113 249 254 10.1016/j.matchemphys.2008.07.082 1:CAS:528:DC%2BD1cXhsVersL7J'),\n",
       " Citation(id='CR17', references=[], text='Ng SH Wang JZ Wexler D Konstantinov K Guo ZP Liu HK Highly reversible lithium storage in spheroidal carbon-coated silicon nanocomposites as anodes for lithium-ion batteries Angew Chem Int Ed 2006 45 6896 6899 10.1002/anie.200601676 1:CAS:528:DC%2BD28XhtFOltL7N'),\n",
       " Citation(id='CR18', references=[], text='Gao PF Fu JW Yang J Lv RG Wang JL Nuli YN Tang XZ Microporous carbon coated silicon core/shell nanocomposite via in situpolymerization for advanced Li-ion battery anode material Phys Chem Chem Phys 2009 11 11101 11105 10.1039/b914959g 1:CAS:528:DC%2BD1MXhsVOhtLbL'),\n",
       " Citation(id='CR19', references=[], text='Su L Zhou Z Ren M Core double-shell Si@SiO2@C nanocomposites as anode materials for Li-ion batteries Chem Commun 2010 46 2590 2592 10.1039/b925696b 1:CAS:528:DC%2BC3cXktVCmsrc%3D'),\n",
       " Citation(id='CR20', references=[], text='Chan CK Patel RN O’Connell MJ Korgel BA Cui Y Solution-grown silicon nanowires for lithium-ion battery anodes ACS Nano 2010 4 1443 1450 10.1021/nn901409q 1:CAS:528:DC%2BC3cXislyktr0%3D'),\n",
       " Citation(id='CR21', references=[], text='Lee H Cho J Sn78Ge22@carbon core–shell nanowires as fast and high-capacity lithium storage media Nano Lett 2007 7 2638 2641 10.1021/nl071022n 1:CAS:528:DC%2BD2sXot1ahsrs%3D'),\n",
       " Citation(id='CR22', references=[], text='Kim H Cho J Synthesis and morphological, electrochemical characterization of Sn92Co8 nanoalloys for anode materials in Li secondary batteries J Electrochem Soc 2007 154 A462 A466 10.1149/1.2714305 1:CAS:528:DC%2BD2sXmvVyktL8%3D'),\n",
       " Citation(id='CR23', references=[], text='Ruffo R Hong SS Chan CK Huggins RA Cui Y Impedance analysis of silicon nanowire lithium ion battery anodes J Phys Chem C 2009 113 11390 11398 10.1021/jp901594g 1:CAS:528:DC%2BD1MXmvVSnt78%3D'),\n",
       " Citation(id='CR24', references=[], text='Wang C Appleby AJ Little FE EIS study of hydrogen insertion under restricted diffusion conditions: I. Two-step insertion reaction J Electroanal Chem 2001 497 3 17 10.1016/S0022-0728(00)00447-2'),\n",
       " Citation(id='CR25', references=[], text='Guo BK Shu J Wang ZX Yang H Shi LH Liu Y Chen LQ Electrochemical reduction of nano-SiO2 in hard carbon as anode material for lithium ion batteries Electrochem Commun 2008 10 1876 1878 10.1016/j.elecom.2008.09.032 1:CAS:528:DC%2BD1cXhsVWhsb%2FJ')]"
      ]
     },
     "execution_count": 41,
     "metadata": {},
     "output_type": "execute_result"
    }
   ],
   "source": [
    "from batterydataextractor.doc import Document\n",
    "spr = Document.from_file(r\"tests/testpapers/spr_test2.xml\")\n",
    "spr.elements\n",
    "# records = spr.records\n",
    "# print(spr.records.serialize())"
   ]
  },
  {
   "cell_type": "markdown",
   "id": "a576e556",
   "metadata": {},
   "source": [
    "**Property parser**"
   ]
  },
  {
   "cell_type": "code",
   "execution_count": 4,
   "id": "64d0b0e5",
   "metadata": {},
   "outputs": [
    {
     "name": "stderr",
     "output_type": "stream",
     "text": [
      "Asking to truncate to max_length but no maximum length is provided and the model has no predefined maximum length. Default to no truncation.\n",
      "Asking to truncate to max_length but no maximum length is provided and the model has no predefined maximum length. Default to no truncation.\n",
      "Asking to truncate to max_length but no maximum length is provided and the model has no predefined maximum length. Default to no truncation.\n"
     ]
    },
    {
     "name": "stdout",
     "output_type": "stream",
     "text": [
      "[<PropertyData>, <PropertyData>]\n"
     ]
    }
   ],
   "source": [
    "from batterydataextractor.doc import Document\n",
    "doc = Document(\"The theoretical capacity of graphite is 372 mAh/g... In the case of LiFePO4 chemistry, the absolute maximum voltage is 4.2V per cell,\")\n",
    "doc.add_models_by_names([\"capacity\", \"voltage\"])\n",
    "record = doc.records\n",
    "print(record)"
   ]
  },
  {
   "cell_type": "code",
   "execution_count": 5,
   "id": "79cbfab4",
   "metadata": {},
   "outputs": [
    {
     "name": "stdout",
     "output_type": "stream",
     "text": [
      "{'PropertyData': {'value': [372.0], 'units': 'mAh / g', 'raw_value': '372 mAh / g', 'specifier': 'capacity', 'material': 'graphite'}}\n",
      "{'PropertyData': {'value': [4.2], 'units': 'V', 'raw_value': '4.2 V', 'specifier': 'voltage', 'material': 'LiFePO4'}}\n"
     ]
    }
   ],
   "source": [
    "for r in record:\n",
    "    print(r.serialize())"
   ]
  },
  {
   "cell_type": "code",
   "execution_count": 9,
   "id": "e1ab95de",
   "metadata": {},
   "outputs": [
    {
     "name": "stdout",
     "output_type": "stream",
     "text": [
      "[Span('graphite', 28, 36), Span('LiFePO4', 68, 75)]\n"
     ]
    }
   ],
   "source": [
    "print(doc.cems)"
   ]
  },
  {
   "cell_type": "code",
   "execution_count": 18,
   "id": "ae31139d",
   "metadata": {},
   "outputs": [
    {
     "name": "stderr",
     "output_type": "stream",
     "text": [
      "Asking to truncate to max_length but no maximum length is provided and the model has no predefined maximum length. Default to no truncation.\n",
      "Asking to truncate to max_length but no maximum length is provided and the model has no predefined maximum length. Default to no truncation.\n",
      "Asking to truncate to max_length but no maximum length is provided and the model has no predefined maximum length. Default to no truncation.\n"
     ]
    },
    {
     "name": "stdout",
     "output_type": "stream",
     "text": [
      "{'PropertyData': {'value': [146.0, 147.0], 'units': '° C', 'raw_value': '146-147 ° C', 'specifier': 'mp', 'material': 'Aspirin'}}\n"
     ]
    }
   ],
   "source": [
    "property_name = \"mp\"\n",
    "context = 'The melting point (mp) of Aspirin (C9H8O4): 146-147 °C.'\n",
    "doc2 = Document(context)\n",
    "doc2.add_models_by_names([property_name])\n",
    "for r in doc2.records:\n",
    "    print(r.serialize())"
   ]
  },
  {
   "cell_type": "code",
   "execution_count": 17,
   "id": "b49e9d13",
   "metadata": {},
   "outputs": [
    {
     "data": {
      "text/plain": [
       "[Span('C9H8O4', 35, 41)]"
      ]
     },
     "execution_count": 17,
     "metadata": {},
     "output_type": "execute_result"
    }
   ],
   "source": [
    "doc2.cems"
   ]
  },
  {
   "cell_type": "code",
   "execution_count": 11,
   "id": "8c45dfd2",
   "metadata": {},
   "outputs": [
    {
     "name": "stderr",
     "output_type": "stream",
     "text": [
      "Asking to truncate to max_length but no maximum length is provided and the model has no predefined maximum length. Default to no truncation.\n",
      "Asking to truncate to max_length but no maximum length is provided and the model has no predefined maximum length. Default to no truncation.\n",
      "Asking to truncate to max_length but no maximum length is provided and the model has no predefined maximum length. Default to no truncation.\n"
     ]
    },
    {
     "name": "stdout",
     "output_type": "stream",
     "text": [
      "[{'PropertyData': {'value': [282.6], 'units': '° C', 'raw_value': '282.6 ° C', 'specifier': 'glass transition temperature', 'material': 'poly(azide)'}}]\n"
     ]
    }
   ],
   "source": [
    "property_name = \"glass transition temperature\"\n",
    "context = 'The poly(azide) shows a glass transition temperature of 282.6 °C.'\n",
    "doc3 = Document(context)\n",
    "doc3.add_models_by_names([property_name])\n",
    "print(doc3.records.serialize())\n",
    "#CDE result: just 282.6, no material"
   ]
  },
  {
   "cell_type": "code",
   "execution_count": 12,
   "id": "ba53531a",
   "metadata": {},
   "outputs": [
    {
     "name": "stderr",
     "output_type": "stream",
     "text": [
      "Asking to truncate to max_length but no maximum length is provided and the model has no predefined maximum length. Default to no truncation.\n",
      "Asking to truncate to max_length but no maximum length is provided and the model has no predefined maximum length. Default to no truncation.\n",
      "Asking to truncate to max_length but no maximum length is provided and the model has no predefined maximum length. Default to no truncation.\n"
     ]
    },
    {
     "name": "stdout",
     "output_type": "stream",
     "text": [
      "[{'PropertyData': {'value': [372.0], 'units': 'mAh / g', 'raw_value': '372 mAh / g', 'specifier': 'capacity', 'material': 'LiC6'}}]\n"
     ]
    }
   ],
   "source": [
    "property_name = 'capacity'\n",
    "context = 'The mechanism of lithium intercalation in the so-called ‘soft’ anodes, i.e. graphite or graphitable carbons, is well known: it develops through well-identified, reversible stages, corresponding to progressive intercalation within discrete graphene layers, to reach the formation of LiC6 with a maximum theoretical capacity of 372 mAh/g.'\n",
    "doc4 = Document(context)\n",
    "doc4.add_models_by_names([property_name])\n",
    "print(doc4.records.serialize())"
   ]
  },
  {
   "cell_type": "markdown",
   "id": "4907b613",
   "metadata": {},
   "source": [
    "**General Parser**"
   ]
  },
  {
   "cell_type": "code",
   "execution_count": 6,
   "id": "4ddcd5bf",
   "metadata": {},
   "outputs": [
    {
     "name": "stderr",
     "output_type": "stream",
     "text": [
      "Asking to truncate to max_length but no maximum length is provided and the model has no predefined maximum length. Default to no truncation.\n",
      "Asking to truncate to max_length but no maximum length is provided and the model has no predefined maximum length. Default to no truncation.\n",
      "Asking to truncate to max_length but no maximum length is provided and the model has no predefined maximum length. Default to no truncation.\n"
     ]
    },
    {
     "name": "stdout",
     "output_type": "stream",
     "text": [
      "{'Compound': {'names': ['lithium']}}\n",
      "{'Compound': {'names': ['iron']}}\n",
      "{'Compound': {'names': ['phosphate']}}\n",
      "{'Compound': {'names': ['LiFePO4']}}\n",
      "{'Compound': {'names': ['LFP']}}\n",
      "{'Compound': {'names': ['ferrophosphate']}}\n",
      "{'Compound': {'names': ['carbon']}}\n",
      "{'GeneralInfo': {'answer': 'graphitic carbon', 'specifier': 'anode'}}\n",
      "{'GeneralInfo': {'answer': 'lithium iron phosphate', 'specifier': 'cathode'}}\n"
     ]
    }
   ],
   "source": [
    "from batterydataextractor.doc.text import Paragraph\n",
    "s = 'The lithium iron phosphate battery (LiFePO4 battery) or LFP battery (lithium ferrophosphate), is a type ' \\\n",
    "            'of lithium-ion battery using lithium iron phosphate (LiFePO4) as the cathode material, and a graphitic ' \\\n",
    "            'carbon electrode with a metallic backing as the anode.'\n",
    "p = Paragraph(s)\n",
    "p.add_general_models([\"anode\", \"cathode\"])\n",
    "record = p.records\n",
    "for r in record:\n",
    "    print(r.serialize())"
   ]
  },
  {
   "cell_type": "code",
   "execution_count": 7,
   "id": "ceff3272",
   "metadata": {},
   "outputs": [
    {
     "name": "stderr",
     "output_type": "stream",
     "text": [
      "Asking to truncate to max_length but no maximum length is provided and the model has no predefined maximum length. Default to no truncation.\n",
      "Asking to truncate to max_length but no maximum length is provided and the model has no predefined maximum length. Default to no truncation.\n",
      "Asking to truncate to max_length but no maximum length is provided and the model has no predefined maximum length. Default to no truncation.\n"
     ]
    },
    {
     "name": "stdout",
     "output_type": "stream",
     "text": [
      "{'Compound': {'names': ['1H']}}\n",
      "{'GeneralInfo': {'answer': 'Varian MR - 400 MHz instrument', 'specifier': 'apparatus'}}\n"
     ]
    }
   ],
   "source": [
    "from batterydataextractor.doc.text import Paragraph\n",
    "s = '1H NMR spectra were recorded on a Varian MR-400 MHz instrument.'\n",
    "p = Paragraph(s)\n",
    "p.add_general_models([\"apparatus\"])\n",
    "record = p.records\n",
    "for r in record:\n",
    "    print(r.serialize())"
   ]
  },
  {
   "cell_type": "code",
   "execution_count": 8,
   "id": "0ca77eb9",
   "metadata": {},
   "outputs": [
    {
     "name": "stderr",
     "output_type": "stream",
     "text": [
      "Asking to truncate to max_length but no maximum length is provided and the model has no predefined maximum length. Default to no truncation.\n",
      "Asking to truncate to max_length but no maximum length is provided and the model has no predefined maximum length. Default to no truncation.\n",
      "Asking to truncate to max_length but no maximum length is provided and the model has no predefined maximum length. Default to no truncation.\n"
     ]
    },
    {
     "name": "stdout",
     "output_type": "stream",
     "text": [
      "{'Compound': {'names': ['1H']}}\n",
      "{'GeneralInfo': {'answer': 'Varian MR - 400 MHz', 'specifier': 'instrument'}}\n"
     ]
    }
   ],
   "source": [
    "s = '1H NMR spectra were recorded on a Varian MR-400 MHz instrument.'\n",
    "p = Paragraph(s)\n",
    "p.add_general_models([\"instrument\"])\n",
    "record = p.records\n",
    "for r in record:\n",
    "    print(r.serialize())"
   ]
  },
  {
   "cell_type": "code",
   "execution_count": null,
   "id": "ce1bf6ca",
   "metadata": {},
   "outputs": [],
   "source": []
  },
  {
   "cell_type": "code",
   "execution_count": null,
   "id": "5fb05db4",
   "metadata": {},
   "outputs": [],
   "source": []
  },
  {
   "cell_type": "markdown",
   "id": "7ef493b2",
   "metadata": {},
   "source": [
    "TODO:\n",
    "\n",
    "- More complicated case (e.g. A long paragraph including multiple properties or materials?)\n",
    "- Save the database option\n",
    "- Save the original text option\n",
    "- Debug: Compound, Number, Units\n",
    "- Documentation\n",
    "\n",
    "TODO (NER):\n",
    "- Sort out training/test set\n",
    "- Debug: CRF; LSTMCRF"
   ]
  },
  {
   "cell_type": "markdown",
   "id": "6e55ab19",
   "metadata": {},
   "source": [
    "Done:\n",
    "\n",
    "- Define relations between compound and property.~~\n",
    "- General Parser (Non-property parser): Anode/Cathode/Electrolyte; Apparatus~~\n",
    "- Evaluation dataset "
   ]
  },
  {
   "cell_type": "code",
   "execution_count": 19,
   "id": "442672bc",
   "metadata": {},
   "outputs": [
    {
     "name": "stderr",
     "output_type": "stream",
     "text": [
      "Asking to truncate to max_length but no maximum length is provided and the model has no predefined maximum length. Default to no truncation.\n",
      "Asking to truncate to max_length but no maximum length is provided and the model has no predefined maximum length. Default to no truncation.\n",
      "Asking to truncate to max_length but no maximum length is provided and the model has no predefined maximum length. Default to no truncation.\n"
     ]
    },
    {
     "name": "stdout",
     "output_type": "stream",
     "text": [
      "{'PropertyData': {'value': [372.0], 'units': 'mAh / g', 'raw_value': '372 mAh / g', 'specifier': 'capacity', 'material': 'graphite'}}\n",
      "{'PropertyData': {'value': [4.2], 'units': 'V', 'raw_value': '4.2 V', 'specifier': 'voltage', 'material': 'LiFePO4'}}\n"
     ]
    }
   ],
   "source": [
    "from batterydataextractor.doc import Document\n",
    "text = \"The theoretical capacity of graphite is 372 mAh/g... In the case of LiFePO4 chemistry, the absolute maximum voltage is 4.2V per cell.\"\n",
    "doc = Document(text)\n",
    "\n",
    "property_names = [\"capacity\", \"voltage\"]\n",
    "doc.add_models_by_names(property_names)\n",
    "for record in doc.records:\n",
    "    print(record.serialize())\n",
    "    \n",
    "# ==============================================================\n",
    "# {'PropertyData': {'value': [372.0], 'units': 'mAh / g', 'raw_value': '372 mAh / g', 'specifier': 'capacity', 'material': 'graphite'}}\n",
    "# {'PropertyData': {'value': [4.2], 'units': 'V', 'raw_value': '4.2 V', 'specifier': 'voltage', 'material': 'LiFePO4'}}\n"
   ]
  },
  {
   "cell_type": "code",
   "execution_count": 22,
   "id": "70c61f36",
   "metadata": {},
   "outputs": [
    {
     "name": "stderr",
     "output_type": "stream",
     "text": [
      "Asking to truncate to max_length but no maximum length is provided and the model has no predefined maximum length. Default to no truncation.\n"
     ]
    },
    {
     "data": {
      "text/plain": [
       "[{'PropertyData': {'value': [146.0, 147.0],\n",
       "   'units': '° C',\n",
       "   'raw_value': '146-147 ° C',\n",
       "   'specifier': 'mp',\n",
       "   'material': 'Aspirin'}}]"
      ]
     },
     "execution_count": 22,
     "metadata": {},
     "output_type": "execute_result"
    }
   ],
   "source": [
    "doc.records.serialize()"
   ]
  },
  {
   "cell_type": "code",
   "execution_count": 1,
   "id": "0ee100da",
   "metadata": {},
   "outputs": [
    {
     "name": "stderr",
     "output_type": "stream",
     "text": [
      "Asking to truncate to max_length but no maximum length is provided and the model has no predefined maximum length. Default to no truncation.\n",
      "Asking to truncate to max_length but no maximum length is provided and the model has no predefined maximum length. Default to no truncation.\n",
      "Asking to truncate to max_length but no maximum length is provided and the model has no predefined maximum length. Default to no truncation.\n",
      "Asking to truncate to max_length but no maximum length is provided and the model has no predefined maximum length. Default to no truncation.\n"
     ]
    },
    {
     "name": "stdout",
     "output_type": "stream",
     "text": [
      "{'PropertyData': {'value': [146.0, 147.0], 'units': '° C', 'raw_value': '146-147 ° C', 'specifier': 'mp', 'material': 'Aspirin'}}\n"
     ]
    }
   ],
   "source": [
    "from batterydataextractor.doc import Document\n",
    "text = 'The melting point (mp) of Aspirin (C9H8O4): 146-147 °C.'\n",
    "doc = Document(text)\n",
    "\n",
    "property_names = [\"mp\"]\n",
    "doc.add_models_by_names(property_names, confidence_threshold=0.01)\n",
    "for record in doc.records:\n",
    "    print(record.serialize())"
   ]
  },
  {
   "cell_type": "code",
   "execution_count": null,
   "id": "929faf9e",
   "metadata": {},
   "outputs": [],
   "source": [
    "from batterydataextractor.doc.text import Paragraph\n",
    "s = 'The lithium iron phosphate battery (LiFePO4 battery) or LFP battery (lithium ferrophosphate), is a type ' \\\n",
    "            'of lithium-ion battery using lithium iron phosphate (LiFePO4) as the cathode material, and a graphitic ' \\\n",
    "            'carbon electrode with a metallic backing as the anode.'\n",
    "p = Paragraph(s)\n",
    "p.add_general_models([\"anode\", \"cathode\"], confidence_threshold=0.1)\n",
    "record = p.records\n",
    "for r in record:\n",
    "    print(r.serialize())"
   ]
  }
 ],
 "metadata": {
  "kernelspec": {
   "display_name": "Python 3 (ipykernel)",
   "language": "python",
   "name": "python3"
  },
  "language_info": {
   "codemirror_mode": {
    "name": "ipython",
    "version": 3
   },
   "file_extension": ".py",
   "mimetype": "text/x-python",
   "name": "python",
   "nbconvert_exporter": "python",
   "pygments_lexer": "ipython3",
   "version": "3.8.13"
  }
 },
 "nbformat": 4,
 "nbformat_minor": 5
}
