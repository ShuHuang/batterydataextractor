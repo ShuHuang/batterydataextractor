{
 "cells": [
  {
   "cell_type": "markdown",
   "id": "9e178797",
   "metadata": {},
   "source": [
    "### Getting started\n",
    "#### Week 24/01/2022"
   ]
  },
  {
   "cell_type": "code",
   "execution_count": 1,
   "id": "7b9d8cc7",
   "metadata": {},
   "outputs": [],
   "source": [
    "from batterydataextractor.doc.document import Document, Paragraph"
   ]
  },
  {
   "cell_type": "code",
   "execution_count": 2,
   "id": "efd68d19",
   "metadata": {},
   "outputs": [],
   "source": [
    "doc = Document('UV-vis spectrum of 5,10,15,20-Tetra(4-carboxyphenyl)porphyrin in Tetrahydrofuran (THF).',\n",
    "              'The mechanism of lithium intercalation in the so-called ‘soft’ anodes, i.e. graphite or graphitable carbons, is well known: it develops through well-identified, reversible stages, corresponding to progressive intercalation within discrete graphene layers, to reach the formation of LiC6 with a maximum theoretical capacity of 372 ± 2.4 mAh g−1.')"
   ]
  },
  {
   "cell_type": "code",
   "execution_count": 3,
   "id": "097dab0a",
   "metadata": {},
   "outputs": [
    {
     "data": {
      "text/plain": [
       "[Paragraph(id=None, references=[], text='UV-vis spectrum of 5,10,15,20-Tetra(4-carboxyphenyl)porphyrin in Tetrahydrofuran (THF).'),\n",
       " Paragraph(id=None, references=[], text='The mechanism of lithium intercalation in the so-called ‘soft’ anodes, i.e. graphite or graphitable carbons, is well known: it develops through well-identified, reversible stages, corresponding to progressive intercalation within discrete graphene layers, to reach the formation of LiC6 with a maximum theoretical capacity of 372 ± 2.4 mAh g−1.')]"
      ]
     },
     "execution_count": 3,
     "metadata": {},
     "output_type": "execute_result"
    }
   ],
   "source": [
    "doc.elements"
   ]
  },
  {
   "cell_type": "code",
   "execution_count": 4,
   "id": "2f61cc95",
   "metadata": {},
   "outputs": [
    {
     "data": {
      "text/html": [
       "<p class=\"cde-paragraph\">UV-vis spectrum of 5,10,15,20-Tetra(4-carboxyphenyl)porphyrin in Tetrahydrofuran (THF).</p>"
      ],
      "text/plain": [
       "Paragraph(id=None, references=[], text='UV-vis spectrum of 5,10,15,20-Tetra(4-carboxyphenyl)porphyrin in Tetrahydrofuran (THF).')"
      ]
     },
     "execution_count": 4,
     "metadata": {},
     "output_type": "execute_result"
    }
   ],
   "source": [
    "para = doc.elements[0]\n",
    "para"
   ]
  },
  {
   "cell_type": "code",
   "execution_count": 5,
   "id": "fdcb0d18",
   "metadata": {},
   "outputs": [
    {
     "data": {
      "text/plain": [
       "[Sentence('UV-vis spectrum of 5,10,15,20-Tetra(4-carboxyphenyl)porphyrin in Tetrahydrofuran (THF).', 0, 87)]"
      ]
     },
     "execution_count": 5,
     "metadata": {},
     "output_type": "execute_result"
    }
   ],
   "source": [
    "para.sentences"
   ]
  },
  {
   "cell_type": "code",
   "execution_count": 6,
   "id": "57c1efe1",
   "metadata": {},
   "outputs": [
    {
     "data": {
      "text/plain": [
       "[[Token('UV', 0, 2),\n",
       "  Token('-', 2, 3),\n",
       "  Token('vis', 3, 6),\n",
       "  Token('spectrum', 7, 15),\n",
       "  Token('of', 16, 18),\n",
       "  Token('5,10,15,20-Tetra(4-carboxyphenyl)porphyrin', 19, 61),\n",
       "  Token('in', 62, 64),\n",
       "  Token('Tetrahydrofuran', 65, 80),\n",
       "  Token('(', 81, 82),\n",
       "  Token('THF', 82, 85),\n",
       "  Token(')', 85, 86),\n",
       "  Token('.', 86, 87)]]"
      ]
     },
     "execution_count": 6,
     "metadata": {},
     "output_type": "execute_result"
    }
   ],
   "source": [
    "para.tokens"
   ]
  },
  {
   "cell_type": "code",
   "execution_count": 7,
   "id": "207dac1b",
   "metadata": {},
   "outputs": [
    {
     "data": {
      "text/plain": [
       "[]"
      ]
     },
     "execution_count": 7,
     "metadata": {},
     "output_type": "execute_result"
    }
   ],
   "source": [
    "doc.cems"
   ]
  },
  {
   "cell_type": "code",
   "execution_count": 8,
   "id": "c9120ed3",
   "metadata": {},
   "outputs": [
    {
     "name": "stderr",
     "output_type": "stream",
     "text": [
      "Asking to truncate to max_length but no maximum length is provided and the model has no predefined maximum length. Default to no truncation.\n",
      "F:\\Users\\shuhu\\anaconda3\\lib\\site-packages\\torch\\autocast_mode.py:141: UserWarning: User provided device_type of 'cuda', but CUDA is not available. Disabling\n",
      "  warnings.warn('User provided device_type of \\'cuda\\', but CUDA is not available. Disabling')\n"
     ]
    },
    {
     "data": {
      "text/plain": [
       "[(['DSSCs'], ['Dye', '-', 'sensitized', 'solar', 'cells'], None),\n",
       " (['ZnTPP'], ['Zinc', 'tetraphenylporphyrin'], 'CM')]"
      ]
     },
     "execution_count": 8,
     "metadata": {},
     "output_type": "execute_result"
    }
   ],
   "source": [
    "p = Paragraph(u'Dye-sensitized solar cells (DSSCs) with ZnTPP = Zinc tetraphenylporphyrin.')\n",
    "p.abbreviation_definitions"
   ]
  },
  {
   "cell_type": "code",
   "execution_count": 12,
   "id": "9f59a047",
   "metadata": {},
   "outputs": [],
   "source": [
    "s = p.sentences[0]"
   ]
  },
  {
   "cell_type": "code",
   "execution_count": 13,
   "id": "8e479122",
   "metadata": {},
   "outputs": [
    {
     "data": {
      "text/plain": [
       "Token('Dye', 0, 3)"
      ]
     },
     "execution_count": 13,
     "metadata": {},
     "output_type": "execute_result"
    }
   ],
   "source": [
    "s.tokens[0]"
   ]
  },
  {
   "cell_type": "code",
   "execution_count": 14,
   "id": "af330e43",
   "metadata": {},
   "outputs": [
    {
     "data": {
      "text/plain": [
       "'Dye'"
      ]
     },
     "execution_count": 14,
     "metadata": {},
     "output_type": "execute_result"
    }
   ],
   "source": [
    "s.tokens[0].lex.normalized"
   ]
  },
  {
   "cell_type": "code",
   "execution_count": 15,
   "id": "a51b6b3b",
   "metadata": {},
   "outputs": [
    {
     "data": {
      "text/plain": [
       "False"
      ]
     },
     "execution_count": 15,
     "metadata": {},
     "output_type": "execute_result"
    }
   ],
   "source": [
    "s.tokens[0].lex.is_hyphenated"
   ]
  },
  {
   "cell_type": "markdown",
   "id": "8705a9ee",
   "metadata": {},
   "source": [
    "### Parser"
   ]
  },
  {
   "cell_type": "code",
   "execution_count": 4,
   "id": "c46512ae",
   "metadata": {},
   "outputs": [],
   "source": [
    "from batterydataextractor.nlp import BertCemTagger, CemTagger\n",
    "from transformers import pipeline\n",
    "dt = BertCemTagger()\n",
    "ct = CemTagger()"
   ]
  },
  {
   "cell_type": "code",
   "execution_count": 5,
   "id": "14d99025",
   "metadata": {},
   "outputs": [],
   "source": [
    "question_answerer = pipeline(\"question-answering\", \"batterydata/test1\")"
   ]
  },
  {
   "cell_type": "code",
   "execution_count": 6,
   "id": "d72903c2",
   "metadata": {},
   "outputs": [],
   "source": [
    "def new_parser(name, context):\n",
    "    result = question_answerer(question=\"What is the {}?\".format(name), context=context)\n",
    "    if result['score']>0:\n",
    "        answer = result['answer']\n",
    "    print(\"{}:\".format(name.capitalize()), answer, \" Confidence score:\", result['score'])\n",
    "    return"
   ]
  },
  {
   "cell_type": "code",
   "execution_count": 7,
   "id": "a6e5d464",
   "metadata": {},
   "outputs": [],
   "source": [
    "def new_property_only_parser(name, context):\n",
    "    result = question_answerer(question=\"What is the value of {}?\".format(name), context=context)\n",
    "    if result['score']>0:\n",
    "        answer = result['answer']\n",
    "    print(\"Property value:\", answer, \" Confidence score:\", result['score'])\n",
    "    return"
   ]
  },
  {
   "cell_type": "code",
   "execution_count": 8,
   "id": "2b1ae6b9",
   "metadata": {},
   "outputs": [],
   "source": [
    "def new_property_parser(name, context):\n",
    "    result = question_answerer(question=\"What is the value of {}?\".format(name), context=context)\n",
    "    if result['score']>0:\n",
    "        answer = result['answer']\n",
    "    ner = [(i, 'NN') for i in context.split(\" \")]\n",
    "    materials = ct.tag(ner)\n",
    "    for i in materials:\n",
    "        if i[-1] == 'B-CM':\n",
    "            material = i[0][0]\n",
    "    print(\"Material:\", material, \" Property value:\", answer, \" Confidence score:\", result['score'])\n",
    "    return"
   ]
  },
  {
   "cell_type": "markdown",
   "id": "88869d98",
   "metadata": {},
   "source": [
    "#### Demo"
   ]
  },
  {
   "cell_type": "code",
   "execution_count": 9,
   "id": "e6bdfd52",
   "metadata": {},
   "outputs": [
    {
     "name": "stdout",
     "output_type": "stream",
     "text": [
      "Material: 4-Acetylamino-3-chloro-6-(4-cyano-2,6-difluoro-3-methoxyphenyl)pyridine-2-carboxylic  Property value: 146-147 °C  Confidence score: 0.4786563217639923\n"
     ]
    }
   ],
   "source": [
    "property_name = \"mp\"\n",
    "context = '4-Acetylamino-3-chloro-6-(4-cyano-2,6-difluoro-3-methoxyphenyl)pyridine-2-carboxylic acid: mp 146-147 °C.'\n",
    "new_property_parser(property_name, context)"
   ]
  },
  {
   "cell_type": "code",
   "execution_count": 10,
   "id": "f1ae0f2c",
   "metadata": {},
   "outputs": [
    {
     "name": "stdout",
     "output_type": "stream",
     "text": [
      "Material: poly(azide)  Property value: 282.6  Confidence score: 0.757524847984314\n"
     ]
    }
   ],
   "source": [
    "property_name = \"glass transition temperature\"\n",
    "context = 'The poly(azide) shows a glass transition temperature of 282.6 °C.'\n",
    "new_property_parser(property_name, context)\n",
    "\n",
    "#CDE result: just 282.6, no material"
   ]
  },
  {
   "cell_type": "code",
   "execution_count": 11,
   "id": "44447943",
   "metadata": {},
   "outputs": [
    {
     "name": "stdout",
     "output_type": "stream",
     "text": [
      "Material: dodecyloxy  Property value: Tg:  211°  Confidence score: 0.6190184354782104\n"
     ]
    }
   ],
   "source": [
    "context = 'The four-armed compd. (ANTH-OXA6t-OC12) with the dodecyloxy surface group is a high glass transition temp. (Tg:  211°) material and exhibits good soly.'\n",
    "new_property_parser(property_name, context)"
   ]
  },
  {
   "cell_type": "code",
   "execution_count": 12,
   "id": "ab42a8d3",
   "metadata": {},
   "outputs": [
    {
     "name": "stdout",
     "output_type": "stream",
     "text": [
      "Property value: λabs/nm 320, 380, 475, 529  Confidence score: 1.7138758039436652e-06\n"
     ]
    }
   ],
   "source": [
    "property_name = 'uvvis'\n",
    "context = 'λabs/nm 320, 380, 475, 529;'\n",
    "new_property_only_parser(property_name, context)"
   ]
  },
  {
   "cell_type": "code",
   "execution_count": 13,
   "id": "9ceaaeb2",
   "metadata": {},
   "outputs": [
    {
     "name": "stdout",
     "output_type": "stream",
     "text": [
      "Material: LiC6  Property value: 372 ± 2.4 mAh g−1  Confidence score: 0.34231090545654297\n"
     ]
    }
   ],
   "source": [
    "property_name = 'capacity'\n",
    "context = 'The mechanism of lithium intercalation in the so-called ‘soft’ anodes, i.e. graphite or graphitable carbons, is well known: it develops through well-identified, reversible stages, corresponding to progressive intercalation within discrete graphene layers, to reach the formation of LiC6 with a maximum theoretical capacity of 372 ± 2.4 mAh g−1.'\n",
    "new_property_parser(property_name, context)"
   ]
  },
  {
   "cell_type": "markdown",
   "id": "9771776d",
   "metadata": {},
   "source": [
    "TODO: just definition, material, etc."
   ]
  },
  {
   "cell_type": "code",
   "execution_count": 14,
   "id": "c5374af1",
   "metadata": {},
   "outputs": [
    {
     "name": "stdout",
     "output_type": "stream",
     "text": [
      "Apparatus: FluoroMax-4 spectrofluorimeter  Confidence score: 0.05023842304944992\n",
      "Apparatus: Varian MR-400 MHz instrument  Confidence score: 0.5510933995246887\n"
     ]
    }
   ],
   "source": [
    "property_name = 'apparatus'\n",
    "context1 = 'The photoluminescence quantum yield (PLQY) was measured using a HORIBA Jobin Yvon FluoroMax-4 spectrofluorimeter'\n",
    "context2 = '1H NMR spectra were recorded on a Varian MR-400 MHz instrument.'\n",
    "new_parser(property_name, context1)\n",
    "new_parser(property_name, context2)"
   ]
  },
  {
   "cell_type": "markdown",
   "id": "628f1758",
   "metadata": {},
   "source": [
    "### Springer reader, Parser, Model in BDE\n",
    "#### Week 31/01/2022\n"
   ]
  },
  {
   "cell_type": "code",
   "execution_count": 15,
   "id": "684201b9",
   "metadata": {
    "scrolled": true
   },
   "outputs": [
    {
     "name": "stderr",
     "output_type": "stream",
     "text": [
      "Adding of two objects was skipped. <class 'batterydataextractor.doc.text.Citation'> and <class 'batterydataextractor.doc.text.Title'> cannot be added.\n",
      "Adding of two objects was skipped. <class 'batterydataextractor.doc.text.Citation'> and <class 'batterydataextractor.doc.text.Title'> cannot be added.\n",
      "Adding of two objects was skipped. <class 'batterydataextractor.doc.text.Citation'> and <class 'batterydataextractor.doc.text.Title'> cannot be added.\n",
      "Adding of two objects was skipped. <class 'batterydataextractor.doc.text.Citation'> and <class 'batterydataextractor.doc.text.Title'> cannot be added.\n",
      "Adding of two objects was skipped. <class 'batterydataextractor.doc.text.Citation'> and <class 'batterydataextractor.doc.text.Title'> cannot be added.\n",
      "Adding of two objects was skipped. <class 'batterydataextractor.doc.text.Citation'> and <class 'batterydataextractor.doc.text.Title'> cannot be added.\n",
      "Adding of two objects was skipped. <class 'batterydataextractor.doc.text.Citation'> and <class 'batterydataextractor.doc.text.Title'> cannot be added.\n",
      "Adding of two objects was skipped. <class 'batterydataextractor.doc.text.Citation'> and <class 'batterydataextractor.doc.text.Title'> cannot be added.\n",
      "Adding of two objects was skipped. <class 'batterydataextractor.doc.text.Citation'> and <class 'batterydataextractor.doc.text.Title'> cannot be added.\n",
      "Adding of two objects was skipped. <class 'batterydataextractor.doc.text.Citation'> and <class 'batterydataextractor.doc.text.Title'> cannot be added.\n",
      "Adding of two objects was skipped. <class 'batterydataextractor.doc.text.Citation'> and <class 'batterydataextractor.doc.text.Title'> cannot be added.\n",
      "Adding of two objects was skipped. <class 'batterydataextractor.doc.text.Citation'> and <class 'batterydataextractor.doc.text.Title'> cannot be added.\n",
      "Adding of two objects was skipped. <class 'batterydataextractor.doc.text.Citation'> and <class 'batterydataextractor.doc.text.Title'> cannot be added.\n",
      "Adding of two objects was skipped. <class 'batterydataextractor.doc.text.Citation'> and <class 'batterydataextractor.doc.text.Title'> cannot be added.\n",
      "Adding of two objects was skipped. <class 'batterydataextractor.doc.text.Citation'> and <class 'batterydataextractor.doc.text.Title'> cannot be added.\n",
      "Adding of two objects was skipped. <class 'batterydataextractor.doc.text.Citation'> and <class 'batterydataextractor.doc.text.Title'> cannot be added.\n",
      "Adding of two objects was skipped. <class 'batterydataextractor.doc.text.Citation'> and <class 'batterydataextractor.doc.text.Title'> cannot be added.\n",
      "Adding of two objects was skipped. <class 'batterydataextractor.doc.text.Citation'> and <class 'batterydataextractor.doc.text.Title'> cannot be added.\n",
      "Adding of two objects was skipped. <class 'batterydataextractor.doc.text.Citation'> and <class 'batterydataextractor.doc.text.Title'> cannot be added.\n",
      "Adding of two objects was skipped. <class 'batterydataextractor.doc.text.Citation'> and <class 'batterydataextractor.doc.text.Title'> cannot be added.\n",
      "Adding of two objects was skipped. <class 'batterydataextractor.doc.text.Citation'> and <class 'batterydataextractor.doc.text.Title'> cannot be added.\n",
      "Adding of two objects was skipped. <class 'batterydataextractor.doc.text.Citation'> and <class 'batterydataextractor.doc.text.Title'> cannot be added.\n",
      "Adding of two objects was skipped. <class 'batterydataextractor.doc.text.Citation'> and <class 'batterydataextractor.doc.text.Title'> cannot be added.\n",
      "Adding of two objects was skipped. <class 'batterydataextractor.doc.text.Citation'> and <class 'batterydataextractor.doc.text.Title'> cannot be added.\n",
      "Adding of two objects was skipped. <class 'batterydataextractor.doc.text.Citation'> and <class 'batterydataextractor.doc.text.Title'> cannot be added.\n",
      "Adding of two objects was skipped. <class 'batterydataextractor.doc.text.Citation'> and <class 'batterydataextractor.doc.text.Title'> cannot be added.\n",
      "Adding of two objects was skipped. <class 'batterydataextractor.doc.text.Citation'> and <class 'batterydataextractor.doc.text.Title'> cannot be added.\n",
      "Adding of two objects was skipped. <class 'batterydataextractor.doc.text.Citation'> and <class 'batterydataextractor.doc.text.Title'> cannot be added.\n",
      "Adding of two objects was skipped. <class 'batterydataextractor.doc.text.Citation'> and <class 'batterydataextractor.doc.text.Title'> cannot be added.\n",
      "Adding of two objects was skipped. <class 'batterydataextractor.doc.text.Citation'> and <class 'batterydataextractor.doc.text.Title'> cannot be added.\n",
      "Adding of two objects was skipped. <class 'batterydataextractor.doc.text.Citation'> and <class 'batterydataextractor.doc.text.Title'> cannot be added.\n",
      "Adding of two objects was skipped. <class 'batterydataextractor.doc.text.Citation'> and <class 'batterydataextractor.doc.text.Title'> cannot be added.\n",
      "Adding of two objects was skipped. <class 'batterydataextractor.doc.text.Citation'> and <class 'batterydataextractor.doc.text.Title'> cannot be added.\n",
      "Adding of two objects was skipped. <class 'batterydataextractor.doc.text.Citation'> and <class 'batterydataextractor.doc.text.Title'> cannot be added.\n",
      "Adding of two objects was skipped. <class 'batterydataextractor.doc.text.Citation'> and <class 'batterydataextractor.doc.text.Title'> cannot be added.\n",
      "Adding of two objects was skipped. <class 'batterydataextractor.doc.text.Citation'> and <class 'batterydataextractor.doc.text.Title'> cannot be added.\n",
      "Adding of two objects was skipped. <class 'batterydataextractor.doc.text.Citation'> and <class 'batterydataextractor.doc.text.Title'> cannot be added.\n",
      "Adding of two objects was skipped. <class 'batterydataextractor.doc.text.Citation'> and <class 'batterydataextractor.doc.text.Title'> cannot be added.\n",
      "Adding of two objects was skipped. <class 'batterydataextractor.doc.text.Citation'> and <class 'batterydataextractor.doc.text.Title'> cannot be added.\n",
      "Adding of two objects was skipped. <class 'batterydataextractor.doc.text.Citation'> and <class 'batterydataextractor.doc.text.Title'> cannot be added.\n",
      "Adding of two objects was skipped. <class 'batterydataextractor.doc.text.Citation'> and <class 'batterydataextractor.doc.text.Title'> cannot be added.\n",
      "Adding of two objects was skipped. <class 'batterydataextractor.doc.text.Citation'> and <class 'batterydataextractor.doc.text.Title'> cannot be added.\n",
      "Adding of two objects was skipped. <class 'batterydataextractor.doc.text.Citation'> and <class 'batterydataextractor.doc.text.Title'> cannot be added.\n",
      "Adding of two objects was skipped. <class 'batterydataextractor.doc.text.Citation'> and <class 'batterydataextractor.doc.text.Title'> cannot be added.\n",
      "Adding of two objects was skipped. <class 'batterydataextractor.doc.text.Citation'> and <class 'batterydataextractor.doc.text.Title'> cannot be added.\n",
      "Adding of two objects was skipped. <class 'batterydataextractor.doc.text.Citation'> and <class 'batterydataextractor.doc.text.Title'> cannot be added.\n",
      "Adding of two objects was skipped. <class 'batterydataextractor.doc.text.Citation'> and <class 'batterydataextractor.doc.text.Title'> cannot be added.\n",
      "Adding of two objects was skipped. <class 'batterydataextractor.doc.text.Citation'> and <class 'batterydataextractor.doc.text.Title'> cannot be added.\n",
      "Adding of two objects was skipped. <class 'batterydataextractor.doc.text.Citation'> and <class 'batterydataextractor.doc.text.Title'> cannot be added.\n",
      "Adding of two objects was skipped. <class 'batterydataextractor.doc.text.Citation'> and <class 'batterydataextractor.doc.text.Title'> cannot be added.\n",
      "Adding of two objects was skipped. <class 'batterydataextractor.doc.text.Citation'> and <class 'batterydataextractor.doc.text.Title'> cannot be added.\n",
      "Adding of two objects was skipped. <class 'batterydataextractor.doc.text.Citation'> and <class 'batterydataextractor.doc.text.Title'> cannot be added.\n",
      "Adding of two objects was skipped. <class 'batterydataextractor.doc.text.Citation'> and <class 'batterydataextractor.doc.text.Title'> cannot be added.\n",
      "Adding of two objects was skipped. <class 'batterydataextractor.doc.text.Citation'> and <class 'batterydataextractor.doc.text.Title'> cannot be added.\n",
      "Adding of two objects was skipped. <class 'batterydataextractor.doc.text.Citation'> and <class 'batterydataextractor.doc.text.Title'> cannot be added.\n"
     ]
    },
    {
     "name": "stderr",
     "output_type": "stream",
     "text": [
      "Adding of two objects was skipped. <class 'batterydataextractor.doc.text.Citation'> and <class 'batterydataextractor.doc.text.Title'> cannot be added.\n",
      "Adding of two objects was skipped. <class 'batterydataextractor.doc.text.Citation'> and <class 'batterydataextractor.doc.text.Title'> cannot be added.\n",
      "Adding of two objects was skipped. <class 'batterydataextractor.doc.text.Citation'> and <class 'batterydataextractor.doc.text.Title'> cannot be added.\n",
      "Adding of two objects was skipped. <class 'batterydataextractor.doc.text.Citation'> and <class 'batterydataextractor.doc.text.Title'> cannot be added.\n",
      "Adding of two objects was skipped. <class 'batterydataextractor.doc.text.Citation'> and <class 'batterydataextractor.doc.text.Title'> cannot be added.\n",
      "Adding of two objects was skipped. <class 'batterydataextractor.doc.text.Citation'> and <class 'batterydataextractor.doc.text.Title'> cannot be added.\n",
      "Adding of two objects was skipped. <class 'batterydataextractor.doc.text.Citation'> and <class 'batterydataextractor.doc.text.Title'> cannot be added.\n",
      "Adding of two objects was skipped. <class 'batterydataextractor.doc.text.Citation'> and <class 'batterydataextractor.doc.text.Title'> cannot be added.\n",
      "Adding of two objects was skipped. <class 'batterydataextractor.doc.text.Citation'> and <class 'batterydataextractor.doc.text.Title'> cannot be added.\n",
      "Adding of two objects was skipped. <class 'batterydataextractor.doc.text.Citation'> and <class 'batterydataextractor.doc.text.Title'> cannot be added.\n",
      "Adding of two objects was skipped. <class 'batterydataextractor.doc.text.Citation'> and <class 'batterydataextractor.doc.text.Title'> cannot be added.\n",
      "Adding of two objects was skipped. <class 'batterydataextractor.doc.text.Citation'> and <class 'batterydataextractor.doc.text.Title'> cannot be added.\n",
      "Adding of two objects was skipped. <class 'batterydataextractor.doc.text.Citation'> and <class 'batterydataextractor.doc.text.Title'> cannot be added.\n",
      "Adding of two objects was skipped. <class 'batterydataextractor.doc.text.Citation'> and <class 'batterydataextractor.doc.text.Title'> cannot be added.\n",
      "Adding of two objects was skipped. <class 'batterydataextractor.doc.text.Citation'> and <class 'batterydataextractor.doc.text.Title'> cannot be added.\n",
      "Adding of two objects was skipped. <class 'batterydataextractor.doc.text.Citation'> and <class 'batterydataextractor.doc.text.Title'> cannot be added.\n",
      "Adding of two objects was skipped. <class 'batterydataextractor.doc.text.Citation'> and <class 'batterydataextractor.doc.text.Title'> cannot be added.\n",
      "Adding of two objects was skipped. <class 'batterydataextractor.doc.text.Citation'> and <class 'batterydataextractor.doc.text.Title'> cannot be added.\n",
      "Adding of two objects was skipped. <class 'batterydataextractor.doc.text.Citation'> and <class 'batterydataextractor.doc.text.Title'> cannot be added.\n",
      "Adding of two objects was skipped. <class 'batterydataextractor.doc.text.Citation'> and <class 'batterydataextractor.doc.text.Title'> cannot be added.\n",
      "Adding of two objects was skipped. <class 'batterydataextractor.doc.text.Citation'> and <class 'batterydataextractor.doc.text.Title'> cannot be added.\n",
      "Adding of two objects was skipped. <class 'batterydataextractor.doc.text.Citation'> and <class 'batterydataextractor.doc.text.Title'> cannot be added.\n",
      "Adding of two objects was skipped. <class 'batterydataextractor.doc.text.Citation'> and <class 'batterydataextractor.doc.text.Title'> cannot be added.\n",
      "Adding of two objects was skipped. <class 'batterydataextractor.doc.text.Citation'> and <class 'batterydataextractor.doc.text.Title'> cannot be added.\n",
      "Adding of two objects was skipped. <class 'batterydataextractor.doc.text.Citation'> and <class 'batterydataextractor.doc.text.Title'> cannot be added.\n",
      "Adding of two objects was skipped. <class 'batterydataextractor.doc.text.Citation'> and <class 'batterydataextractor.doc.text.Title'> cannot be added.\n",
      "Adding of two objects was skipped. <class 'batterydataextractor.doc.text.Citation'> and <class 'batterydataextractor.doc.text.Title'> cannot be added.\n",
      "Adding of two objects was skipped. <class 'batterydataextractor.doc.text.Citation'> and <class 'batterydataextractor.doc.text.Title'> cannot be added.\n",
      "Adding of two objects was skipped. <class 'batterydataextractor.doc.text.Citation'> and <class 'batterydataextractor.doc.text.Title'> cannot be added.\n",
      "Adding of two objects was skipped. <class 'batterydataextractor.doc.text.Citation'> and <class 'batterydataextractor.doc.text.Title'> cannot be added.\n",
      "Adding of two objects was skipped. <class 'batterydataextractor.doc.text.Citation'> and <class 'batterydataextractor.doc.text.Title'> cannot be added.\n",
      "Adding of two objects was skipped. <class 'batterydataextractor.doc.text.Citation'> and <class 'batterydataextractor.doc.text.Title'> cannot be added.\n",
      "Adding of two objects was skipped. <class 'batterydataextractor.doc.text.Citation'> and <class 'batterydataextractor.doc.text.Title'> cannot be added.\n",
      "Adding of two objects was skipped. <class 'batterydataextractor.doc.text.Citation'> and <class 'batterydataextractor.doc.text.Title'> cannot be added.\n",
      "Adding of two objects was skipped. <class 'batterydataextractor.doc.text.Citation'> and <class 'batterydataextractor.doc.text.Title'> cannot be added.\n",
      "Adding of two objects was skipped. <class 'batterydataextractor.doc.text.Citation'> and <class 'batterydataextractor.doc.text.Title'> cannot be added.\n",
      "Adding of two objects was skipped. <class 'batterydataextractor.doc.text.Citation'> and <class 'batterydataextractor.doc.text.Title'> cannot be added.\n",
      "Adding of two objects was skipped. <class 'batterydataextractor.doc.text.Citation'> and <class 'batterydataextractor.doc.text.Title'> cannot be added.\n",
      "Adding of two objects was skipped. <class 'batterydataextractor.doc.text.Citation'> and <class 'batterydataextractor.doc.text.Title'> cannot be added.\n",
      "Adding of two objects was skipped. <class 'batterydataextractor.doc.text.Citation'> and <class 'batterydataextractor.doc.text.Title'> cannot be added.\n",
      "Adding of two objects was skipped. <class 'batterydataextractor.doc.text.Citation'> and <class 'batterydataextractor.doc.text.Title'> cannot be added.\n",
      "Adding of two objects was skipped. <class 'batterydataextractor.doc.text.Citation'> and <class 'batterydataextractor.doc.text.Title'> cannot be added.\n",
      "Adding of two objects was skipped. <class 'batterydataextractor.doc.text.Citation'> and <class 'batterydataextractor.doc.text.Title'> cannot be added.\n",
      "Adding of two objects was skipped. <class 'batterydataextractor.doc.text.Citation'> and <class 'batterydataextractor.doc.text.Title'> cannot be added.\n",
      "Adding of two objects was skipped. <class 'batterydataextractor.doc.text.Citation'> and <class 'batterydataextractor.doc.text.Title'> cannot be added.\n",
      "Adding of two objects was skipped. <class 'batterydataextractor.doc.text.Citation'> and <class 'batterydataextractor.doc.text.Title'> cannot be added.\n",
      "Adding of two objects was skipped. <class 'batterydataextractor.doc.text.Citation'> and <class 'batterydataextractor.doc.text.Title'> cannot be added.\n",
      "Adding of two objects was skipped. <class 'batterydataextractor.doc.text.Citation'> and <class 'batterydataextractor.doc.text.Title'> cannot be added.\n",
      "Adding of two objects was skipped. <class 'batterydataextractor.doc.text.Citation'> and <class 'batterydataextractor.doc.text.Title'> cannot be added.\n",
      "Adding of two objects was skipped. <class 'batterydataextractor.doc.text.Citation'> and <class 'batterydataextractor.doc.text.Title'> cannot be added.\n",
      "Adding of two objects was skipped. <class 'batterydataextractor.doc.text.Citation'> and <class 'batterydataextractor.doc.text.Title'> cannot be added.\n",
      "Adding of two objects was skipped. <class 'batterydataextractor.doc.text.Citation'> and <class 'batterydataextractor.doc.text.Title'> cannot be added.\n",
      "Adding of two objects was skipped. <class 'batterydataextractor.doc.text.Citation'> and <class 'batterydataextractor.doc.text.Title'> cannot be added.\n",
      "Adding of two objects was skipped. <class 'batterydataextractor.doc.text.Citation'> and <class 'batterydataextractor.doc.text.Title'> cannot be added.\n",
      "Adding of two objects was skipped. <class 'batterydataextractor.doc.text.Citation'> and <class 'batterydataextractor.doc.text.Title'> cannot be added.\n"
     ]
    },
    {
     "name": "stderr",
     "output_type": "stream",
     "text": [
      "Adding of two objects was skipped. <class 'batterydataextractor.doc.text.Citation'> and <class 'batterydataextractor.doc.text.Title'> cannot be added.\n",
      "Adding of two objects was skipped. <class 'batterydataextractor.doc.text.Citation'> and <class 'batterydataextractor.doc.text.Title'> cannot be added.\n",
      "Adding of two objects was skipped. <class 'batterydataextractor.doc.text.Citation'> and <class 'batterydataextractor.doc.text.Title'> cannot be added.\n",
      "Adding of two objects was skipped. <class 'batterydataextractor.doc.text.Citation'> and <class 'batterydataextractor.doc.text.Title'> cannot be added.\n",
      "Adding of two objects was skipped. <class 'batterydataextractor.doc.text.Citation'> and <class 'batterydataextractor.doc.text.Title'> cannot be added.\n",
      "Adding of two objects was skipped. <class 'batterydataextractor.doc.text.Citation'> and <class 'batterydataextractor.doc.text.Title'> cannot be added.\n",
      "Adding of two objects was skipped. <class 'batterydataextractor.doc.text.Citation'> and <class 'batterydataextractor.doc.text.Title'> cannot be added.\n",
      "Adding of two objects was skipped. <class 'batterydataextractor.doc.text.Citation'> and <class 'batterydataextractor.doc.text.Title'> cannot be added.\n",
      "Adding of two objects was skipped. <class 'batterydataextractor.doc.text.Citation'> and <class 'batterydataextractor.doc.text.Title'> cannot be added.\n",
      "Adding of two objects was skipped. <class 'batterydataextractor.doc.text.Citation'> and <class 'batterydataextractor.doc.text.Title'> cannot be added.\n",
      "Adding of two objects was skipped. <class 'batterydataextractor.doc.text.Citation'> and <class 'batterydataextractor.doc.text.Title'> cannot be added.\n",
      "Adding of two objects was skipped. <class 'batterydataextractor.doc.text.Citation'> and <class 'batterydataextractor.doc.text.Title'> cannot be added.\n",
      "Adding of two objects was skipped. <class 'batterydataextractor.doc.text.Citation'> and <class 'batterydataextractor.doc.text.Title'> cannot be added.\n",
      "Adding of two objects was skipped. <class 'batterydataextractor.doc.text.Citation'> and <class 'batterydataextractor.doc.text.Title'> cannot be added.\n",
      "Adding of two objects was skipped. <class 'batterydataextractor.doc.text.Citation'> and <class 'batterydataextractor.doc.text.Title'> cannot be added.\n",
      "Adding of two objects was skipped. <class 'batterydataextractor.doc.text.Citation'> and <class 'batterydataextractor.doc.text.Title'> cannot be added.\n",
      "Adding of two objects was skipped. <class 'batterydataextractor.doc.text.Citation'> and <class 'batterydataextractor.doc.text.Title'> cannot be added.\n",
      "Adding of two objects was skipped. <class 'batterydataextractor.doc.text.Citation'> and <class 'batterydataextractor.doc.text.Title'> cannot be added.\n",
      "Adding of two objects was skipped. <class 'batterydataextractor.doc.text.Citation'> and <class 'batterydataextractor.doc.text.Title'> cannot be added.\n",
      "Adding of two objects was skipped. <class 'batterydataextractor.doc.text.Citation'> and <class 'batterydataextractor.doc.text.Title'> cannot be added.\n",
      "Adding of two objects was skipped. <class 'batterydataextractor.doc.text.Citation'> and <class 'batterydataextractor.doc.text.Title'> cannot be added.\n",
      "Adding of two objects was skipped. <class 'batterydataextractor.doc.text.Citation'> and <class 'batterydataextractor.doc.text.Title'> cannot be added.\n",
      "Adding of two objects was skipped. <class 'batterydataextractor.doc.text.Citation'> and <class 'batterydataextractor.doc.text.Title'> cannot be added.\n",
      "Adding of two objects was skipped. <class 'batterydataextractor.doc.text.Citation'> and <class 'batterydataextractor.doc.text.Title'> cannot be added.\n",
      "Adding of two objects was skipped. <class 'batterydataextractor.doc.text.Citation'> and <class 'batterydataextractor.doc.text.Title'> cannot be added.\n",
      "Adding of two objects was skipped. <class 'batterydataextractor.doc.text.Citation'> and <class 'batterydataextractor.doc.text.Title'> cannot be added.\n",
      "Adding of two objects was skipped. <class 'batterydataextractor.doc.text.Citation'> and <class 'batterydataextractor.doc.text.Title'> cannot be added.\n",
      "Adding of two objects was skipped. <class 'batterydataextractor.doc.text.Citation'> and <class 'batterydataextractor.doc.text.Title'> cannot be added.\n",
      "Adding of two objects was skipped. <class 'batterydataextractor.doc.text.Citation'> and <class 'batterydataextractor.doc.text.Title'> cannot be added.\n",
      "Adding of two objects was skipped. <class 'batterydataextractor.doc.text.Citation'> and <class 'batterydataextractor.doc.text.Title'> cannot be added.\n",
      "Adding of two objects was skipped. <class 'batterydataextractor.doc.text.Citation'> and <class 'batterydataextractor.doc.text.Title'> cannot be added.\n",
      "Adding of two objects was skipped. <class 'batterydataextractor.doc.text.Citation'> and <class 'batterydataextractor.doc.text.Title'> cannot be added.\n",
      "Adding of two objects was skipped. <class 'batterydataextractor.doc.text.Citation'> and <class 'batterydataextractor.doc.text.Title'> cannot be added.\n",
      "Adding of two objects was skipped. <class 'batterydataextractor.doc.text.Citation'> and <class 'batterydataextractor.doc.text.Title'> cannot be added.\n",
      "Adding of two objects was skipped. <class 'batterydataextractor.doc.text.Citation'> and <class 'batterydataextractor.doc.text.Title'> cannot be added.\n",
      "Adding of two objects was skipped. <class 'batterydataextractor.doc.text.Citation'> and <class 'batterydataextractor.doc.text.Title'> cannot be added.\n",
      "Adding of two objects was skipped. <class 'batterydataextractor.doc.text.Citation'> and <class 'batterydataextractor.doc.text.Title'> cannot be added.\n",
      "Adding of two objects was skipped. <class 'batterydataextractor.doc.text.Citation'> and <class 'batterydataextractor.doc.text.Title'> cannot be added.\n",
      "Adding of two objects was skipped. <class 'batterydataextractor.doc.text.Citation'> and <class 'batterydataextractor.doc.text.Title'> cannot be added.\n",
      "Adding of two objects was skipped. <class 'batterydataextractor.doc.text.Citation'> and <class 'batterydataextractor.doc.text.Title'> cannot be added.\n",
      "Adding of two objects was skipped. <class 'batterydataextractor.doc.text.Citation'> and <class 'batterydataextractor.doc.text.Title'> cannot be added.\n",
      "Adding of two objects was skipped. <class 'batterydataextractor.doc.text.Citation'> and <class 'batterydataextractor.doc.text.Title'> cannot be added.\n",
      "Adding of two objects was skipped. <class 'batterydataextractor.doc.text.Citation'> and <class 'batterydataextractor.doc.text.Title'> cannot be added.\n",
      "Adding of two objects was skipped. <class 'batterydataextractor.doc.text.Citation'> and <class 'batterydataextractor.doc.text.Title'> cannot be added.\n",
      "Adding of two objects was skipped. <class 'batterydataextractor.doc.text.Citation'> and <class 'batterydataextractor.doc.text.Title'> cannot be added.\n",
      "Adding of two objects was skipped. <class 'batterydataextractor.doc.text.Citation'> and <class 'batterydataextractor.doc.text.Title'> cannot be added.\n",
      "Adding of two objects was skipped. <class 'batterydataextractor.doc.text.Citation'> and <class 'batterydataextractor.doc.text.Title'> cannot be added.\n",
      "Adding of two objects was skipped. <class 'batterydataextractor.doc.text.Citation'> and <class 'batterydataextractor.doc.text.Title'> cannot be added.\n",
      "Adding of two objects was skipped. <class 'batterydataextractor.doc.text.Citation'> and <class 'batterydataextractor.doc.text.Title'> cannot be added.\n",
      "Adding of two objects was skipped. <class 'batterydataextractor.doc.text.Citation'> and <class 'batterydataextractor.doc.text.Title'> cannot be added.\n",
      "Adding of two objects was skipped. <class 'batterydataextractor.doc.text.Citation'> and <class 'batterydataextractor.doc.text.Title'> cannot be added.\n",
      "Adding of two objects was skipped. <class 'batterydataextractor.doc.text.Abstract'> and <class 'batterydataextractor.doc.text.Heading'> cannot be added.\n",
      "Asking to truncate to max_length but no maximum length is provided and the model has no predefined maximum length. Default to no truncation.\n",
      "Asking to truncate to max_length but no maximum length is provided and the model has no predefined maximum length. Default to no truncation.\n",
      "Asking to truncate to max_length but no maximum length is provided and the model has no predefined maximum length. Default to no truncation.\n"
     ]
    },
    {
     "name": "stderr",
     "output_type": "stream",
     "text": [
      "Asking to truncate to max_length but no maximum length is provided and the model has no predefined maximum length. Default to no truncation.\n",
      "Asking to truncate to max_length but no maximum length is provided and the model has no predefined maximum length. Default to no truncation.\n",
      "Asking to truncate to max_length but no maximum length is provided and the model has no predefined maximum length. Default to no truncation.\n",
      "Asking to truncate to max_length but no maximum length is provided and the model has no predefined maximum length. Default to no truncation.\n",
      "Asking to truncate to max_length but no maximum length is provided and the model has no predefined maximum length. Default to no truncation.\n",
      "Asking to truncate to max_length but no maximum length is provided and the model has no predefined maximum length. Default to no truncation.\n",
      "Asking to truncate to max_length but no maximum length is provided and the model has no predefined maximum length. Default to no truncation.\n",
      "Asking to truncate to max_length but no maximum length is provided and the model has no predefined maximum length. Default to no truncation.\n",
      "Asking to truncate to max_length but no maximum length is provided and the model has no predefined maximum length. Default to no truncation.\n",
      "Asking to truncate to max_length but no maximum length is provided and the model has no predefined maximum length. Default to no truncation.\n",
      "Asking to truncate to max_length but no maximum length is provided and the model has no predefined maximum length. Default to no truncation.\n",
      "Asking to truncate to max_length but no maximum length is provided and the model has no predefined maximum length. Default to no truncation.\n",
      "Asking to truncate to max_length but no maximum length is provided and the model has no predefined maximum length. Default to no truncation.\n",
      "Asking to truncate to max_length but no maximum length is provided and the model has no predefined maximum length. Default to no truncation.\n",
      "Asking to truncate to max_length but no maximum length is provided and the model has no predefined maximum length. Default to no truncation.\n",
      "Asking to truncate to max_length but no maximum length is provided and the model has no predefined maximum length. Default to no truncation.\n",
      "Asking to truncate to max_length but no maximum length is provided and the model has no predefined maximum length. Default to no truncation.\n",
      "Asking to truncate to max_length but no maximum length is provided and the model has no predefined maximum length. Default to no truncation.\n",
      "Asking to truncate to max_length but no maximum length is provided and the model has no predefined maximum length. Default to no truncation.\n",
      "Asking to truncate to max_length but no maximum length is provided and the model has no predefined maximum length. Default to no truncation.\n",
      "Asking to truncate to max_length but no maximum length is provided and the model has no predefined maximum length. Default to no truncation.\n",
      "Asking to truncate to max_length but no maximum length is provided and the model has no predefined maximum length. Default to no truncation.\n",
      "Asking to truncate to max_length but no maximum length is provided and the model has no predefined maximum length. Default to no truncation.\n",
      "Asking to truncate to max_length but no maximum length is provided and the model has no predefined maximum length. Default to no truncation.\n",
      "Asking to truncate to max_length but no maximum length is provided and the model has no predefined maximum length. Default to no truncation.\n",
      "Asking to truncate to max_length but no maximum length is provided and the model has no predefined maximum length. Default to no truncation.\n",
      "Asking to truncate to max_length but no maximum length is provided and the model has no predefined maximum length. Default to no truncation.\n",
      "Asking to truncate to max_length but no maximum length is provided and the model has no predefined maximum length. Default to no truncation.\n",
      "Asking to truncate to max_length but no maximum length is provided and the model has no predefined maximum length. Default to no truncation.\n",
      "Asking to truncate to max_length but no maximum length is provided and the model has no predefined maximum length. Default to no truncation.\n",
      "Asking to truncate to max_length but no maximum length is provided and the model has no predefined maximum length. Default to no truncation.\n",
      "Asking to truncate to max_length but no maximum length is provided and the model has no predefined maximum length. Default to no truncation.\n",
      "Asking to truncate to max_length but no maximum length is provided and the model has no predefined maximum length. Default to no truncation.\n",
      "Asking to truncate to max_length but no maximum length is provided and the model has no predefined maximum length. Default to no truncation.\n",
      "Asking to truncate to max_length but no maximum length is provided and the model has no predefined maximum length. Default to no truncation.\n",
      "Asking to truncate to max_length but no maximum length is provided and the model has no predefined maximum length. Default to no truncation.\n",
      "Asking to truncate to max_length but no maximum length is provided and the model has no predefined maximum length. Default to no truncation.\n",
      "Asking to truncate to max_length but no maximum length is provided and the model has no predefined maximum length. Default to no truncation.\n",
      "Asking to truncate to max_length but no maximum length is provided and the model has no predefined maximum length. Default to no truncation.\n",
      "Asking to truncate to max_length but no maximum length is provided and the model has no predefined maximum length. Default to no truncation.\n",
      "Asking to truncate to max_length but no maximum length is provided and the model has no predefined maximum length. Default to no truncation.\n",
      "Asking to truncate to max_length but no maximum length is provided and the model has no predefined maximum length. Default to no truncation.\n",
      "Asking to truncate to max_length but no maximum length is provided and the model has no predefined maximum length. Default to no truncation.\n",
      "Asking to truncate to max_length but no maximum length is provided and the model has no predefined maximum length. Default to no truncation.\n",
      "Asking to truncate to max_length but no maximum length is provided and the model has no predefined maximum length. Default to no truncation.\n",
      "Asking to truncate to max_length but no maximum length is provided and the model has no predefined maximum length. Default to no truncation.\n",
      "Asking to truncate to max_length but no maximum length is provided and the model has no predefined maximum length. Default to no truncation.\n",
      "Asking to truncate to max_length but no maximum length is provided and the model has no predefined maximum length. Default to no truncation.\n",
      "Asking to truncate to max_length but no maximum length is provided and the model has no predefined maximum length. Default to no truncation.\n",
      "Asking to truncate to max_length but no maximum length is provided and the model has no predefined maximum length. Default to no truncation.\n",
      "Asking to truncate to max_length but no maximum length is provided and the model has no predefined maximum length. Default to no truncation.\n",
      "Asking to truncate to max_length but no maximum length is provided and the model has no predefined maximum length. Default to no truncation.\n",
      "Asking to truncate to max_length but no maximum length is provided and the model has no predefined maximum length. Default to no truncation.\n",
      "Asking to truncate to max_length but no maximum length is provided and the model has no predefined maximum length. Default to no truncation.\n",
      "Asking to truncate to max_length but no maximum length is provided and the model has no predefined maximum length. Default to no truncation.\n",
      "Asking to truncate to max_length but no maximum length is provided and the model has no predefined maximum length. Default to no truncation.\n",
      "Asking to truncate to max_length but no maximum length is provided and the model has no predefined maximum length. Default to no truncation.\n",
      "Asking to truncate to max_length but no maximum length is provided and the model has no predefined maximum length. Default to no truncation.\n",
      "Asking to truncate to max_length but no maximum length is provided and the model has no predefined maximum length. Default to no truncation.\n"
     ]
    },
    {
     "name": "stderr",
     "output_type": "stream",
     "text": [
      "Asking to truncate to max_length but no maximum length is provided and the model has no predefined maximum length. Default to no truncation.\n",
      "Asking to truncate to max_length but no maximum length is provided and the model has no predefined maximum length. Default to no truncation.\n",
      "Asking to truncate to max_length but no maximum length is provided and the model has no predefined maximum length. Default to no truncation.\n",
      "Asking to truncate to max_length but no maximum length is provided and the model has no predefined maximum length. Default to no truncation.\n",
      "Asking to truncate to max_length but no maximum length is provided and the model has no predefined maximum length. Default to no truncation.\n",
      "Asking to truncate to max_length but no maximum length is provided and the model has no predefined maximum length. Default to no truncation.\n",
      "Asking to truncate to max_length but no maximum length is provided and the model has no predefined maximum length. Default to no truncation.\n",
      "Asking to truncate to max_length but no maximum length is provided and the model has no predefined maximum length. Default to no truncation.\n",
      "Asking to truncate to max_length but no maximum length is provided and the model has no predefined maximum length. Default to no truncation.\n",
      "Asking to truncate to max_length but no maximum length is provided and the model has no predefined maximum length. Default to no truncation.\n",
      "Asking to truncate to max_length but no maximum length is provided and the model has no predefined maximum length. Default to no truncation.\n",
      "Asking to truncate to max_length but no maximum length is provided and the model has no predefined maximum length. Default to no truncation.\n",
      "Asking to truncate to max_length but no maximum length is provided and the model has no predefined maximum length. Default to no truncation.\n",
      "Asking to truncate to max_length but no maximum length is provided and the model has no predefined maximum length. Default to no truncation.\n",
      "Asking to truncate to max_length but no maximum length is provided and the model has no predefined maximum length. Default to no truncation.\n",
      "Asking to truncate to max_length but no maximum length is provided and the model has no predefined maximum length. Default to no truncation.\n",
      "Asking to truncate to max_length but no maximum length is provided and the model has no predefined maximum length. Default to no truncation.\n",
      "Asking to truncate to max_length but no maximum length is provided and the model has no predefined maximum length. Default to no truncation.\n",
      "Asking to truncate to max_length but no maximum length is provided and the model has no predefined maximum length. Default to no truncation.\n",
      "Asking to truncate to max_length but no maximum length is provided and the model has no predefined maximum length. Default to no truncation.\n",
      "Asking to truncate to max_length but no maximum length is provided and the model has no predefined maximum length. Default to no truncation.\n",
      "Asking to truncate to max_length but no maximum length is provided and the model has no predefined maximum length. Default to no truncation.\n",
      "Asking to truncate to max_length but no maximum length is provided and the model has no predefined maximum length. Default to no truncation.\n",
      "Asking to truncate to max_length but no maximum length is provided and the model has no predefined maximum length. Default to no truncation.\n",
      "Asking to truncate to max_length but no maximum length is provided and the model has no predefined maximum length. Default to no truncation.\n",
      "Asking to truncate to max_length but no maximum length is provided and the model has no predefined maximum length. Default to no truncation.\n",
      "Asking to truncate to max_length but no maximum length is provided and the model has no predefined maximum length. Default to no truncation.\n",
      "Asking to truncate to max_length but no maximum length is provided and the model has no predefined maximum length. Default to no truncation.\n",
      "Asking to truncate to max_length but no maximum length is provided and the model has no predefined maximum length. Default to no truncation.\n",
      "Asking to truncate to max_length but no maximum length is provided and the model has no predefined maximum length. Default to no truncation.\n",
      "Asking to truncate to max_length but no maximum length is provided and the model has no predefined maximum length. Default to no truncation.\n",
      "Asking to truncate to max_length but no maximum length is provided and the model has no predefined maximum length. Default to no truncation.\n",
      "Asking to truncate to max_length but no maximum length is provided and the model has no predefined maximum length. Default to no truncation.\n",
      "Asking to truncate to max_length but no maximum length is provided and the model has no predefined maximum length. Default to no truncation.\n",
      "Asking to truncate to max_length but no maximum length is provided and the model has no predefined maximum length. Default to no truncation.\n",
      "Asking to truncate to max_length but no maximum length is provided and the model has no predefined maximum length. Default to no truncation.\n",
      "Asking to truncate to max_length but no maximum length is provided and the model has no predefined maximum length. Default to no truncation.\n",
      "Asking to truncate to max_length but no maximum length is provided and the model has no predefined maximum length. Default to no truncation.\n",
      "Asking to truncate to max_length but no maximum length is provided and the model has no predefined maximum length. Default to no truncation.\n",
      "Asking to truncate to max_length but no maximum length is provided and the model has no predefined maximum length. Default to no truncation.\n",
      "Asking to truncate to max_length but no maximum length is provided and the model has no predefined maximum length. Default to no truncation.\n",
      "Asking to truncate to max_length but no maximum length is provided and the model has no predefined maximum length. Default to no truncation.\n",
      "Asking to truncate to max_length but no maximum length is provided and the model has no predefined maximum length. Default to no truncation.\n",
      "Asking to truncate to max_length but no maximum length is provided and the model has no predefined maximum length. Default to no truncation.\n",
      "Asking to truncate to max_length but no maximum length is provided and the model has no predefined maximum length. Default to no truncation.\n",
      "Asking to truncate to max_length but no maximum length is provided and the model has no predefined maximum length. Default to no truncation.\n",
      "Asking to truncate to max_length but no maximum length is provided and the model has no predefined maximum length. Default to no truncation.\n",
      "Asking to truncate to max_length but no maximum length is provided and the model has no predefined maximum length. Default to no truncation.\n",
      "Asking to truncate to max_length but no maximum length is provided and the model has no predefined maximum length. Default to no truncation.\n",
      "Asking to truncate to max_length but no maximum length is provided and the model has no predefined maximum length. Default to no truncation.\n",
      "Asking to truncate to max_length but no maximum length is provided and the model has no predefined maximum length. Default to no truncation.\n",
      "Asking to truncate to max_length but no maximum length is provided and the model has no predefined maximum length. Default to no truncation.\n",
      "Asking to truncate to max_length but no maximum length is provided and the model has no predefined maximum length. Default to no truncation.\n",
      "Asking to truncate to max_length but no maximum length is provided and the model has no predefined maximum length. Default to no truncation.\n",
      "Asking to truncate to max_length but no maximum length is provided and the model has no predefined maximum length. Default to no truncation.\n",
      "Asking to truncate to max_length but no maximum length is provided and the model has no predefined maximum length. Default to no truncation.\n",
      "Asking to truncate to max_length but no maximum length is provided and the model has no predefined maximum length. Default to no truncation.\n",
      "Asking to truncate to max_length but no maximum length is provided and the model has no predefined maximum length. Default to no truncation.\n",
      "Asking to truncate to max_length but no maximum length is provided and the model has no predefined maximum length. Default to no truncation.\n"
     ]
    },
    {
     "name": "stderr",
     "output_type": "stream",
     "text": [
      "Asking to truncate to max_length but no maximum length is provided and the model has no predefined maximum length. Default to no truncation.\n",
      "Asking to truncate to max_length but no maximum length is provided and the model has no predefined maximum length. Default to no truncation.\n",
      "Asking to truncate to max_length but no maximum length is provided and the model has no predefined maximum length. Default to no truncation.\n",
      "Asking to truncate to max_length but no maximum length is provided and the model has no predefined maximum length. Default to no truncation.\n",
      "Asking to truncate to max_length but no maximum length is provided and the model has no predefined maximum length. Default to no truncation.\n",
      "Asking to truncate to max_length but no maximum length is provided and the model has no predefined maximum length. Default to no truncation.\n",
      "Asking to truncate to max_length but no maximum length is provided and the model has no predefined maximum length. Default to no truncation.\n",
      "Asking to truncate to max_length but no maximum length is provided and the model has no predefined maximum length. Default to no truncation.\n",
      "Asking to truncate to max_length but no maximum length is provided and the model has no predefined maximum length. Default to no truncation.\n",
      "Asking to truncate to max_length but no maximum length is provided and the model has no predefined maximum length. Default to no truncation.\n",
      "Asking to truncate to max_length but no maximum length is provided and the model has no predefined maximum length. Default to no truncation.\n",
      "Asking to truncate to max_length but no maximum length is provided and the model has no predefined maximum length. Default to no truncation.\n",
      "Asking to truncate to max_length but no maximum length is provided and the model has no predefined maximum length. Default to no truncation.\n",
      "Asking to truncate to max_length but no maximum length is provided and the model has no predefined maximum length. Default to no truncation.\n",
      "Asking to truncate to max_length but no maximum length is provided and the model has no predefined maximum length. Default to no truncation.\n",
      "Asking to truncate to max_length but no maximum length is provided and the model has no predefined maximum length. Default to no truncation.\n",
      "Asking to truncate to max_length but no maximum length is provided and the model has no predefined maximum length. Default to no truncation.\n",
      "Asking to truncate to max_length but no maximum length is provided and the model has no predefined maximum length. Default to no truncation.\n",
      "Asking to truncate to max_length but no maximum length is provided and the model has no predefined maximum length. Default to no truncation.\n",
      "Asking to truncate to max_length but no maximum length is provided and the model has no predefined maximum length. Default to no truncation.\n",
      "Asking to truncate to max_length but no maximum length is provided and the model has no predefined maximum length. Default to no truncation.\n",
      "Asking to truncate to max_length but no maximum length is provided and the model has no predefined maximum length. Default to no truncation.\n",
      "Asking to truncate to max_length but no maximum length is provided and the model has no predefined maximum length. Default to no truncation.\n",
      "Asking to truncate to max_length but no maximum length is provided and the model has no predefined maximum length. Default to no truncation.\n",
      "Asking to truncate to max_length but no maximum length is provided and the model has no predefined maximum length. Default to no truncation.\n",
      "Asking to truncate to max_length but no maximum length is provided and the model has no predefined maximum length. Default to no truncation.\n",
      "Asking to truncate to max_length but no maximum length is provided and the model has no predefined maximum length. Default to no truncation.\n",
      "Asking to truncate to max_length but no maximum length is provided and the model has no predefined maximum length. Default to no truncation.\n",
      "Asking to truncate to max_length but no maximum length is provided and the model has no predefined maximum length. Default to no truncation.\n",
      "Asking to truncate to max_length but no maximum length is provided and the model has no predefined maximum length. Default to no truncation.\n",
      "Asking to truncate to max_length but no maximum length is provided and the model has no predefined maximum length. Default to no truncation.\n",
      "Asking to truncate to max_length but no maximum length is provided and the model has no predefined maximum length. Default to no truncation.\n",
      "Asking to truncate to max_length but no maximum length is provided and the model has no predefined maximum length. Default to no truncation.\n",
      "Asking to truncate to max_length but no maximum length is provided and the model has no predefined maximum length. Default to no truncation.\n",
      "Asking to truncate to max_length but no maximum length is provided and the model has no predefined maximum length. Default to no truncation.\n",
      "Asking to truncate to max_length but no maximum length is provided and the model has no predefined maximum length. Default to no truncation.\n",
      "Asking to truncate to max_length but no maximum length is provided and the model has no predefined maximum length. Default to no truncation.\n",
      "Asking to truncate to max_length but no maximum length is provided and the model has no predefined maximum length. Default to no truncation.\n",
      "Asking to truncate to max_length but no maximum length is provided and the model has no predefined maximum length. Default to no truncation.\n",
      "Asking to truncate to max_length but no maximum length is provided and the model has no predefined maximum length. Default to no truncation.\n",
      "Asking to truncate to max_length but no maximum length is provided and the model has no predefined maximum length. Default to no truncation.\n",
      "Asking to truncate to max_length but no maximum length is provided and the model has no predefined maximum length. Default to no truncation.\n",
      "Asking to truncate to max_length but no maximum length is provided and the model has no predefined maximum length. Default to no truncation.\n",
      "Asking to truncate to max_length but no maximum length is provided and the model has no predefined maximum length. Default to no truncation.\n",
      "Asking to truncate to max_length but no maximum length is provided and the model has no predefined maximum length. Default to no truncation.\n",
      "Asking to truncate to max_length but no maximum length is provided and the model has no predefined maximum length. Default to no truncation.\n",
      "Asking to truncate to max_length but no maximum length is provided and the model has no predefined maximum length. Default to no truncation.\n",
      "Asking to truncate to max_length but no maximum length is provided and the model has no predefined maximum length. Default to no truncation.\n",
      "Asking to truncate to max_length but no maximum length is provided and the model has no predefined maximum length. Default to no truncation.\n",
      "Asking to truncate to max_length but no maximum length is provided and the model has no predefined maximum length. Default to no truncation.\n",
      "Asking to truncate to max_length but no maximum length is provided and the model has no predefined maximum length. Default to no truncation.\n",
      "Asking to truncate to max_length but no maximum length is provided and the model has no predefined maximum length. Default to no truncation.\n",
      "Asking to truncate to max_length but no maximum length is provided and the model has no predefined maximum length. Default to no truncation.\n",
      "Asking to truncate to max_length but no maximum length is provided and the model has no predefined maximum length. Default to no truncation.\n",
      "Asking to truncate to max_length but no maximum length is provided and the model has no predefined maximum length. Default to no truncation.\n",
      "Asking to truncate to max_length but no maximum length is provided and the model has no predefined maximum length. Default to no truncation.\n",
      "Asking to truncate to max_length but no maximum length is provided and the model has no predefined maximum length. Default to no truncation.\n",
      "Asking to truncate to max_length but no maximum length is provided and the model has no predefined maximum length. Default to no truncation.\n",
      "Asking to truncate to max_length but no maximum length is provided and the model has no predefined maximum length. Default to no truncation.\n"
     ]
    },
    {
     "name": "stderr",
     "output_type": "stream",
     "text": [
      "Asking to truncate to max_length but no maximum length is provided and the model has no predefined maximum length. Default to no truncation.\n",
      "Asking to truncate to max_length but no maximum length is provided and the model has no predefined maximum length. Default to no truncation.\n",
      "Asking to truncate to max_length but no maximum length is provided and the model has no predefined maximum length. Default to no truncation.\n",
      "Asking to truncate to max_length but no maximum length is provided and the model has no predefined maximum length. Default to no truncation.\n",
      "Asking to truncate to max_length but no maximum length is provided and the model has no predefined maximum length. Default to no truncation.\n",
      "Asking to truncate to max_length but no maximum length is provided and the model has no predefined maximum length. Default to no truncation.\n",
      "Asking to truncate to max_length but no maximum length is provided and the model has no predefined maximum length. Default to no truncation.\n",
      "Asking to truncate to max_length but no maximum length is provided and the model has no predefined maximum length. Default to no truncation.\n",
      "Asking to truncate to max_length but no maximum length is provided and the model has no predefined maximum length. Default to no truncation.\n",
      "Asking to truncate to max_length but no maximum length is provided and the model has no predefined maximum length. Default to no truncation.\n",
      "Asking to truncate to max_length but no maximum length is provided and the model has no predefined maximum length. Default to no truncation.\n",
      "Asking to truncate to max_length but no maximum length is provided and the model has no predefined maximum length. Default to no truncation.\n",
      "Asking to truncate to max_length but no maximum length is provided and the model has no predefined maximum length. Default to no truncation.\n",
      "Asking to truncate to max_length but no maximum length is provided and the model has no predefined maximum length. Default to no truncation.\n",
      "Asking to truncate to max_length but no maximum length is provided and the model has no predefined maximum length. Default to no truncation.\n",
      "Asking to truncate to max_length but no maximum length is provided and the model has no predefined maximum length. Default to no truncation.\n",
      "Asking to truncate to max_length but no maximum length is provided and the model has no predefined maximum length. Default to no truncation.\n",
      "Asking to truncate to max_length but no maximum length is provided and the model has no predefined maximum length. Default to no truncation.\n",
      "Asking to truncate to max_length but no maximum length is provided and the model has no predefined maximum length. Default to no truncation.\n",
      "Asking to truncate to max_length but no maximum length is provided and the model has no predefined maximum length. Default to no truncation.\n",
      "Asking to truncate to max_length but no maximum length is provided and the model has no predefined maximum length. Default to no truncation.\n",
      "Asking to truncate to max_length but no maximum length is provided and the model has no predefined maximum length. Default to no truncation.\n",
      "Asking to truncate to max_length but no maximum length is provided and the model has no predefined maximum length. Default to no truncation.\n",
      "Asking to truncate to max_length but no maximum length is provided and the model has no predefined maximum length. Default to no truncation.\n",
      "Asking to truncate to max_length but no maximum length is provided and the model has no predefined maximum length. Default to no truncation.\n",
      "Asking to truncate to max_length but no maximum length is provided and the model has no predefined maximum length. Default to no truncation.\n",
      "Asking to truncate to max_length but no maximum length is provided and the model has no predefined maximum length. Default to no truncation.\n",
      "Asking to truncate to max_length but no maximum length is provided and the model has no predefined maximum length. Default to no truncation.\n",
      "Asking to truncate to max_length but no maximum length is provided and the model has no predefined maximum length. Default to no truncation.\n",
      "Asking to truncate to max_length but no maximum length is provided and the model has no predefined maximum length. Default to no truncation.\n",
      "Asking to truncate to max_length but no maximum length is provided and the model has no predefined maximum length. Default to no truncation.\n",
      "Asking to truncate to max_length but no maximum length is provided and the model has no predefined maximum length. Default to no truncation.\n",
      "Asking to truncate to max_length but no maximum length is provided and the model has no predefined maximum length. Default to no truncation.\n",
      "Asking to truncate to max_length but no maximum length is provided and the model has no predefined maximum length. Default to no truncation.\n",
      "Asking to truncate to max_length but no maximum length is provided and the model has no predefined maximum length. Default to no truncation.\n",
      "Asking to truncate to max_length but no maximum length is provided and the model has no predefined maximum length. Default to no truncation.\n",
      "Asking to truncate to max_length but no maximum length is provided and the model has no predefined maximum length. Default to no truncation.\n",
      "Asking to truncate to max_length but no maximum length is provided and the model has no predefined maximum length. Default to no truncation.\n",
      "Asking to truncate to max_length but no maximum length is provided and the model has no predefined maximum length. Default to no truncation.\n",
      "Asking to truncate to max_length but no maximum length is provided and the model has no predefined maximum length. Default to no truncation.\n",
      "Asking to truncate to max_length but no maximum length is provided and the model has no predefined maximum length. Default to no truncation.\n",
      "Asking to truncate to max_length but no maximum length is provided and the model has no predefined maximum length. Default to no truncation.\n",
      "Asking to truncate to max_length but no maximum length is provided and the model has no predefined maximum length. Default to no truncation.\n",
      "Asking to truncate to max_length but no maximum length is provided and the model has no predefined maximum length. Default to no truncation.\n",
      "Asking to truncate to max_length but no maximum length is provided and the model has no predefined maximum length. Default to no truncation.\n",
      "Asking to truncate to max_length but no maximum length is provided and the model has no predefined maximum length. Default to no truncation.\n",
      "Asking to truncate to max_length but no maximum length is provided and the model has no predefined maximum length. Default to no truncation.\n",
      "Asking to truncate to max_length but no maximum length is provided and the model has no predefined maximum length. Default to no truncation.\n",
      "Asking to truncate to max_length but no maximum length is provided and the model has no predefined maximum length. Default to no truncation.\n",
      "Asking to truncate to max_length but no maximum length is provided and the model has no predefined maximum length. Default to no truncation.\n",
      "Asking to truncate to max_length but no maximum length is provided and the model has no predefined maximum length. Default to no truncation.\n",
      "Asking to truncate to max_length but no maximum length is provided and the model has no predefined maximum length. Default to no truncation.\n",
      "Asking to truncate to max_length but no maximum length is provided and the model has no predefined maximum length. Default to no truncation.\n",
      "Asking to truncate to max_length but no maximum length is provided and the model has no predefined maximum length. Default to no truncation.\n",
      "Asking to truncate to max_length but no maximum length is provided and the model has no predefined maximum length. Default to no truncation.\n",
      "Asking to truncate to max_length but no maximum length is provided and the model has no predefined maximum length. Default to no truncation.\n",
      "Asking to truncate to max_length but no maximum length is provided and the model has no predefined maximum length. Default to no truncation.\n",
      "Asking to truncate to max_length but no maximum length is provided and the model has no predefined maximum length. Default to no truncation.\n",
      "Asking to truncate to max_length but no maximum length is provided and the model has no predefined maximum length. Default to no truncation.\n"
     ]
    },
    {
     "name": "stderr",
     "output_type": "stream",
     "text": [
      "Asking to truncate to max_length but no maximum length is provided and the model has no predefined maximum length. Default to no truncation.\n",
      "Asking to truncate to max_length but no maximum length is provided and the model has no predefined maximum length. Default to no truncation.\n",
      "Asking to truncate to max_length but no maximum length is provided and the model has no predefined maximum length. Default to no truncation.\n",
      "Asking to truncate to max_length but no maximum length is provided and the model has no predefined maximum length. Default to no truncation.\n",
      "Asking to truncate to max_length but no maximum length is provided and the model has no predefined maximum length. Default to no truncation.\n",
      "Asking to truncate to max_length but no maximum length is provided and the model has no predefined maximum length. Default to no truncation.\n",
      "Asking to truncate to max_length but no maximum length is provided and the model has no predefined maximum length. Default to no truncation.\n",
      "Asking to truncate to max_length but no maximum length is provided and the model has no predefined maximum length. Default to no truncation.\n",
      "Asking to truncate to max_length but no maximum length is provided and the model has no predefined maximum length. Default to no truncation.\n",
      "Asking to truncate to max_length but no maximum length is provided and the model has no predefined maximum length. Default to no truncation.\n",
      "Asking to truncate to max_length but no maximum length is provided and the model has no predefined maximum length. Default to no truncation.\n",
      "Asking to truncate to max_length but no maximum length is provided and the model has no predefined maximum length. Default to no truncation.\n",
      "Asking to truncate to max_length but no maximum length is provided and the model has no predefined maximum length. Default to no truncation.\n",
      "Asking to truncate to max_length but no maximum length is provided and the model has no predefined maximum length. Default to no truncation.\n",
      "Asking to truncate to max_length but no maximum length is provided and the model has no predefined maximum length. Default to no truncation.\n",
      "Asking to truncate to max_length but no maximum length is provided and the model has no predefined maximum length. Default to no truncation.\n",
      "Asking to truncate to max_length but no maximum length is provided and the model has no predefined maximum length. Default to no truncation.\n",
      "Asking to truncate to max_length but no maximum length is provided and the model has no predefined maximum length. Default to no truncation.\n",
      "Asking to truncate to max_length but no maximum length is provided and the model has no predefined maximum length. Default to no truncation.\n",
      "Asking to truncate to max_length but no maximum length is provided and the model has no predefined maximum length. Default to no truncation.\n",
      "Asking to truncate to max_length but no maximum length is provided and the model has no predefined maximum length. Default to no truncation.\n",
      "Asking to truncate to max_length but no maximum length is provided and the model has no predefined maximum length. Default to no truncation.\n",
      "Asking to truncate to max_length but no maximum length is provided and the model has no predefined maximum length. Default to no truncation.\n",
      "Asking to truncate to max_length but no maximum length is provided and the model has no predefined maximum length. Default to no truncation.\n",
      "Asking to truncate to max_length but no maximum length is provided and the model has no predefined maximum length. Default to no truncation.\n",
      "Asking to truncate to max_length but no maximum length is provided and the model has no predefined maximum length. Default to no truncation.\n",
      "Asking to truncate to max_length but no maximum length is provided and the model has no predefined maximum length. Default to no truncation.\n",
      "Asking to truncate to max_length but no maximum length is provided and the model has no predefined maximum length. Default to no truncation.\n",
      "Asking to truncate to max_length but no maximum length is provided and the model has no predefined maximum length. Default to no truncation.\n",
      "Asking to truncate to max_length but no maximum length is provided and the model has no predefined maximum length. Default to no truncation.\n",
      "Asking to truncate to max_length but no maximum length is provided and the model has no predefined maximum length. Default to no truncation.\n",
      "Asking to truncate to max_length but no maximum length is provided and the model has no predefined maximum length. Default to no truncation.\n",
      "Asking to truncate to max_length but no maximum length is provided and the model has no predefined maximum length. Default to no truncation.\n",
      "Asking to truncate to max_length but no maximum length is provided and the model has no predefined maximum length. Default to no truncation.\n",
      "Asking to truncate to max_length but no maximum length is provided and the model has no predefined maximum length. Default to no truncation.\n",
      "Asking to truncate to max_length but no maximum length is provided and the model has no predefined maximum length. Default to no truncation.\n",
      "Asking to truncate to max_length but no maximum length is provided and the model has no predefined maximum length. Default to no truncation.\n",
      "Asking to truncate to max_length but no maximum length is provided and the model has no predefined maximum length. Default to no truncation.\n",
      "Asking to truncate to max_length but no maximum length is provided and the model has no predefined maximum length. Default to no truncation.\n",
      "Asking to truncate to max_length but no maximum length is provided and the model has no predefined maximum length. Default to no truncation.\n",
      "Asking to truncate to max_length but no maximum length is provided and the model has no predefined maximum length. Default to no truncation.\n",
      "Asking to truncate to max_length but no maximum length is provided and the model has no predefined maximum length. Default to no truncation.\n",
      "Asking to truncate to max_length but no maximum length is provided and the model has no predefined maximum length. Default to no truncation.\n",
      "Asking to truncate to max_length but no maximum length is provided and the model has no predefined maximum length. Default to no truncation.\n",
      "Asking to truncate to max_length but no maximum length is provided and the model has no predefined maximum length. Default to no truncation.\n",
      "Asking to truncate to max_length but no maximum length is provided and the model has no predefined maximum length. Default to no truncation.\n",
      "Asking to truncate to max_length but no maximum length is provided and the model has no predefined maximum length. Default to no truncation.\n",
      "Asking to truncate to max_length but no maximum length is provided and the model has no predefined maximum length. Default to no truncation.\n",
      "Asking to truncate to max_length but no maximum length is provided and the model has no predefined maximum length. Default to no truncation.\n",
      "Asking to truncate to max_length but no maximum length is provided and the model has no predefined maximum length. Default to no truncation.\n",
      "Asking to truncate to max_length but no maximum length is provided and the model has no predefined maximum length. Default to no truncation.\n",
      "Asking to truncate to max_length but no maximum length is provided and the model has no predefined maximum length. Default to no truncation.\n",
      "Asking to truncate to max_length but no maximum length is provided and the model has no predefined maximum length. Default to no truncation.\n",
      "Asking to truncate to max_length but no maximum length is provided and the model has no predefined maximum length. Default to no truncation.\n",
      "Asking to truncate to max_length but no maximum length is provided and the model has no predefined maximum length. Default to no truncation.\n",
      "Asking to truncate to max_length but no maximum length is provided and the model has no predefined maximum length. Default to no truncation.\n",
      "Asking to truncate to max_length but no maximum length is provided and the model has no predefined maximum length. Default to no truncation.\n",
      "Asking to truncate to max_length but no maximum length is provided and the model has no predefined maximum length. Default to no truncation.\n",
      "Asking to truncate to max_length but no maximum length is provided and the model has no predefined maximum length. Default to no truncation.\n"
     ]
    },
    {
     "name": "stderr",
     "output_type": "stream",
     "text": [
      "Asking to truncate to max_length but no maximum length is provided and the model has no predefined maximum length. Default to no truncation.\n",
      "Asking to truncate to max_length but no maximum length is provided and the model has no predefined maximum length. Default to no truncation.\n",
      "Asking to truncate to max_length but no maximum length is provided and the model has no predefined maximum length. Default to no truncation.\n",
      "Asking to truncate to max_length but no maximum length is provided and the model has no predefined maximum length. Default to no truncation.\n",
      "Asking to truncate to max_length but no maximum length is provided and the model has no predefined maximum length. Default to no truncation.\n",
      "Asking to truncate to max_length but no maximum length is provided and the model has no predefined maximum length. Default to no truncation.\n",
      "Asking to truncate to max_length but no maximum length is provided and the model has no predefined maximum length. Default to no truncation.\n",
      "Asking to truncate to max_length but no maximum length is provided and the model has no predefined maximum length. Default to no truncation.\n",
      "Asking to truncate to max_length but no maximum length is provided and the model has no predefined maximum length. Default to no truncation.\n",
      "Asking to truncate to max_length but no maximum length is provided and the model has no predefined maximum length. Default to no truncation.\n",
      "Asking to truncate to max_length but no maximum length is provided and the model has no predefined maximum length. Default to no truncation.\n",
      "Asking to truncate to max_length but no maximum length is provided and the model has no predefined maximum length. Default to no truncation.\n",
      "Asking to truncate to max_length but no maximum length is provided and the model has no predefined maximum length. Default to no truncation.\n",
      "Asking to truncate to max_length but no maximum length is provided and the model has no predefined maximum length. Default to no truncation.\n",
      "Asking to truncate to max_length but no maximum length is provided and the model has no predefined maximum length. Default to no truncation.\n",
      "Asking to truncate to max_length but no maximum length is provided and the model has no predefined maximum length. Default to no truncation.\n",
      "Asking to truncate to max_length but no maximum length is provided and the model has no predefined maximum length. Default to no truncation.\n",
      "Asking to truncate to max_length but no maximum length is provided and the model has no predefined maximum length. Default to no truncation.\n",
      "Asking to truncate to max_length but no maximum length is provided and the model has no predefined maximum length. Default to no truncation.\n",
      "Asking to truncate to max_length but no maximum length is provided and the model has no predefined maximum length. Default to no truncation.\n",
      "Asking to truncate to max_length but no maximum length is provided and the model has no predefined maximum length. Default to no truncation.\n",
      "Asking to truncate to max_length but no maximum length is provided and the model has no predefined maximum length. Default to no truncation.\n",
      "Asking to truncate to max_length but no maximum length is provided and the model has no predefined maximum length. Default to no truncation.\n",
      "Asking to truncate to max_length but no maximum length is provided and the model has no predefined maximum length. Default to no truncation.\n",
      "Asking to truncate to max_length but no maximum length is provided and the model has no predefined maximum length. Default to no truncation.\n",
      "Asking to truncate to max_length but no maximum length is provided and the model has no predefined maximum length. Default to no truncation.\n",
      "Asking to truncate to max_length but no maximum length is provided and the model has no predefined maximum length. Default to no truncation.\n",
      "Asking to truncate to max_length but no maximum length is provided and the model has no predefined maximum length. Default to no truncation.\n",
      "Asking to truncate to max_length but no maximum length is provided and the model has no predefined maximum length. Default to no truncation.\n",
      "Asking to truncate to max_length but no maximum length is provided and the model has no predefined maximum length. Default to no truncation.\n",
      "Asking to truncate to max_length but no maximum length is provided and the model has no predefined maximum length. Default to no truncation.\n",
      "Asking to truncate to max_length but no maximum length is provided and the model has no predefined maximum length. Default to no truncation.\n",
      "Asking to truncate to max_length but no maximum length is provided and the model has no predefined maximum length. Default to no truncation.\n",
      "Asking to truncate to max_length but no maximum length is provided and the model has no predefined maximum length. Default to no truncation.\n",
      "Asking to truncate to max_length but no maximum length is provided and the model has no predefined maximum length. Default to no truncation.\n",
      "Asking to truncate to max_length but no maximum length is provided and the model has no predefined maximum length. Default to no truncation.\n",
      "Asking to truncate to max_length but no maximum length is provided and the model has no predefined maximum length. Default to no truncation.\n",
      "Asking to truncate to max_length but no maximum length is provided and the model has no predefined maximum length. Default to no truncation.\n",
      "Asking to truncate to max_length but no maximum length is provided and the model has no predefined maximum length. Default to no truncation.\n",
      "Asking to truncate to max_length but no maximum length is provided and the model has no predefined maximum length. Default to no truncation.\n",
      "Asking to truncate to max_length but no maximum length is provided and the model has no predefined maximum length. Default to no truncation.\n",
      "Asking to truncate to max_length but no maximum length is provided and the model has no predefined maximum length. Default to no truncation.\n",
      "Asking to truncate to max_length but no maximum length is provided and the model has no predefined maximum length. Default to no truncation.\n",
      "Asking to truncate to max_length but no maximum length is provided and the model has no predefined maximum length. Default to no truncation.\n",
      "Asking to truncate to max_length but no maximum length is provided and the model has no predefined maximum length. Default to no truncation.\n",
      "Asking to truncate to max_length but no maximum length is provided and the model has no predefined maximum length. Default to no truncation.\n",
      "Asking to truncate to max_length but no maximum length is provided and the model has no predefined maximum length. Default to no truncation.\n",
      "Asking to truncate to max_length but no maximum length is provided and the model has no predefined maximum length. Default to no truncation.\n",
      "Asking to truncate to max_length but no maximum length is provided and the model has no predefined maximum length. Default to no truncation.\n",
      "Asking to truncate to max_length but no maximum length is provided and the model has no predefined maximum length. Default to no truncation.\n",
      "Asking to truncate to max_length but no maximum length is provided and the model has no predefined maximum length. Default to no truncation.\n",
      "Asking to truncate to max_length but no maximum length is provided and the model has no predefined maximum length. Default to no truncation.\n",
      "Asking to truncate to max_length but no maximum length is provided and the model has no predefined maximum length. Default to no truncation.\n",
      "Asking to truncate to max_length but no maximum length is provided and the model has no predefined maximum length. Default to no truncation.\n",
      "Asking to truncate to max_length but no maximum length is provided and the model has no predefined maximum length. Default to no truncation.\n",
      "Asking to truncate to max_length but no maximum length is provided and the model has no predefined maximum length. Default to no truncation.\n",
      "Asking to truncate to max_length but no maximum length is provided and the model has no predefined maximum length. Default to no truncation.\n",
      "Asking to truncate to max_length but no maximum length is provided and the model has no predefined maximum length. Default to no truncation.\n",
      "Asking to truncate to max_length but no maximum length is provided and the model has no predefined maximum length. Default to no truncation.\n"
     ]
    },
    {
     "name": "stderr",
     "output_type": "stream",
     "text": [
      "Asking to truncate to max_length but no maximum length is provided and the model has no predefined maximum length. Default to no truncation.\n",
      "Asking to truncate to max_length but no maximum length is provided and the model has no predefined maximum length. Default to no truncation.\n",
      "Asking to truncate to max_length but no maximum length is provided and the model has no predefined maximum length. Default to no truncation.\n",
      "Asking to truncate to max_length but no maximum length is provided and the model has no predefined maximum length. Default to no truncation.\n",
      "Asking to truncate to max_length but no maximum length is provided and the model has no predefined maximum length. Default to no truncation.\n",
      "Asking to truncate to max_length but no maximum length is provided and the model has no predefined maximum length. Default to no truncation.\n",
      "Asking to truncate to max_length but no maximum length is provided and the model has no predefined maximum length. Default to no truncation.\n",
      "Asking to truncate to max_length but no maximum length is provided and the model has no predefined maximum length. Default to no truncation.\n",
      "Asking to truncate to max_length but no maximum length is provided and the model has no predefined maximum length. Default to no truncation.\n",
      "Asking to truncate to max_length but no maximum length is provided and the model has no predefined maximum length. Default to no truncation.\n",
      "Asking to truncate to max_length but no maximum length is provided and the model has no predefined maximum length. Default to no truncation.\n",
      "Asking to truncate to max_length but no maximum length is provided and the model has no predefined maximum length. Default to no truncation.\n",
      "Asking to truncate to max_length but no maximum length is provided and the model has no predefined maximum length. Default to no truncation.\n",
      "Asking to truncate to max_length but no maximum length is provided and the model has no predefined maximum length. Default to no truncation.\n",
      "Asking to truncate to max_length but no maximum length is provided and the model has no predefined maximum length. Default to no truncation.\n",
      "Asking to truncate to max_length but no maximum length is provided and the model has no predefined maximum length. Default to no truncation.\n",
      "Asking to truncate to max_length but no maximum length is provided and the model has no predefined maximum length. Default to no truncation.\n",
      "Asking to truncate to max_length but no maximum length is provided and the model has no predefined maximum length. Default to no truncation.\n",
      "Asking to truncate to max_length but no maximum length is provided and the model has no predefined maximum length. Default to no truncation.\n",
      "Asking to truncate to max_length but no maximum length is provided and the model has no predefined maximum length. Default to no truncation.\n",
      "Asking to truncate to max_length but no maximum length is provided and the model has no predefined maximum length. Default to no truncation.\n",
      "Asking to truncate to max_length but no maximum length is provided and the model has no predefined maximum length. Default to no truncation.\n",
      "Asking to truncate to max_length but no maximum length is provided and the model has no predefined maximum length. Default to no truncation.\n",
      "Asking to truncate to max_length but no maximum length is provided and the model has no predefined maximum length. Default to no truncation.\n",
      "Asking to truncate to max_length but no maximum length is provided and the model has no predefined maximum length. Default to no truncation.\n",
      "Asking to truncate to max_length but no maximum length is provided and the model has no predefined maximum length. Default to no truncation.\n",
      "Asking to truncate to max_length but no maximum length is provided and the model has no predefined maximum length. Default to no truncation.\n",
      "Asking to truncate to max_length but no maximum length is provided and the model has no predefined maximum length. Default to no truncation.\n",
      "Asking to truncate to max_length but no maximum length is provided and the model has no predefined maximum length. Default to no truncation.\n",
      "Asking to truncate to max_length but no maximum length is provided and the model has no predefined maximum length. Default to no truncation.\n",
      "Asking to truncate to max_length but no maximum length is provided and the model has no predefined maximum length. Default to no truncation.\n",
      "Asking to truncate to max_length but no maximum length is provided and the model has no predefined maximum length. Default to no truncation.\n",
      "Asking to truncate to max_length but no maximum length is provided and the model has no predefined maximum length. Default to no truncation.\n",
      "Asking to truncate to max_length but no maximum length is provided and the model has no predefined maximum length. Default to no truncation.\n",
      "Asking to truncate to max_length but no maximum length is provided and the model has no predefined maximum length. Default to no truncation.\n",
      "Asking to truncate to max_length but no maximum length is provided and the model has no predefined maximum length. Default to no truncation.\n",
      "Asking to truncate to max_length but no maximum length is provided and the model has no predefined maximum length. Default to no truncation.\n",
      "Asking to truncate to max_length but no maximum length is provided and the model has no predefined maximum length. Default to no truncation.\n",
      "Asking to truncate to max_length but no maximum length is provided and the model has no predefined maximum length. Default to no truncation.\n",
      "Asking to truncate to max_length but no maximum length is provided and the model has no predefined maximum length. Default to no truncation.\n",
      "Asking to truncate to max_length but no maximum length is provided and the model has no predefined maximum length. Default to no truncation.\n",
      "Asking to truncate to max_length but no maximum length is provided and the model has no predefined maximum length. Default to no truncation.\n",
      "Asking to truncate to max_length but no maximum length is provided and the model has no predefined maximum length. Default to no truncation.\n",
      "Asking to truncate to max_length but no maximum length is provided and the model has no predefined maximum length. Default to no truncation.\n",
      "Asking to truncate to max_length but no maximum length is provided and the model has no predefined maximum length. Default to no truncation.\n",
      "Asking to truncate to max_length but no maximum length is provided and the model has no predefined maximum length. Default to no truncation.\n",
      "Asking to truncate to max_length but no maximum length is provided and the model has no predefined maximum length. Default to no truncation.\n",
      "Asking to truncate to max_length but no maximum length is provided and the model has no predefined maximum length. Default to no truncation.\n",
      "Asking to truncate to max_length but no maximum length is provided and the model has no predefined maximum length. Default to no truncation.\n",
      "Asking to truncate to max_length but no maximum length is provided and the model has no predefined maximum length. Default to no truncation.\n",
      "Asking to truncate to max_length but no maximum length is provided and the model has no predefined maximum length. Default to no truncation.\n",
      "Asking to truncate to max_length but no maximum length is provided and the model has no predefined maximum length. Default to no truncation.\n",
      "Asking to truncate to max_length but no maximum length is provided and the model has no predefined maximum length. Default to no truncation.\n",
      "Asking to truncate to max_length but no maximum length is provided and the model has no predefined maximum length. Default to no truncation.\n"
     ]
    },
    {
     "ename": "ValueError",
     "evalue": "At least one input is required.",
     "output_type": "error",
     "traceback": [
      "\u001b[1;31m---------------------------------------------------------------------------\u001b[0m",
      "\u001b[1;31mValueError\u001b[0m                                Traceback (most recent call last)",
      "\u001b[1;32m<ipython-input-15-d7cc944adbdf>\u001b[0m in \u001b[0;36m<module>\u001b[1;34m\u001b[0m\n\u001b[0;32m      1\u001b[0m \u001b[1;32mfrom\u001b[0m \u001b[0mbatterydataextractor\u001b[0m\u001b[1;33m.\u001b[0m\u001b[0mdoc\u001b[0m \u001b[1;32mimport\u001b[0m \u001b[0mDocument\u001b[0m\u001b[1;33m\u001b[0m\u001b[1;33m\u001b[0m\u001b[0m\n\u001b[0;32m      2\u001b[0m \u001b[0mspr\u001b[0m \u001b[1;33m=\u001b[0m \u001b[0mDocument\u001b[0m\u001b[1;33m.\u001b[0m\u001b[0mfrom_file\u001b[0m\u001b[1;33m(\u001b[0m\u001b[1;34mr\"tests/testpapers/spr_test1.xml\"\u001b[0m\u001b[1;33m)\u001b[0m\u001b[1;33m\u001b[0m\u001b[1;33m\u001b[0m\u001b[0m\n\u001b[1;32m----> 3\u001b[1;33m \u001b[0mrecords\u001b[0m \u001b[1;33m=\u001b[0m \u001b[0mspr\u001b[0m\u001b[1;33m.\u001b[0m\u001b[0mrecords\u001b[0m\u001b[1;33m\u001b[0m\u001b[1;33m\u001b[0m\u001b[0m\n\u001b[0m\u001b[0;32m      4\u001b[0m \u001b[0mprint\u001b[0m\u001b[1;33m(\u001b[0m\u001b[0mspr\u001b[0m\u001b[1;33m.\u001b[0m\u001b[0mrecords\u001b[0m\u001b[1;33m.\u001b[0m\u001b[0mserialize\u001b[0m\u001b[1;33m(\u001b[0m\u001b[1;33m)\u001b[0m\u001b[1;33m)\u001b[0m\u001b[1;33m\u001b[0m\u001b[1;33m\u001b[0m\u001b[0m\n",
      "\u001b[1;32m~\\github\\batterydataextractor\\batterydataextractor\\doc\\document.py\u001b[0m in \u001b[0;36mrecords\u001b[1;34m(self)\u001b[0m\n\u001b[0;32m    234\u001b[0m             \u001b[1;31m#     model.update(element_definitions)\u001b[0m\u001b[1;33m\u001b[0m\u001b[1;33m\u001b[0m\u001b[1;33m\u001b[0m\u001b[0m\n\u001b[0;32m    235\u001b[0m \u001b[1;33m\u001b[0m\u001b[0m\n\u001b[1;32m--> 236\u001b[1;33m             \u001b[0mel_records\u001b[0m \u001b[1;33m=\u001b[0m \u001b[0mel\u001b[0m\u001b[1;33m.\u001b[0m\u001b[0mrecords\u001b[0m\u001b[1;33m\u001b[0m\u001b[1;33m\u001b[0m\u001b[0m\n\u001b[0m\u001b[0;32m    237\u001b[0m \u001b[1;31m#sh-- turn off interdependency resolution here\u001b[0m\u001b[1;33m\u001b[0m\u001b[1;33m\u001b[0m\u001b[1;33m\u001b[0m\u001b[0m\n\u001b[0;32m    238\u001b[0m             \u001b[1;31m# # Save the title compound\u001b[0m\u001b[1;33m\u001b[0m\u001b[1;33m\u001b[0m\u001b[1;33m\u001b[0m\u001b[0m\n",
      "\u001b[1;32m~\\github\\batterydataextractor\\batterydataextractor\\doc\\text.py\u001b[0m in \u001b[0;36mrecords\u001b[1;34m(self)\u001b[0m\n\u001b[0;32m    326\u001b[0m     \u001b[1;32mdef\u001b[0m \u001b[0mrecords\u001b[0m\u001b[1;33m(\u001b[0m\u001b[0mself\u001b[0m\u001b[1;33m)\u001b[0m\u001b[1;33m:\u001b[0m\u001b[1;33m\u001b[0m\u001b[1;33m\u001b[0m\u001b[0m\n\u001b[0;32m    327\u001b[0m         \u001b[1;34m\"\"\"All records found in the object, as a list of :class:`~batterydataextractor.model.base.BaseModel`.\"\"\"\u001b[0m\u001b[1;33m\u001b[0m\u001b[1;33m\u001b[0m\u001b[0m\n\u001b[1;32m--> 328\u001b[1;33m         \u001b[1;32mreturn\u001b[0m \u001b[0mModelList\u001b[0m\u001b[1;33m(\u001b[0m\u001b[1;33m*\u001b[0m\u001b[1;33m[\u001b[0m\u001b[0mr\u001b[0m \u001b[1;32mfor\u001b[0m \u001b[0msent\u001b[0m \u001b[1;32min\u001b[0m \u001b[0mself\u001b[0m\u001b[1;33m.\u001b[0m\u001b[0msentences\u001b[0m \u001b[1;32mfor\u001b[0m \u001b[0mr\u001b[0m \u001b[1;32min\u001b[0m \u001b[0msent\u001b[0m\u001b[1;33m.\u001b[0m\u001b[0mrecords\u001b[0m\u001b[1;33m]\u001b[0m\u001b[1;33m)\u001b[0m\u001b[1;33m\u001b[0m\u001b[1;33m\u001b[0m\u001b[0m\n\u001b[0m\u001b[0;32m    329\u001b[0m \u001b[1;33m\u001b[0m\u001b[0m\n\u001b[0;32m    330\u001b[0m     \u001b[1;32mdef\u001b[0m \u001b[0m__add__\u001b[0m\u001b[1;33m(\u001b[0m\u001b[0mself\u001b[0m\u001b[1;33m,\u001b[0m \u001b[0mother\u001b[0m\u001b[1;33m)\u001b[0m\u001b[1;33m:\u001b[0m\u001b[1;33m\u001b[0m\u001b[1;33m\u001b[0m\u001b[0m\n",
      "\u001b[1;32m~\\github\\batterydataextractor\\batterydataextractor\\doc\\text.py\u001b[0m in \u001b[0;36m<listcomp>\u001b[1;34m(.0)\u001b[0m\n\u001b[0;32m    326\u001b[0m     \u001b[1;32mdef\u001b[0m \u001b[0mrecords\u001b[0m\u001b[1;33m(\u001b[0m\u001b[0mself\u001b[0m\u001b[1;33m)\u001b[0m\u001b[1;33m:\u001b[0m\u001b[1;33m\u001b[0m\u001b[1;33m\u001b[0m\u001b[0m\n\u001b[0;32m    327\u001b[0m         \u001b[1;34m\"\"\"All records found in the object, as a list of :class:`~batterydataextractor.model.base.BaseModel`.\"\"\"\u001b[0m\u001b[1;33m\u001b[0m\u001b[1;33m\u001b[0m\u001b[0m\n\u001b[1;32m--> 328\u001b[1;33m         \u001b[1;32mreturn\u001b[0m \u001b[0mModelList\u001b[0m\u001b[1;33m(\u001b[0m\u001b[1;33m*\u001b[0m\u001b[1;33m[\u001b[0m\u001b[0mr\u001b[0m \u001b[1;32mfor\u001b[0m \u001b[0msent\u001b[0m \u001b[1;32min\u001b[0m \u001b[0mself\u001b[0m\u001b[1;33m.\u001b[0m\u001b[0msentences\u001b[0m \u001b[1;32mfor\u001b[0m \u001b[0mr\u001b[0m \u001b[1;32min\u001b[0m \u001b[0msent\u001b[0m\u001b[1;33m.\u001b[0m\u001b[0mrecords\u001b[0m\u001b[1;33m]\u001b[0m\u001b[1;33m)\u001b[0m\u001b[1;33m\u001b[0m\u001b[1;33m\u001b[0m\u001b[0m\n\u001b[0m\u001b[0;32m    329\u001b[0m \u001b[1;33m\u001b[0m\u001b[0m\n\u001b[0;32m    330\u001b[0m     \u001b[1;32mdef\u001b[0m \u001b[0m__add__\u001b[0m\u001b[1;33m(\u001b[0m\u001b[0mself\u001b[0m\u001b[1;33m,\u001b[0m \u001b[0mother\u001b[0m\u001b[1;33m)\u001b[0m\u001b[1;33m:\u001b[0m\u001b[1;33m\u001b[0m\u001b[1;33m\u001b[0m\u001b[0m\n",
      "\u001b[1;32m~\\github\\batterydataextractor\\batterydataextractor\\doc\\text.py\u001b[0m in \u001b[0;36mrecords\u001b[1;34m(self)\u001b[0m\n\u001b[0;32m    587\u001b[0m         \u001b[0mrecords\u001b[0m \u001b[1;33m=\u001b[0m \u001b[0mModelList\u001b[0m\u001b[1;33m(\u001b[0m\u001b[1;33m)\u001b[0m\u001b[1;33m\u001b[0m\u001b[1;33m\u001b[0m\u001b[0m\n\u001b[0;32m    588\u001b[0m         \u001b[1;31m# Ensure no control characters are sent to a parser (need to be XML compatible)\u001b[0m\u001b[1;33m\u001b[0m\u001b[1;33m\u001b[0m\u001b[1;33m\u001b[0m\u001b[0m\n\u001b[1;32m--> 589\u001b[1;33m         \u001b[0mtagged_tokens\u001b[0m \u001b[1;33m=\u001b[0m \u001b[1;33m[\u001b[0m\u001b[1;33m(\u001b[0m\u001b[0mCONTROL_RE\u001b[0m\u001b[1;33m.\u001b[0m\u001b[0msub\u001b[0m\u001b[1;33m(\u001b[0m\u001b[1;34m''\u001b[0m\u001b[1;33m,\u001b[0m \u001b[0mtoken\u001b[0m\u001b[1;33m)\u001b[0m\u001b[1;33m,\u001b[0m \u001b[0mtag\u001b[0m\u001b[1;33m)\u001b[0m \u001b[1;32mfor\u001b[0m \u001b[0mtoken\u001b[0m\u001b[1;33m,\u001b[0m \u001b[0mtag\u001b[0m \u001b[1;32min\u001b[0m \u001b[0mself\u001b[0m\u001b[1;33m.\u001b[0m\u001b[0mtagged_tokens\u001b[0m\u001b[1;33m]\u001b[0m\u001b[1;33m\u001b[0m\u001b[1;33m\u001b[0m\u001b[0m\n\u001b[0m\u001b[0;32m    590\u001b[0m         \u001b[1;32mfor\u001b[0m \u001b[0mmodel\u001b[0m \u001b[1;32min\u001b[0m \u001b[0mself\u001b[0m\u001b[1;33m.\u001b[0m\u001b[0m_streamlined_models\u001b[0m\u001b[1;33m:\u001b[0m\u001b[1;33m\u001b[0m\u001b[1;33m\u001b[0m\u001b[0m\n\u001b[0;32m    591\u001b[0m             \u001b[1;32mfor\u001b[0m \u001b[0mparser\u001b[0m \u001b[1;32min\u001b[0m \u001b[0mmodel\u001b[0m\u001b[1;33m.\u001b[0m\u001b[0mparsers\u001b[0m\u001b[1;33m:\u001b[0m\u001b[1;33m\u001b[0m\u001b[1;33m\u001b[0m\u001b[0m\n",
      "\u001b[1;32m~\\github\\batterydataextractor\\batterydataextractor\\doc\\text.py\u001b[0m in \u001b[0;36mtagged_tokens\u001b[1;34m(self)\u001b[0m\n\u001b[0;32m    580\u001b[0m         \u001b[1;32mfrom\u001b[0m \u001b[0mthe\u001b[0m \u001b[0mtext\u001b[0m\u001b[1;33m.\u001b[0m\u001b[1;33m\u001b[0m\u001b[1;33m\u001b[0m\u001b[0m\n\u001b[0;32m    581\u001b[0m         \"\"\"\n\u001b[1;32m--> 582\u001b[1;33m         \u001b[1;32mreturn\u001b[0m \u001b[0mlist\u001b[0m\u001b[1;33m(\u001b[0m\u001b[0mzip\u001b[0m\u001b[1;33m(\u001b[0m\u001b[0mself\u001b[0m\u001b[1;33m.\u001b[0m\u001b[0mraw_tokens\u001b[0m\u001b[1;33m,\u001b[0m \u001b[0mself\u001b[0m\u001b[1;33m.\u001b[0m\u001b[0mtags\u001b[0m\u001b[1;33m)\u001b[0m\u001b[1;33m)\u001b[0m\u001b[1;33m\u001b[0m\u001b[1;33m\u001b[0m\u001b[0m\n\u001b[0m\u001b[0;32m    583\u001b[0m \u001b[1;33m\u001b[0m\u001b[0m\n\u001b[0;32m    584\u001b[0m     \u001b[1;33m@\u001b[0m\u001b[0mproperty\u001b[0m\u001b[1;33m\u001b[0m\u001b[1;33m\u001b[0m\u001b[0m\n",
      "\u001b[1;32m~\\github\\batterydataextractor\\batterydataextractor\\utils.py\u001b[0m in \u001b[0;36mfget_memoized\u001b[1;34m(self)\u001b[0m\n\u001b[0;32m     21\u001b[0m     \u001b[1;32mdef\u001b[0m \u001b[0mfget_memoized\u001b[0m\u001b[1;33m(\u001b[0m\u001b[0mself\u001b[0m\u001b[1;33m)\u001b[0m\u001b[1;33m:\u001b[0m\u001b[1;33m\u001b[0m\u001b[1;33m\u001b[0m\u001b[0m\n\u001b[0;32m     22\u001b[0m         \u001b[1;32mif\u001b[0m \u001b[1;32mnot\u001b[0m \u001b[0mhasattr\u001b[0m\u001b[1;33m(\u001b[0m\u001b[0mself\u001b[0m\u001b[1;33m,\u001b[0m \u001b[0mattr_name\u001b[0m\u001b[1;33m)\u001b[0m\u001b[1;33m:\u001b[0m\u001b[1;33m\u001b[0m\u001b[1;33m\u001b[0m\u001b[0m\n\u001b[1;32m---> 23\u001b[1;33m             \u001b[0msetattr\u001b[0m\u001b[1;33m(\u001b[0m\u001b[0mself\u001b[0m\u001b[1;33m,\u001b[0m \u001b[0mattr_name\u001b[0m\u001b[1;33m,\u001b[0m \u001b[0mfget\u001b[0m\u001b[1;33m(\u001b[0m\u001b[0mself\u001b[0m\u001b[1;33m)\u001b[0m\u001b[1;33m)\u001b[0m\u001b[1;33m\u001b[0m\u001b[1;33m\u001b[0m\u001b[0m\n\u001b[0m\u001b[0;32m     24\u001b[0m         \u001b[1;32mreturn\u001b[0m \u001b[0mgetattr\u001b[0m\u001b[1;33m(\u001b[0m\u001b[0mself\u001b[0m\u001b[1;33m,\u001b[0m \u001b[0mattr_name\u001b[0m\u001b[1;33m)\u001b[0m\u001b[1;33m\u001b[0m\u001b[1;33m\u001b[0m\u001b[0m\n\u001b[0;32m     25\u001b[0m     \u001b[1;32mreturn\u001b[0m \u001b[0mproperty\u001b[0m\u001b[1;33m(\u001b[0m\u001b[0mfget_memoized\u001b[0m\u001b[1;33m)\u001b[0m\u001b[1;33m\u001b[0m\u001b[1;33m\u001b[0m\u001b[0m\n",
      "\u001b[1;32m~\\github\\batterydataextractor\\batterydataextractor\\doc\\text.py\u001b[0m in \u001b[0;36mtags\u001b[1;34m(self)\u001b[0m\n\u001b[0;32m    568\u001b[0m     \u001b[1;33m@\u001b[0m\u001b[0mmemoized_property\u001b[0m\u001b[1;33m\u001b[0m\u001b[1;33m\u001b[0m\u001b[0m\n\u001b[0;32m    569\u001b[0m     \u001b[1;32mdef\u001b[0m \u001b[0mtags\u001b[0m\u001b[1;33m(\u001b[0m\u001b[0mself\u001b[0m\u001b[1;33m)\u001b[0m\u001b[1;33m:\u001b[0m\u001b[1;33m\u001b[0m\u001b[1;33m\u001b[0m\u001b[0m\n\u001b[1;32m--> 570\u001b[1;33m         \u001b[0mtags\u001b[0m \u001b[1;33m=\u001b[0m \u001b[0mself\u001b[0m\u001b[1;33m.\u001b[0m\u001b[0mpos_tags\u001b[0m\u001b[1;33m\u001b[0m\u001b[1;33m\u001b[0m\u001b[0m\n\u001b[0m\u001b[0;32m    571\u001b[0m         \u001b[1;32mfor\u001b[0m \u001b[0mi\u001b[0m\u001b[1;33m,\u001b[0m \u001b[0mtag\u001b[0m \u001b[1;32min\u001b[0m \u001b[0menumerate\u001b[0m\u001b[1;33m(\u001b[0m\u001b[0mself\u001b[0m\u001b[1;33m.\u001b[0m\u001b[0mner_tags\u001b[0m\u001b[1;33m)\u001b[0m\u001b[1;33m:\u001b[0m\u001b[1;33m\u001b[0m\u001b[1;33m\u001b[0m\u001b[0m\n\u001b[0;32m    572\u001b[0m             \u001b[1;32mif\u001b[0m \u001b[0mtag\u001b[0m \u001b[1;32mis\u001b[0m \u001b[1;32mnot\u001b[0m \u001b[1;32mNone\u001b[0m\u001b[1;33m:\u001b[0m\u001b[1;33m\u001b[0m\u001b[1;33m\u001b[0m\u001b[0m\n",
      "\u001b[1;32m~\\github\\batterydataextractor\\batterydataextractor\\doc\\text.py\u001b[0m in \u001b[0;36mpos_tags\u001b[1;34m(self)\u001b[0m\n\u001b[0;32m    491\u001b[0m     \u001b[1;32mdef\u001b[0m \u001b[0mpos_tags\u001b[0m\u001b[1;33m(\u001b[0m\u001b[0mself\u001b[0m\u001b[1;33m)\u001b[0m\u001b[1;33m:\u001b[0m\u001b[1;33m\u001b[0m\u001b[1;33m\u001b[0m\u001b[0m\n\u001b[0;32m    492\u001b[0m         \u001b[1;34m\"\"\"A list of :class:`str` part of speech tags for each sentence in this sentence.\"\"\"\u001b[0m\u001b[1;33m\u001b[0m\u001b[1;33m\u001b[0m\u001b[0m\n\u001b[1;32m--> 493\u001b[1;33m         \u001b[1;32mreturn\u001b[0m \u001b[1;33m[\u001b[0m\u001b[0mtag\u001b[0m \u001b[1;32mfor\u001b[0m \u001b[0mtoken\u001b[0m\u001b[1;33m,\u001b[0m \u001b[0mtag\u001b[0m \u001b[1;32min\u001b[0m \u001b[0mself\u001b[0m\u001b[1;33m.\u001b[0m\u001b[0mpos_tagged_tokens\u001b[0m\u001b[1;33m]\u001b[0m\u001b[1;33m\u001b[0m\u001b[1;33m\u001b[0m\u001b[0m\n\u001b[0m\u001b[0;32m    494\u001b[0m \u001b[1;33m\u001b[0m\u001b[0m\n\u001b[0;32m    495\u001b[0m     \u001b[1;33m@\u001b[0m\u001b[0mmemoized_property\u001b[0m\u001b[1;33m\u001b[0m\u001b[1;33m\u001b[0m\u001b[0m\n",
      "\u001b[1;32m~\\github\\batterydataextractor\\batterydataextractor\\utils.py\u001b[0m in \u001b[0;36mfget_memoized\u001b[1;34m(self)\u001b[0m\n\u001b[0;32m     21\u001b[0m     \u001b[1;32mdef\u001b[0m \u001b[0mfget_memoized\u001b[0m\u001b[1;33m(\u001b[0m\u001b[0mself\u001b[0m\u001b[1;33m)\u001b[0m\u001b[1;33m:\u001b[0m\u001b[1;33m\u001b[0m\u001b[1;33m\u001b[0m\u001b[0m\n\u001b[0;32m     22\u001b[0m         \u001b[1;32mif\u001b[0m \u001b[1;32mnot\u001b[0m \u001b[0mhasattr\u001b[0m\u001b[1;33m(\u001b[0m\u001b[0mself\u001b[0m\u001b[1;33m,\u001b[0m \u001b[0mattr_name\u001b[0m\u001b[1;33m)\u001b[0m\u001b[1;33m:\u001b[0m\u001b[1;33m\u001b[0m\u001b[1;33m\u001b[0m\u001b[0m\n\u001b[1;32m---> 23\u001b[1;33m             \u001b[0msetattr\u001b[0m\u001b[1;33m(\u001b[0m\u001b[0mself\u001b[0m\u001b[1;33m,\u001b[0m \u001b[0mattr_name\u001b[0m\u001b[1;33m,\u001b[0m \u001b[0mfget\u001b[0m\u001b[1;33m(\u001b[0m\u001b[0mself\u001b[0m\u001b[1;33m)\u001b[0m\u001b[1;33m)\u001b[0m\u001b[1;33m\u001b[0m\u001b[1;33m\u001b[0m\u001b[0m\n\u001b[0m\u001b[0;32m     24\u001b[0m         \u001b[1;32mreturn\u001b[0m \u001b[0mgetattr\u001b[0m\u001b[1;33m(\u001b[0m\u001b[0mself\u001b[0m\u001b[1;33m,\u001b[0m \u001b[0mattr_name\u001b[0m\u001b[1;33m)\u001b[0m\u001b[1;33m\u001b[0m\u001b[1;33m\u001b[0m\u001b[0m\n\u001b[0;32m     25\u001b[0m     \u001b[1;32mreturn\u001b[0m \u001b[0mproperty\u001b[0m\u001b[1;33m(\u001b[0m\u001b[0mfget_memoized\u001b[0m\u001b[1;33m)\u001b[0m\u001b[1;33m\u001b[0m\u001b[1;33m\u001b[0m\u001b[0m\n",
      "\u001b[1;32m~\\github\\batterydataextractor\\batterydataextractor\\doc\\text.py\u001b[0m in \u001b[0;36mpos_tagged_tokens\u001b[1;34m(self)\u001b[0m\n\u001b[0;32m    486\u001b[0m         \u001b[1;34m\"\"\"A list of (:class:`Token` token, :class:`str` tag) tuples for each sentence in this sentence.\"\"\"\u001b[0m\u001b[1;33m\u001b[0m\u001b[1;33m\u001b[0m\u001b[0m\n\u001b[0;32m    487\u001b[0m         \u001b[1;31m# log.debug('Getting pos tags')\u001b[0m\u001b[1;33m\u001b[0m\u001b[1;33m\u001b[0m\u001b[1;33m\u001b[0m\u001b[0m\n\u001b[1;32m--> 488\u001b[1;33m         \u001b[1;32mreturn\u001b[0m \u001b[0mself\u001b[0m\u001b[1;33m.\u001b[0m\u001b[0mpos_tagger\u001b[0m\u001b[1;33m.\u001b[0m\u001b[0mtag\u001b[0m\u001b[1;33m(\u001b[0m\u001b[0mself\u001b[0m\u001b[1;33m.\u001b[0m\u001b[0mraw_tokens\u001b[0m\u001b[1;33m)\u001b[0m\u001b[1;33m\u001b[0m\u001b[1;33m\u001b[0m\u001b[0m\n\u001b[0m\u001b[0;32m    489\u001b[0m \u001b[1;33m\u001b[0m\u001b[0m\n\u001b[0;32m    490\u001b[0m     \u001b[1;33m@\u001b[0m\u001b[0mproperty\u001b[0m\u001b[1;33m\u001b[0m\u001b[1;33m\u001b[0m\u001b[0m\n",
      "\u001b[1;32m~\\github\\batterydataextractor\\batterydataextractor\\nlp\\tag.py\u001b[0m in \u001b[0;36mtag\u001b[1;34m(self, tokens)\u001b[0m\n\u001b[0;32m     63\u001b[0m         \"\"\"\n\u001b[0;32m     64\u001b[0m         \u001b[0mclassifier\u001b[0m \u001b[1;33m=\u001b[0m \u001b[0mpipeline\u001b[0m\u001b[1;33m(\u001b[0m\u001b[1;34m\"token-classification\"\u001b[0m\u001b[1;33m,\u001b[0m \u001b[0mmodel\u001b[0m\u001b[1;33m=\u001b[0m\u001b[0mself\u001b[0m\u001b[1;33m.\u001b[0m\u001b[0mmodel\u001b[0m\u001b[1;33m)\u001b[0m\u001b[1;33m\u001b[0m\u001b[1;33m\u001b[0m\u001b[0m\n\u001b[1;32m---> 65\u001b[1;33m         \u001b[0mtags\u001b[0m \u001b[1;33m=\u001b[0m \u001b[1;33m[\u001b[0m\u001b[0mtoken\u001b[0m\u001b[1;33m[\u001b[0m\u001b[1;36m0\u001b[0m\u001b[1;33m]\u001b[0m\u001b[1;33m[\u001b[0m\u001b[1;34m'entity'\u001b[0m\u001b[1;33m]\u001b[0m \u001b[1;32mfor\u001b[0m \u001b[0mtoken\u001b[0m \u001b[1;32min\u001b[0m \u001b[0mclassifier\u001b[0m\u001b[1;33m(\u001b[0m\u001b[0mtokens\u001b[0m\u001b[1;33m)\u001b[0m\u001b[1;33m]\u001b[0m\u001b[1;33m\u001b[0m\u001b[1;33m\u001b[0m\u001b[0m\n\u001b[0m\u001b[0;32m     66\u001b[0m         \u001b[0mtagged_sent\u001b[0m \u001b[1;33m=\u001b[0m \u001b[0mlist\u001b[0m\u001b[1;33m(\u001b[0m\u001b[0mzip\u001b[0m\u001b[1;33m(\u001b[0m\u001b[0mtokens\u001b[0m\u001b[1;33m,\u001b[0m \u001b[0mtags\u001b[0m\u001b[1;33m)\u001b[0m\u001b[1;33m)\u001b[0m\u001b[1;33m\u001b[0m\u001b[1;33m\u001b[0m\u001b[0m\n\u001b[0;32m     67\u001b[0m         \u001b[1;32mreturn\u001b[0m \u001b[0mtagged_sent\u001b[0m\u001b[1;33m\u001b[0m\u001b[1;33m\u001b[0m\u001b[0m\n",
      "\u001b[1;32mF:\\Users\\shuhu\\anaconda3\\lib\\site-packages\\transformers\\pipelines\\token_classification.py\u001b[0m in \u001b[0;36m__call__\u001b[1;34m(self, inputs, **kwargs)\u001b[0m\n\u001b[0;32m    183\u001b[0m         \"\"\"\n\u001b[0;32m    184\u001b[0m \u001b[1;33m\u001b[0m\u001b[0m\n\u001b[1;32m--> 185\u001b[1;33m         \u001b[0m_inputs\u001b[0m\u001b[1;33m,\u001b[0m \u001b[0moffset_mapping\u001b[0m \u001b[1;33m=\u001b[0m \u001b[0mself\u001b[0m\u001b[1;33m.\u001b[0m\u001b[0m_args_parser\u001b[0m\u001b[1;33m(\u001b[0m\u001b[0minputs\u001b[0m\u001b[1;33m,\u001b[0m \u001b[1;33m**\u001b[0m\u001b[0mkwargs\u001b[0m\u001b[1;33m)\u001b[0m\u001b[1;33m\u001b[0m\u001b[1;33m\u001b[0m\u001b[0m\n\u001b[0m\u001b[0;32m    186\u001b[0m         \u001b[1;32mif\u001b[0m \u001b[0moffset_mapping\u001b[0m\u001b[1;33m:\u001b[0m\u001b[1;33m\u001b[0m\u001b[1;33m\u001b[0m\u001b[0m\n\u001b[0;32m    187\u001b[0m             \u001b[0mkwargs\u001b[0m\u001b[1;33m[\u001b[0m\u001b[1;34m\"offset_mapping\"\u001b[0m\u001b[1;33m]\u001b[0m \u001b[1;33m=\u001b[0m \u001b[0moffset_mapping\u001b[0m\u001b[1;33m\u001b[0m\u001b[1;33m\u001b[0m\u001b[0m\n",
      "\u001b[1;32mF:\\Users\\shuhu\\anaconda3\\lib\\site-packages\\transformers\\pipelines\\token_classification.py\u001b[0m in \u001b[0;36m__call__\u001b[1;34m(self, inputs, **kwargs)\u001b[0m\n\u001b[0;32m     33\u001b[0m             \u001b[1;32mreturn\u001b[0m \u001b[0minputs\u001b[0m\u001b[1;33m,\u001b[0m \u001b[1;32mNone\u001b[0m\u001b[1;33m\u001b[0m\u001b[1;33m\u001b[0m\u001b[0m\n\u001b[0;32m     34\u001b[0m         \u001b[1;32melse\u001b[0m\u001b[1;33m:\u001b[0m\u001b[1;33m\u001b[0m\u001b[1;33m\u001b[0m\u001b[0m\n\u001b[1;32m---> 35\u001b[1;33m             \u001b[1;32mraise\u001b[0m \u001b[0mValueError\u001b[0m\u001b[1;33m(\u001b[0m\u001b[1;34m\"At least one input is required.\"\u001b[0m\u001b[1;33m)\u001b[0m\u001b[1;33m\u001b[0m\u001b[1;33m\u001b[0m\u001b[0m\n\u001b[0m\u001b[0;32m     36\u001b[0m \u001b[1;33m\u001b[0m\u001b[0m\n\u001b[0;32m     37\u001b[0m         \u001b[0moffset_mapping\u001b[0m \u001b[1;33m=\u001b[0m \u001b[0mkwargs\u001b[0m\u001b[1;33m.\u001b[0m\u001b[0mget\u001b[0m\u001b[1;33m(\u001b[0m\u001b[1;34m\"offset_mapping\"\u001b[0m\u001b[1;33m)\u001b[0m\u001b[1;33m\u001b[0m\u001b[1;33m\u001b[0m\u001b[0m\n",
      "\u001b[1;31mValueError\u001b[0m: At least one input is required."
     ]
    }
   ],
   "source": [
    "from batterydataextractor.doc import Document\n",
    "spr = Document.from_file(r\"tests/testpapers/spr_test1.xml\")\n",
    "records = spr.records\n",
    "print(spr.records.serialize())"
   ]
  },
  {
   "cell_type": "code",
   "execution_count": 7,
   "id": "64d0b0e5",
   "metadata": {},
   "outputs": [
    {
     "name": "stderr",
     "output_type": "stream",
     "text": [
      "Asking to truncate to max_length but no maximum length is provided and the model has no predefined maximum length. Default to no truncation.\n",
      "Asking to truncate to max_length but no maximum length is provided and the model has no predefined maximum length. Default to no truncation.\n",
      "Asking to truncate to max_length but no maximum length is provided and the model has no predefined maximum length. Default to no truncation.\n"
     ]
    },
    {
     "name": "stdout",
     "output_type": "stream",
     "text": [
      "[<PropertyData>, <PropertyData>]\n"
     ]
    }
   ],
   "source": [
    "from batterydataextractor.doc import Document\n",
    "doc = Document(\"The cathode of Li-ion battery is LiFePO4. The voltage is 3.3V for NaCl. However, the capacity of LiFePO4 is 3 mAh/g.\")\n",
    "doc.add_models_by_names([\"capacity\", \"voltage\"])\n",
    "record = doc.records\n",
    "print(doc.records)"
   ]
  },
  {
   "cell_type": "code",
   "execution_count": 8,
   "id": "79cbfab4",
   "metadata": {},
   "outputs": [
    {
     "name": "stdout",
     "output_type": "stream",
     "text": [
      "{'PropertyData': {'value': '3.3 V', 'specifier': 'voltage', 'compound': {'Compound': {'names': ['NaCl']}}}}\n",
      "{'PropertyData': {'value': '3 mAh / g', 'specifier': 'capacity', 'compound': {'Compound': {'names': ['LiFePO4']}}}}\n"
     ]
    }
   ],
   "source": [
    "for r in record:\n",
    "    print(r.serialize())"
   ]
  },
  {
   "cell_type": "code",
   "execution_count": 9,
   "id": "e1ab95de",
   "metadata": {},
   "outputs": [
    {
     "name": "stdout",
     "output_type": "stream",
     "text": [
      "[Span('LiFePO4', 97, 104), Span('LiFePO4', 33, 40), Span('NaCl', 66, 70)]\n"
     ]
    }
   ],
   "source": [
    "print(doc.cems)"
   ]
  },
  {
   "cell_type": "code",
   "execution_count": 10,
   "id": "ae31139d",
   "metadata": {},
   "outputs": [
    {
     "name": "stderr",
     "output_type": "stream",
     "text": [
      "Asking to truncate to max_length but no maximum length is provided and the model has no predefined maximum length. Default to no truncation.\n"
     ]
    },
    {
     "name": "stdout",
     "output_type": "stream",
     "text": [
      "[{'PropertyData': {'value': '146-147 ° C', 'specifier': 'mp', 'compound': {'Compound': {'names': ['4-Acetylamino-3-chloro-6-(4-cyano-2,6-difluoro-3-methoxyphenyl)pyridine-2-carboxylic']}}}}]\n"
     ]
    }
   ],
   "source": [
    "property_name = \"mp\"\n",
    "context = '4-Acetylamino-3-chloro-6-(4-cyano-2,6-difluoro-3-methoxyphenyl)pyridine-2-carboxylic acid: mp 146-147 °C.'\n",
    "doc2 = Document(context)\n",
    "doc2.add_models_by_names([property_name])\n",
    "print(doc2.records.serialize())"
   ]
  },
  {
   "cell_type": "code",
   "execution_count": 11,
   "id": "8c45dfd2",
   "metadata": {},
   "outputs": [
    {
     "name": "stderr",
     "output_type": "stream",
     "text": [
      "Asking to truncate to max_length but no maximum length is provided and the model has no predefined maximum length. Default to no truncation.\n"
     ]
    },
    {
     "name": "stdout",
     "output_type": "stream",
     "text": [
      "[{'PropertyData': {'value': '282.6 ° C', 'specifier': 'glass transition temperature', 'compound': {'Compound': {'names': ['poly(azide)']}}}}]\n"
     ]
    }
   ],
   "source": [
    "property_name = \"glass transition temperature\"\n",
    "context = 'The poly(azide) shows a glass transition temperature of 282.6 °C.'\n",
    "doc3 = Document(context)\n",
    "doc3.add_models_by_names([property_name])\n",
    "print(doc3.records.serialize())\n",
    "#CDE result: just 282.6, no material"
   ]
  },
  {
   "cell_type": "code",
   "execution_count": 12,
   "id": "ba53531a",
   "metadata": {},
   "outputs": [
    {
     "name": "stderr",
     "output_type": "stream",
     "text": [
      "Asking to truncate to max_length but no maximum length is provided and the model has no predefined maximum length. Default to no truncation.\n"
     ]
    },
    {
     "name": "stdout",
     "output_type": "stream",
     "text": [
      "[{'PropertyData': {'value': '372 ± 2.4 mAh g−1', 'specifier': 'capacity', 'compound': {'Compound': {'names': ['lithium']}}}}]\n"
     ]
    }
   ],
   "source": [
    "property_name = 'capacity'\n",
    "context = 'The mechanism of lithium intercalation in the so-called ‘soft’ anodes, i.e. graphite or graphitable carbons, is well known: it develops through well-identified, reversible stages, corresponding to progressive intercalation within discrete graphene layers, to reach the formation of LiC6 with a maximum theoretical capacity of 372 ± 2.4 mAh g−1.'\n",
    "doc4 = Document(context)\n",
    "doc4.add_models_by_names([property_name])\n",
    "print(doc4.records.serialize())"
   ]
  },
  {
   "cell_type": "markdown",
   "id": "7ef493b2",
   "metadata": {},
   "source": [
    "TODO:\n",
    "\n",
    "- Define relations between compound and property.\n",
    "- More complicated case (e.g. A long paragraph including multiple properties or materials)\n",
    "- Incorporate/Embed \"Unit Model\" into it - (Maybe compare the performance? - Should increase the precision but reduce recall)\n",
    "- General Parser (Non-property parser): Anode/Cathode/Electrolyte; Apparatus\n",
    "- Definition?\n",
    "- Bootstrap option?"
   ]
  },
  {
   "cell_type": "code",
   "execution_count": 16,
   "id": "36e206c4",
   "metadata": {},
   "outputs": [
    {
     "name": "stderr",
     "output_type": "stream",
     "text": [
      "Asking to truncate to max_length but no maximum length is provided and the model has no predefined maximum length. Default to no truncation.\n"
     ]
    },
    {
     "name": "stdout",
     "output_type": "stream",
     "text": [
      "[{'PropertyData': {'value': '372 ± 2.4 mAh g−1', 'specifier': 'capacity', 'compound': {'Compound': {'names': ['lithium']}}}}]\n"
     ]
    }
   ],
   "source": [
    "property_name = 'capacity'\n",
    "context = 'The mechanism of lithium intercalation in the so-called ‘soft’ anodes, i.e. graphite or graphitable carbons, is well known: it develops through well-identified, reversible stages, corresponding to progressive intercalation within discrete graphene layers, to reach the formation of LiC6 with a maximum theoretical capacity of 372 ± 2.4 mAh g−1.'\n",
    "doc4 = Document(context)\n",
    "doc4.add_models_by_names([property_name])\n",
    "print(doc4.records.serialize())"
   ]
  },
  {
   "cell_type": "code",
   "execution_count": null,
   "id": "c38ef110",
   "metadata": {},
   "outputs": [],
   "source": []
  }
 ],
 "metadata": {
  "kernelspec": {
   "display_name": "Python 3",
   "language": "python",
   "name": "python3"
  },
  "language_info": {
   "codemirror_mode": {
    "name": "ipython",
    "version": 3
   },
   "file_extension": ".py",
   "mimetype": "text/x-python",
   "name": "python",
   "nbconvert_exporter": "python",
   "pygments_lexer": "ipython3",
   "version": "3.8.8"
  }
 },
 "nbformat": 4,
 "nbformat_minor": 5
}
